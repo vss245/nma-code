{
  "nbformat": 4,
  "nbformat_minor": 0,
  "metadata": {
    "colab": {
      "name": "hcp_fmri_analysis.ipynb",
      "provenance": [],
      "collapsed_sections": [],
      "toc_visible": true,
      "include_colab_link": true
    },
    "kernelspec": {
      "name": "python3",
      "display_name": "Python 3"
    }
  },
  "cells": [
    {
      "cell_type": "markdown",
      "metadata": {
        "id": "view-in-github",
        "colab_type": "text"
      },
      "source": [
        "<a href=\"https://colab.research.google.com/github/vss245/nma_code/blob/master/hcp_fmri_analysis.ipynb\" target=\"_parent\"><img src=\"https://colab.research.google.com/assets/colab-badge.svg\" alt=\"Open In Colab\"/></a>"
      ]
    },
    {
      "cell_type": "markdown",
      "metadata": {
        "id": "vATxcnlSUEqv",
        "colab_type": "text"
      },
      "source": [
        "# Intro and theory\n",
        "Dataset: HCP fMRI dataset, preprocessed and parcellated into 360 ROIs\n",
        "\n",
        "Task: Observing shapes moving either randomly or appearing to interact \"socially\"\n",
        " \n",
        "Question: how does the brain encode viewing social interaction?\n",
        "\n",
        "ROIs: temporoparietal junction, superior temporal sulcus, medial prefrontal cortex, fusiform gyrus, occipital gyrus, amygdala, insula \n",
        "\n",
        "Model: \n",
        "- ROIs indicated above interact with each other throughout this process of observing social interaction\n",
        "- We can measure this interaction via effective connectivity (e.g. Granger causality)\n",
        "- Viewing social interaction will increase GC between the ROIs, whereas random motion will not (control: random network, such as lower visual areas) \n",
        "\n",
        "Approach:\n",
        "- extract time series for every subject for these ROIs in both conditions\n",
        "- calculate GC between them (multivariate GC? fit a VAR?)\n",
        "\n",
        "Hypothesis: viewing social interaction increases connectivity between areas within the \"social network\" of the brain\n",
        "\n",
        "Statistics: \n",
        "- due to the structure of the experiment, we obtain GC separately for each condition per run and average across runs\n",
        "- after that, we have 1 GC value per condition per pairs of regions per subject (potentially we can subtract the two GC values and just look at the GC condition difference per pairs of regions per subject)\n",
        "- group level stats: ANOVA \n"
      ]
    },
    {
      "cell_type": "code",
      "metadata": {
        "id": "t3skn13iG1Em",
        "colab_type": "code",
        "colab": {}
      },
      "source": [
        "import os\n",
        "import numpy as np\n",
        "import matplotlib.pyplot as plt\n",
        "import pandas as pd"
      ],
      "execution_count": 1,
      "outputs": []
    },
    {
      "cell_type": "markdown",
      "metadata": {
        "id": "v-F2lyLgG-4u",
        "colab_type": "text"
      },
      "source": [
        "# Parameters"
      ]
    },
    {
      "cell_type": "code",
      "metadata": {
        "id": "iDZlL8KNG3zO",
        "colab_type": "code",
        "colab": {}
      },
      "source": [
        "# The download cells will store the data in nested directories starting here:\n",
        "HCP_DIR = \"./hcp\"\n",
        "if not os.path.isdir(HCP_DIR):\n",
        "  os.mkdir(HCP_DIR)\n",
        "\n",
        "# The data shared for NMA projects is a subset of the full HCP dataset\n",
        "N_SUBJECTS = 339\n",
        "\n",
        "# The data have already been aggregated into ROIs from the Glasesr parcellation\n",
        "N_PARCELS = 360\n",
        "\n",
        "# The acquisition parameters for all tasks were identical\n",
        "TR = 0.72  # Time resolution, in sec\n",
        "\n",
        "# The parcels are matched across hemispheres with the same order\n",
        "HEMIS = [\"Right\", \"Left\"]\n",
        "\n",
        "# Each experiment was repeated multiple times in each subject\n",
        "N_RUNS_REST = 4\n",
        "N_RUNS_TASK = 2\n",
        "\n",
        "# Time series data are organized by experiment, with each experiment\n",
        "# having an LR and RL (phase-encode direction) acquistion\n",
        "BOLD_NAMES = [\n",
        "  \"rfMRI_REST1_LR\", \"rfMRI_REST1_RL\",\n",
        "  \"rfMRI_REST2_LR\", \"rfMRI_REST2_RL\",\n",
        "  \"tfMRI_MOTOR_RL\", \"tfMRI_MOTOR_LR\",\n",
        "  \"tfMRI_WM_RL\", \"tfMRI_WM_LR\",\n",
        "  \"tfMRI_EMOTION_RL\", \"tfMRI_EMOTION_LR\",\n",
        "  \"tfMRI_GAMBLING_RL\", \"tfMRI_GAMBLING_LR\",\n",
        "  \"tfMRI_LANGUAGE_RL\", \"tfMRI_LANGUAGE_LR\",\n",
        "  \"tfMRI_RELATIONAL_RL\", \"tfMRI_RELATIONAL_LR\",\n",
        "  \"tfMRI_SOCIAL_RL\", \"tfMRI_SOCIAL_LR\"\n",
        "]\n",
        "\n",
        "# You may want to limit the subjects used during code development.\n",
        "# This will use all subjects:\n",
        "subjects = range(N_SUBJECTS)"
      ],
      "execution_count": 2,
      "outputs": []
    },
    {
      "cell_type": "markdown",
      "metadata": {
        "id": "jikvS2czHFRo",
        "colab_type": "text"
      },
      "source": [
        "# Loading functions"
      ]
    },
    {
      "cell_type": "code",
      "metadata": {
        "id": "kkNre_7iG6wF",
        "colab_type": "code",
        "colab": {}
      },
      "source": [
        "fname = \"hcp_task.tgz\"\n",
        "if not os.path.exists(fname):\n",
        "  !wget -qO $fname https://osf.io/s4h8j/download/\n",
        "  !tar -xzf $fname -C $HCP_DIR --strip-components=1"
      ],
      "execution_count": 3,
      "outputs": []
    },
    {
      "cell_type": "code",
      "metadata": {
        "id": "GWS3b16CI3l8",
        "colab_type": "code",
        "cellView": "form",
        "colab": {}
      },
      "source": [
        "#@title Helper functions: get image index, load_timeseries, load_evs (provided)\n",
        "def get_image_ids(name):\n",
        "  \"\"\"Get the 1-based image indices for runs in a given experiment.\n",
        "\n",
        "    Args:\n",
        "      name (str) : Name of experiment (\"rest\" or name of task) to load\n",
        "    Returns:\n",
        "      run_ids (list of int) : Numeric ID for experiment image files\n",
        "\n",
        "  \"\"\"\n",
        "  run_ids = [\n",
        "    i for i, code in enumerate(BOLD_NAMES, 1) if name.upper() in code\n",
        "  ]\n",
        "  if not run_ids:\n",
        "    raise ValueError(f\"Found no data for '{name}''\")\n",
        "  return run_ids\n",
        "\n",
        "def load_timeseries(subject, name, runs=None, concat=True, remove_mean=True):\n",
        "  \"\"\"Load timeseries data for a single subject.\n",
        "  \n",
        "  Args:\n",
        "    subject (int): 0-based subject ID to load\n",
        "    name (str) : Name of experiment (\"rest\" or name of task) to load\n",
        "    run (None or int or list of ints): 0-based run(s) of the task to load,\n",
        "      or None to load all runs.\n",
        "    concat (bool) : If True, concatenate multiple runs in time\n",
        "    remove_mean (bool) : If True, subtract the parcel-wise mean\n",
        "\n",
        "  Returns\n",
        "    ts (n_parcel x n_tp array): Array of BOLD data values\n",
        "\n",
        "  \"\"\"\n",
        "  # Get the list relative 0-based index of runs to use\n",
        "  if runs is None:\n",
        "    runs = range(N_RUNS_REST) if name == \"rest\" else range(N_RUNS_TASK)\n",
        "  elif isinstance(runs, int):\n",
        "    runs = [runs]\n",
        "\n",
        "  # Get the first (1-based) run id for this experiment \n",
        "  offset = get_image_ids(name)[0]\n",
        "\n",
        "  # Load each run's data\n",
        "  bold_data = [\n",
        "      load_single_timeseries(subject, offset + run, remove_mean) for run in runs\n",
        "  ]\n",
        "\n",
        "  # Optionally concatenate in time\n",
        "  if concat:\n",
        "    bold_data = np.concatenate(bold_data, axis=-1)\n",
        "\n",
        "  return bold_data\n",
        "\n",
        "\n",
        "def load_single_timeseries(subject, bold_run, remove_mean=True):\n",
        "  \"\"\"Load timeseries data for a single subject and single run.\n",
        "  \n",
        "  Args:\n",
        "    subject (int): 0-based subject ID to load\n",
        "    bold_run (int): 1-based run index, across all tasks\n",
        "    remove_mean (bool): If True, subtract the parcel-wise mean\n",
        "\n",
        "  Returns\n",
        "    ts (n_parcel x n_timepoint array): Array of BOLD data values\n",
        "\n",
        "  \"\"\"\n",
        "  bold_path = f\"{HCP_DIR}/subjects/{subject}/timeseries\"\n",
        "  bold_file = f\"bold{bold_run}_Atlas_MSMAll_Glasser360Cortical.npy\"\n",
        "  ts = np.load(f\"{bold_path}/{bold_file}\")\n",
        "  if remove_mean:\n",
        "    ts -= ts.mean(axis=1, keepdims=True)\n",
        "  return ts\n",
        "\n",
        "def load_evs(subject, name, condition):\n",
        "  \"\"\"Load EV (explanatory variable) data for one task condition.\n",
        "\n",
        "  Args:\n",
        "    subject (int): 0-based subject ID to load\n",
        "    name (str) : Name of task\n",
        "    condition (str) : Name of condition\n",
        "\n",
        "  Returns\n",
        "    evs (list of dicts): A dictionary with the onset, duration, and amplitude\n",
        "      of the condition for each run.\n",
        "\n",
        "  \"\"\"\n",
        "  evs = []\n",
        "  for id in get_image_ids(name):\n",
        "    task_key = BOLD_NAMES[id - 1]\n",
        "    ev_file = f\"{HCP_DIR}/subjects/{subject}/EVs/{task_key}/{condition}.txt\"\n",
        "    ev = dict(zip([\"onset\", \"duration\", \"amplitude\"], np.genfromtxt(ev_file).T))\n",
        "    evs.append(ev)\n",
        "  return evs\n",
        "\n",
        "def condition_frames(run_evs, skip=0):\n",
        "  \"\"\"Identify timepoints corresponding to a given condition in each run.\n",
        "\n",
        "  Args:\n",
        "    run_evs (list of dicts) : Onset and duration of the event, per run\n",
        "    skip (int) : Ignore this many frames at the start of each trial, to account\n",
        "      for hemodynamic lag\n",
        "\n",
        "  Returns:\n",
        "    frames_list (list of 1D arrays): Flat arrays of frame indices, per run\n",
        "\n",
        "  \"\"\"\n",
        "  frames_list = []\n",
        "  for ev in run_evs:\n",
        "\n",
        "    # Determine when trial starts, rounded down\n",
        "    start = np.floor(ev[\"onset\"] / TR).astype(int)\n",
        "\n",
        "    # Use trial duration to determine how many frames to include for trial\n",
        "    duration = np.ceil(ev[\"duration\"] / TR).astype(int)\n",
        "\n",
        "    # Take the range of frames that correspond to this specific trial\n",
        "    frames = [s + np.arange(skip, d) for s, d in zip(start, duration)]\n",
        "\n",
        "    frames_list.append(np.concatenate(frames))\n",
        "\n",
        "  return frames_list\n",
        "\n",
        "\n",
        "def selective_average(timeseries_data, ev, skip=0):\n",
        "  \"\"\"Take the temporal mean across frames for a given condition.\n",
        "\n",
        "  Args:\n",
        "    timeseries_data (array or list of arrays): n_parcel x n_tp arrays\n",
        "    ev (dict or list of dicts): Condition timing information\n",
        "    skip (int) : Ignore this many frames at the start of each trial, to account\n",
        "      for hemodynamic lag\n",
        "\n",
        "  Returns:\n",
        "    avg_data (1D array): Data averaged across selected image frames based\n",
        "    on condition timing\n",
        "\n",
        "  \"\"\"\n",
        "  # Ensure that we have lists of the same length\n",
        "  if not isinstance(timeseries_data, list):\n",
        "    timeseries_data = [timeseries_data]\n",
        "  if not isinstance(ev, list):\n",
        "    ev = [ev]\n",
        "  if len(timeseries_data) != len(ev):\n",
        "    raise ValueError(\"Length of `timeseries_data` and `ev` must match.\")\n",
        "\n",
        "  # Identify the indices of relevant frames\n",
        "  frames = condition_frames(ev)\n",
        "\n",
        "  # Select the frames from each image\n",
        "  selected_data = []\n",
        "  for run_data, run_frames in zip(timeseries_data, frames):\n",
        "    selected_data.append(run_data[:, run_frames])\n",
        "\n",
        "  # Take the average in each parcel\n",
        "  avg_data = np.concatenate(selected_data, axis=-1).mean(axis=-1)\n",
        "\n",
        "  return avg_data"
      ],
      "execution_count": 4,
      "outputs": []
    },
    {
      "cell_type": "markdown",
      "metadata": {
        "id": "GRgj7FnDHKbQ",
        "colab_type": "text"
      },
      "source": [
        "## Region info"
      ]
    },
    {
      "cell_type": "code",
      "metadata": {
        "id": "oXfFWz7qHJnk",
        "colab_type": "code",
        "colab": {}
      },
      "source": [
        "# get region info from data\n",
        "regions = np.load(f\"{HCP_DIR}/regions.npy\").T\n",
        "region_info = dict(\n",
        "    name=regions[0].tolist(),\n",
        "    network=regions[1],\n",
        "    myelin=regions[2].astype(np.float),\n",
        ")\n",
        "\n",
        "regionsdf = pd.DataFrame.from_dict(region_info)\n",
        "# make a dictionary with all of the above, figure out details later - mPFC?\n",
        "roi_names = ['STS', 'TPOJ', 'ACC_mPFC', 'fusiform', 'insula']\n",
        "roi_codes = [['STSdp', 'STSda', 'STSvp', 'STSva'],\n",
        "            ['TPOJ1',  'TPOJ2',  'TPOJ3'],\n",
        "             #'33pr' (coordinating emotion),  'p24pr' (stimulus and response selection during cognitively demanding tasks),  'a24pr',  'p24',  'a24' - ACC (may not be relevant to the task)\n",
        "             #'p32pr' (SFG, stimulus response selection), \n",
        "             #'s32 (higher order role in emotional affect as well as reward expectation)\n",
        "             # 8BM (coordinating visuospatial information)\n",
        "             # '9m' increased activity when monitoring multiple pieces of spatialinformation\n",
        "             #10 r (importance in concentration and working memory)\n",
        "            ['a32pr',  'd32' 'p32', '10v',  '10r', '25'],\n",
        "            ['FFC'],  \n",
        "            ['Ig']]\n",
        "\n",
        "# loop over all subregions within a region, get the indices, combine\n",
        "\n",
        "def load_subject_rois(subject,run):\n",
        "  '''\n",
        "  Takes:\n",
        "    subject index\n",
        "    run index\n",
        "  Returns:\n",
        "    region x timeseries\n",
        "  Load all ROI timeseries for each subject and run \n",
        "  Average between all the subregions => 1 ROI time series\n",
        "  '''\n",
        "\n",
        "  ts = np.squeeze(load_timeseries(subject,'SOCIAL',runs=run,concat=False))\n",
        "  ts_all_rois = []\n",
        "  roi_indexes = []\n",
        "  for r in range(len(roi_names)):\n",
        "    subreg_indexes = []\n",
        "    for sr in roi_codes[r]:\n",
        "      index_list = regionsdf.index[regionsdf['name'].str.contains(sr)].tolist()\n",
        "      subreg_indexes = subreg_indexes + index_list\n",
        "    roi_indexes.append(subreg_indexes)\n",
        "\n",
        "  for r in range(len(roi_names)):\n",
        "    ts_roi = np.mean(ts[roi_indexes[r],],0)\n",
        "    ts_all_rois.append(ts_roi)\n",
        "  return ts_all_rois\n",
        "\n",
        "#by Ruben\n",
        "def get_ts_condition(ts,subject,task,run,condition):\n",
        "  \"\"\"\n",
        "  Loads HCP timeseries data for the specified subject and run and condition.\n",
        "\n",
        "  INPUTS:\n",
        "    ts: timeseries (Nregions x Ntimepoints)\n",
        "    subject: subject number\n",
        "    task: task name\n",
        "    run: run number\n",
        "    condition: condition name\n",
        "\n",
        "  OUTPUT:\n",
        "    timeseries of condition for the subject and run, divided by blocks.\n",
        "    Returns a Nregions x Nblocks x time array.\n",
        "  \n",
        "  \"\"\"\n",
        "\n",
        "  # Load block onsets\n",
        "  evs = load_evs(subject,task,condition)\n",
        "\n",
        "  # Get all frames for condition in run\n",
        "  frames = condition_frames(evs)\n",
        "  frames = frames[run]\n",
        "\n",
        "  # Separate frames by blocks (split where frames numbers increase > 1)\n",
        "  frames = np.split(frames, np.where(np.diff(frames)>1)[0] + 1)\n",
        "\n",
        "  # Initialize output array of shape Nregions x Nblocks x Ntime_frames_per_block\n",
        "  ts_condition = np.zeros((np.shape(ts)[0],np.shape(frames)[0],np.shape(frames)[1]))\n",
        "\n",
        "  # Fill per block and region\n",
        "  for block in range(np.shape(frames)[0]):\n",
        "    for region in range(np.shape(ts)[0]):\n",
        "      ts_condition[region,block,:] = ts[region][frames[block]]\n",
        "  \n",
        "  return ts_condition"
      ],
      "execution_count": 78,
      "outputs": []
    },
    {
      "cell_type": "code",
      "metadata": {
        "id": "4YksE9meH1cK",
        "colab_type": "code",
        "colab": {
          "base_uri": "https://localhost:8080/",
          "height": 282
        },
        "outputId": "91c17baa-2793-45ca-9c1c-698cf81597e1"
      },
      "source": [
        "subject_data = load_subject_rois(0,0)\n",
        "# Pick a random region to compare - V1\n",
        "region1 = subject_data[0]\n",
        "region2 = subject_data[1]\n",
        "plt.plot(region1,label=roi_names[0]) \n",
        "plt.plot(region2,label=roi_names[1]) \n",
        "plt.legend()"
      ],
      "execution_count": 79,
      "outputs": [
        {
          "output_type": "execute_result",
          "data": {
            "text/plain": [
              "<matplotlib.legend.Legend at 0x7fa9c14f4f60>"
            ]
          },
          "metadata": {
            "tags": []
          },
          "execution_count": 79
        },
        {
          "output_type": "display_data",
          "data": {
            "image/png": "[encoded data removed]",
            "text/plain": [
              "<Figure size 432x288 with 1 Axes>"
            ]
          },
          "metadata": {
            "tags": [],
            "needs_background": "light"
          }
        }
      ]
    },
    {
      "cell_type": "code",
      "metadata": {
        "id": "KXDYBUZ__LX0",
        "colab_type": "code",
        "colab": {}
      },
      "source": [
        "https://github.com/ansteeg/NeuroMatchProject/blob/master/atlas/hcp_parcels.csv"
      ],
      "execution_count": null,
      "outputs": []
    },
    {
      "cell_type": "markdown",
      "metadata": {
        "id": "z0sqXIoHH4GP",
        "colab_type": "text"
      },
      "source": [
        "# Granger causality"
      ]
    },
    {
      "cell_type": "code",
      "metadata": {
        "id": "8ImIIXrVgsYj",
        "colab_type": "code",
        "colab": {
          "base_uri": "https://localhost:8080/",
          "height": 411
        },
        "outputId": "3b532b62-9987-4940-dca2-f66869f8676a"
      },
      "source": [
        "!pip install nitime\n",
        "import nitime\n",
        "import nitime.analysis as nta\n",
        "import nitime.timeseries as ts\n",
        "import nitime.utils as tsu"
      ],
      "execution_count": 8,
      "outputs": [
        {
          "output_type": "stream",
          "text": [
            "Collecting nitime\n",
            "\u001b[?25l  Downloading https://files.pythonhosted.org/packages/2e/28/3cb014175d93fd01f2b13250afcace3c19e5abfe36790943f3cc6519a8e2/nitime-0.8.1.tar.gz (9.0MB)\n",
            "\u001b[K     |████████████████████████████████| 9.1MB 2.6MB/s \n",
            "\u001b[?25hRequirement already satisfied: numpy in /usr/local/lib/python3.6/dist-packages (from nitime) (1.18.5)\n",
            "Requirement already satisfied: cython in /usr/local/lib/python3.6/dist-packages (from nitime) (0.29.21)\n",
            "Requirement already satisfied: scipy in /usr/local/lib/python3.6/dist-packages (from nitime) (1.4.1)\n",
            "Requirement already satisfied: matplotlib in /usr/local/lib/python3.6/dist-packages (from nitime) (3.2.2)\n",
            "Requirement already satisfied: networkx in /usr/local/lib/python3.6/dist-packages (from nitime) (2.4)\n",
            "Requirement already satisfied: nibabel in /usr/local/lib/python3.6/dist-packages (from nitime) (3.0.2)\n",
            "Requirement already satisfied: kiwisolver>=1.0.1 in /usr/local/lib/python3.6/dist-packages (from matplotlib->nitime) (1.2.0)\n",
            "Requirement already satisfied: python-dateutil>=2.1 in /usr/local/lib/python3.6/dist-packages (from matplotlib->nitime) (2.8.1)\n",
            "Requirement already satisfied: pyparsing!=2.0.4,!=2.1.2,!=2.1.6,>=2.0.1 in /usr/local/lib/python3.6/dist-packages (from matplotlib->nitime) (2.4.7)\n",
            "Requirement already satisfied: cycler>=0.10 in /usr/local/lib/python3.6/dist-packages (from matplotlib->nitime) (0.10.0)\n",
            "Requirement already satisfied: decorator>=4.3.0 in /usr/local/lib/python3.6/dist-packages (from networkx->nitime) (4.4.2)\n",
            "Requirement already satisfied: six>=1.5 in /usr/local/lib/python3.6/dist-packages (from python-dateutil>=2.1->matplotlib->nitime) (1.15.0)\n",
            "Building wheels for collected packages: nitime\n",
            "  Building wheel for nitime (setup.py) ... \u001b[?25l\u001b[?25hdone\n",
            "  Created wheel for nitime: filename=nitime-0.8.1-cp36-cp36m-linux_x86_64.whl size=4038228 sha256=24dffe20cc5f164f107aa776c61e2f352d86ed462524ad8d450d9ad15916d5ef\n",
            "  Stored in directory: /root/.cache/pip/wheels/74/02/c5/677c895b41dcaf4fd7c4ff436fbdf8a5d846ed90a0a3276073\n",
            "Successfully built nitime\n",
            "Installing collected packages: nitime\n",
            "Successfully installed nitime-0.8.1\n"
          ],
          "name": "stdout"
        }
      ]
    },
    {
      "cell_type": "code",
      "metadata": {
        "id": "2D6dpzWPZAP3",
        "colab_type": "code",
        "colab": {}
      },
      "source": [
        "# Functions from Ruben \n",
        "\n",
        "def calculate_granger_causality(ts,TR,f_ub=0.15,f_lb=0.02,order=None,max_order=10):\n",
        "  \"\"\"\n",
        "  Calculates Granger Causality in timeseries between all regions in both\n",
        "  directions, then calculates the difference between the two. Thus, a positive \n",
        "  value indicates stronger causality for region X on region Y, negative values\n",
        "  vice versa.\n",
        "\n",
        "  INPUT:\n",
        "    ts: time series (Nregions x Ntimepoints)\n",
        "    TR: repetition time of scanner during fMRI data acquisition\n",
        "    f_ub: \"physiologically relevant\" frequency upper bound (Default: 0.15)\n",
        "    f_lb: \"physiologically relevant\" frequency lower bound (Default: 0.02)\n",
        "    order: order of autoregressive model. Default is None, in which case the \n",
        "           order is determined automatically (max is max_order).\n",
        "    max_order: maximum order of autoregressive model (Default: 10)\n",
        "\n",
        "  OUTPUT:\n",
        "    returns \n",
        "  \"\"\"\n",
        "\n",
        "  # Normalize the data in each of the ROIs to be in units of % change \n",
        "  pdata = tsu.percent_change(ts)\n",
        "\n",
        "  # Initialize the TimeSeries object:\n",
        "  time_series = ts.TimeSeries(pdata, sampling_interval=TR)\n",
        "\n",
        "  # Initialize the GrangerAnalyzer object\n",
        "  G = nta.GrangerAnalyzer(time_series,order=order,max_order=max_order)\n",
        "\n",
        "  # We are only interested in the physiologically relevant frequency band \n",
        "  # (specified upper and lower bounds in f_ub and f_lb). Keep only the \n",
        "  # frequencies within that band\n",
        "  freq_idx_G = np.where((G.frequencies > f_lb) * (G.frequencies < f_ub))[0]\n",
        "\n",
        "  # Take the difference of causality in direction XY versus direction YX\n",
        "  GCdiff = np.mean(G.causality_xy[:, :, freq_idx_G] - G.causality_yx[:, :, freq_idx_G], -1)\n",
        "\n",
        "  return GCdiff"
      ],
      "execution_count": 80,
      "outputs": []
    },
    {
      "cell_type": "code",
      "metadata": {
        "id": "0-hGNz2OXEUF",
        "colab_type": "code",
        "colab": {}
      },
      "source": [
        "# define things\n",
        "subject = 0\n",
        "run = 0\n",
        "task = 'SOCIAL'\n",
        "condition = 'mental'\n",
        "# Get data for a particular condition for a subject\n",
        "ts = load_subject_rois(subject,run)\n",
        "subject_info = get_ts_condition(ts,subject,task,run,condition)"
      ],
      "execution_count": 90,
      "outputs": []
    },
    {
      "cell_type": "code",
      "metadata": {
        "id": "W4PMTu63LVq7",
        "colab_type": "code",
        "colab": {}
      },
      "source": [
        "TR = 0.72 # time res\n",
        "f_ub = 0.15\n",
        "f_lb = 0.02 # physiologically relevant freqs"
      ],
      "execution_count": 82,
      "outputs": []
    },
    {
      "cell_type": "code",
      "metadata": {
        "id": "1JmK_QwsL_90",
        "colab_type": "code",
        "colab": {
          "base_uri": "https://localhost:8080/",
          "height": 283
        },
        "outputId": "61f6b842-cad0-4b4f-ffd4-9f2d863c3a07"
      },
      "source": [
        "g_caus = calculate_granger_causality(ts, TR, f_ub, f_lb)"
      ],
      "execution_count": 92,
      "outputs": [
        {
          "output_type": "error",
          "ename": "AttributeError",
          "evalue": "ignored",
          "traceback": [
            "\u001b[0;31m---------------------------------------------------------------------------\u001b[0m",
            "\u001b[0;31mAttributeError\u001b[0m                            Traceback (most recent call last)",
            "\u001b[0;32m<ipython-input-92-2cadc404dd35>\u001b[0m in \u001b[0;36m<module>\u001b[0;34m()\u001b[0m\n\u001b[0;32m----> 1\u001b[0;31m \u001b[0mg_caus\u001b[0m \u001b[0;34m=\u001b[0m \u001b[0mcalculate_granger_causality\u001b[0m\u001b[0;34m(\u001b[0m\u001b[0mts\u001b[0m\u001b[0;34m,\u001b[0m \u001b[0mTR\u001b[0m\u001b[0;34m,\u001b[0m \u001b[0mf_ub\u001b[0m\u001b[0;34m,\u001b[0m \u001b[0mf_lb\u001b[0m\u001b[0;34m)\u001b[0m\u001b[0;34m\u001b[0m\u001b[0;34m\u001b[0m\u001b[0m\n\u001b[0m",
            "\u001b[0;32m<ipython-input-80-d00a128e162d>\u001b[0m in \u001b[0;36mcalculate_granger_causality\u001b[0;34m(ts, TR, f_ub, f_lb, order, max_order)\u001b[0m\n\u001b[1;32m     25\u001b[0m \u001b[0;34m\u001b[0m\u001b[0m\n\u001b[1;32m     26\u001b[0m   \u001b[0;31m# Initialize the TimeSeries object:\u001b[0m\u001b[0;34m\u001b[0m\u001b[0;34m\u001b[0m\u001b[0;34m\u001b[0m\u001b[0m\n\u001b[0;32m---> 27\u001b[0;31m   \u001b[0mtime_series\u001b[0m \u001b[0;34m=\u001b[0m \u001b[0mts\u001b[0m\u001b[0;34m.\u001b[0m\u001b[0mTimeSeries\u001b[0m\u001b[0;34m(\u001b[0m\u001b[0mpdata\u001b[0m\u001b[0;34m,\u001b[0m \u001b[0msampling_interval\u001b[0m\u001b[0;34m=\u001b[0m\u001b[0mTR\u001b[0m\u001b[0;34m)\u001b[0m\u001b[0;34m\u001b[0m\u001b[0;34m\u001b[0m\u001b[0m\n\u001b[0m\u001b[1;32m     28\u001b[0m \u001b[0;34m\u001b[0m\u001b[0m\n\u001b[1;32m     29\u001b[0m   \u001b[0;31m# Initialize the GrangerAnalyzer object\u001b[0m\u001b[0;34m\u001b[0m\u001b[0;34m\u001b[0m\u001b[0;34m\u001b[0m\u001b[0m\n",
            "\u001b[0;31mAttributeError\u001b[0m: 'list' object has no attribute 'TimeSeries'"
          ]
        }
      ]
    },
    {
      "cell_type": "code",
      "metadata": {
        "id": "Exta5bBeMEn2",
        "colab_type": "code",
        "colab": {
          "base_uri": "https://localhost:8080/",
          "height": 232
        },
        "outputId": "31ef2923-2ced-4b8d-b380-c4a8532510d5"
      },
      "source": [
        "plt.imshow(g_caus)"
      ],
      "execution_count": 14,
      "outputs": [
        {
          "output_type": "error",
          "ename": "NameError",
          "evalue": "ignored",
          "traceback": [
            "\u001b[0;31m---------------------------------------------------------------------------\u001b[0m",
            "\u001b[0;31mNameError\u001b[0m                                 Traceback (most recent call last)",
            "\u001b[0;32m<ipython-input-14-abc69071d7ae>\u001b[0m in \u001b[0;36m<module>\u001b[0;34m()\u001b[0m\n\u001b[0;32m----> 1\u001b[0;31m \u001b[0mG\u001b[0m \u001b[0;34m=\u001b[0m \u001b[0mnta\u001b[0m\u001b[0;34m.\u001b[0m\u001b[0mGrangerAnalyzer\u001b[0m\u001b[0;34m(\u001b[0m\u001b[0mtime_series\u001b[0m\u001b[0;34m,\u001b[0m \u001b[0morder\u001b[0m\u001b[0;34m=\u001b[0m\u001b[0;36m1\u001b[0m\u001b[0;34m)\u001b[0m\u001b[0;34m\u001b[0m\u001b[0;34m\u001b[0m\u001b[0m\n\u001b[0m\u001b[1;32m      2\u001b[0m \u001b[0mfreq_idx_G\u001b[0m \u001b[0;34m=\u001b[0m \u001b[0mnp\u001b[0m\u001b[0;34m.\u001b[0m\u001b[0mwhere\u001b[0m\u001b[0;34m(\u001b[0m\u001b[0;34m(\u001b[0m\u001b[0mG\u001b[0m\u001b[0;34m.\u001b[0m\u001b[0mfrequencies\u001b[0m \u001b[0;34m>\u001b[0m \u001b[0mf_lb\u001b[0m\u001b[0;34m)\u001b[0m \u001b[0;34m*\u001b[0m \u001b[0;34m(\u001b[0m\u001b[0mG\u001b[0m\u001b[0;34m.\u001b[0m\u001b[0mfrequencies\u001b[0m \u001b[0;34m<\u001b[0m \u001b[0mf_ub\u001b[0m\u001b[0;34m)\u001b[0m\u001b[0;34m)\u001b[0m\u001b[0;34m[\u001b[0m\u001b[0;36m0\u001b[0m\u001b[0;34m]\u001b[0m \u001b[0;31m# find where relevant frequencies are\u001b[0m\u001b[0;34m\u001b[0m\u001b[0;34m\u001b[0m\u001b[0m\n\u001b[1;32m      3\u001b[0m \u001b[0mg_caus\u001b[0m \u001b[0;34m=\u001b[0m \u001b[0mnp\u001b[0m\u001b[0;34m.\u001b[0m\u001b[0mmean\u001b[0m\u001b[0;34m(\u001b[0m\u001b[0mG\u001b[0m\u001b[0;34m.\u001b[0m\u001b[0mcausality_xy\u001b[0m\u001b[0;34m[\u001b[0m\u001b[0;34m:\u001b[0m\u001b[0;34m,\u001b[0m \u001b[0;34m:\u001b[0m\u001b[0;34m,\u001b[0m \u001b[0mfreq_idx_G\u001b[0m\u001b[0;34m]\u001b[0m \u001b[0;34m-\u001b[0m \u001b[0mG\u001b[0m\u001b[0;34m.\u001b[0m\u001b[0mcausality_yx\u001b[0m\u001b[0;34m[\u001b[0m\u001b[0;34m:\u001b[0m\u001b[0;34m,\u001b[0m \u001b[0;34m:\u001b[0m\u001b[0;34m,\u001b[0m \u001b[0mfreq_idx_G\u001b[0m\u001b[0;34m]\u001b[0m\u001b[0;34m,\u001b[0m\u001b[0;34m-\u001b[0m\u001b[0;36m1\u001b[0m\u001b[0;34m)\u001b[0m \u001b[0;31m# diff between two directions\u001b[0m\u001b[0;34m\u001b[0m\u001b[0;34m\u001b[0m\u001b[0m\n\u001b[1;32m      4\u001b[0m \u001b[0mplt\u001b[0m\u001b[0;34m.\u001b[0m\u001b[0mimshow\u001b[0m\u001b[0;34m(\u001b[0m\u001b[0mg_caus\u001b[0m\u001b[0;34m)\u001b[0m\u001b[0;34m\u001b[0m\u001b[0;34m\u001b[0m\u001b[0m\n",
            "\u001b[0;31mNameError\u001b[0m: name 'time_series' is not defined"
          ]
        }
      ]
    },
    {
      "cell_type": "markdown",
      "metadata": {
        "id": "sq1G7DiFNzR3",
        "colab_type": "text"
      },
      "source": [
        "# ANOVA"
      ]
    },
    {
      "cell_type": "code",
      "metadata": {
        "id": "9SVC55cdN0tf",
        "colab_type": "code",
        "colab": {
          "base_uri": "https://localhost:8080/",
          "height": 54
        },
        "outputId": "1318b549-2cd5-4b27-f3bc-8ed6e1aaa319"
      },
      "source": [
        "# easy way to access the resulting matrix of GC values for all the regions\n",
        "from itertools import combinations \n",
        "#key - pair of region names\n",
        "#value - indices in GCdiff\n",
        "pairs = list(combinations([0,1,2,3,4], 2))\n",
        "region_pairs_GC = {}\n",
        "for i in range(len(pairs)):\n",
        "  key = roi_names[pairs[i][0]] + '_' + roi_names[pairs[i][1]]\n",
        "  region_pairs_GC[key] = pairs[i]\n",
        "print(region_pairs_GC)"
      ],
      "execution_count": 32,
      "outputs": [
        {
          "output_type": "stream",
          "text": [
            "{'STS_TPOJ': (0, 1), 'STS_ACC_mPFC': (0, 2), 'STS_fusiform': (0, 3), 'STS_insula': (0, 4), 'TPOJ_ACC_mPFC': (1, 2), 'TPOJ_fusiform': (1, 3), 'TPOJ_insula': (1, 4), 'ACC_mPFC_fusiform': (2, 3), 'ACC_mPFC_insula': (2, 4), 'fusiform_insula': (3, 4)}\n"
          ],
          "name": "stdout"
        }
      ]
    },
    {
      "cell_type": "code",
      "metadata": {
        "id": "a2H7y5uBvCZ5",
        "colab_type": "code",
        "colab": {
          "base_uri": "https://localhost:8080/",
          "height": 419
        },
        "outputId": "82dfdc1f-014c-46de-9d42-8dcc854e592e"
      },
      "source": [
        "# result - 4 columns (subject, region pair, condition, GC diff)\n",
        "subjects = range(0,101)\n",
        "conditions = ['mental','random']\n",
        "columns = ['subject','region_pair', 'condition', 'gc_diff']\n",
        "df = pd.DataFrame(columns=columns)\n",
        "for subject in subjects:\n",
        "  for condition in conditions:\n",
        "    for rp in region_pairs_GC:\n",
        "      df = df.append({\n",
        "     \"subject\": subject,\n",
        "     \"region_pair\":  rp,\n",
        "     \"condition\": condition,\n",
        "     \"gc_diff\": np.random.random()\n",
        "      }, ignore_index=True)\n",
        "df"
      ],
      "execution_count": 95,
      "outputs": [
        {
          "output_type": "execute_result",
          "data": {
            "text/html": [
              "<div>\n",
              "<style scoped>\n",
              "    .dataframe tbody tr th:only-of-type {\n",
              "        vertical-align: middle;\n",
              "    }\n",
              "\n",
              "    .dataframe tbody tr th {\n",
              "        vertical-align: top;\n",
              "    }\n",
              "\n",
              "    .dataframe thead th {\n",
              "        text-align: right;\n",
              "    }\n",
              "</style>\n",
              "<table border=\"1\" class=\"dataframe\">\n",
              "  <thead>\n",
              "    <tr style=\"text-align: right;\">\n",
              "      <th></th>\n",
              "      <th>subject</th>\n",
              "      <th>region_pair</th>\n",
              "      <th>condition</th>\n",
              "      <th>gc_diff</th>\n",
              "    </tr>\n",
              "  </thead>\n",
              "  <tbody>\n",
              "    <tr>\n",
              "      <th>0</th>\n",
              "      <td>0</td>\n",
              "      <td>STS_TPOJ</td>\n",
              "      <td>mental</td>\n",
              "      <td>0.822908</td>\n",
              "    </tr>\n",
              "    <tr>\n",
              "      <th>1</th>\n",
              "      <td>0</td>\n",
              "      <td>STS_ACC_mPFC</td>\n",
              "      <td>mental</td>\n",
              "      <td>0.394290</td>\n",
              "    </tr>\n",
              "    <tr>\n",
              "      <th>2</th>\n",
              "      <td>0</td>\n",
              "      <td>STS_fusiform</td>\n",
              "      <td>mental</td>\n",
              "      <td>0.478723</td>\n",
              "    </tr>\n",
              "    <tr>\n",
              "      <th>3</th>\n",
              "      <td>0</td>\n",
              "      <td>STS_insula</td>\n",
              "      <td>mental</td>\n",
              "      <td>0.248066</td>\n",
              "    </tr>\n",
              "    <tr>\n",
              "      <th>4</th>\n",
              "      <td>0</td>\n",
              "      <td>TPOJ_ACC_mPFC</td>\n",
              "      <td>mental</td>\n",
              "      <td>0.211449</td>\n",
              "    </tr>\n",
              "    <tr>\n",
              "      <th>...</th>\n",
              "      <td>...</td>\n",
              "      <td>...</td>\n",
              "      <td>...</td>\n",
              "      <td>...</td>\n",
              "    </tr>\n",
              "    <tr>\n",
              "      <th>2015</th>\n",
              "      <td>100</td>\n",
              "      <td>TPOJ_fusiform</td>\n",
              "      <td>random</td>\n",
              "      <td>0.013215</td>\n",
              "    </tr>\n",
              "    <tr>\n",
              "      <th>2016</th>\n",
              "      <td>100</td>\n",
              "      <td>TPOJ_insula</td>\n",
              "      <td>random</td>\n",
              "      <td>0.280980</td>\n",
              "    </tr>\n",
              "    <tr>\n",
              "      <th>2017</th>\n",
              "      <td>100</td>\n",
              "      <td>ACC_mPFC_fusiform</td>\n",
              "      <td>random</td>\n",
              "      <td>0.379865</td>\n",
              "    </tr>\n",
              "    <tr>\n",
              "      <th>2018</th>\n",
              "      <td>100</td>\n",
              "      <td>ACC_mPFC_insula</td>\n",
              "      <td>random</td>\n",
              "      <td>0.607866</td>\n",
              "    </tr>\n",
              "    <tr>\n",
              "      <th>2019</th>\n",
              "      <td>100</td>\n",
              "      <td>fusiform_insula</td>\n",
              "      <td>random</td>\n",
              "      <td>0.640279</td>\n",
              "    </tr>\n",
              "  </tbody>\n",
              "</table>\n",
              "<p>2020 rows × 4 columns</p>\n",
              "</div>"
            ],
            "text/plain": [
              "     subject        region_pair condition   gc_diff\n",
              "0          0           STS_TPOJ    mental  0.822908\n",
              "1          0       STS_ACC_mPFC    mental  0.394290\n",
              "2          0       STS_fusiform    mental  0.478723\n",
              "3          0         STS_insula    mental  0.248066\n",
              "4          0      TPOJ_ACC_mPFC    mental  0.211449\n",
              "...      ...                ...       ...       ...\n",
              "2015     100      TPOJ_fusiform    random  0.013215\n",
              "2016     100        TPOJ_insula    random  0.280980\n",
              "2017     100  ACC_mPFC_fusiform    random  0.379865\n",
              "2018     100    ACC_mPFC_insula    random  0.607866\n",
              "2019     100    fusiform_insula    random  0.640279\n",
              "\n",
              "[2020 rows x 4 columns]"
            ]
          },
          "metadata": {
            "tags": []
          },
          "execution_count": 95
        }
      ]
    },
    {
      "cell_type": "code",
      "metadata": {
        "id": "hV3axXAP4Pf-",
        "colab_type": "code",
        "colab": {
          "base_uri": "https://localhost:8080/",
          "height": 119
        },
        "outputId": "1876d307-5a27-4a36-f842-3baa72d167ed"
      },
      "source": [
        "import scipy.stats as stats\n",
        "import statsmodels.api as sm\n",
        "from statsmodels.formula.api import ols\n",
        "mod = ols('gc_diff ~ condition*region_pair', data=df).fit()\n",
        "aov_table = sm.stats.anova_lm(mod, typ=3)\n",
        "print(aov_table)"
      ],
      "execution_count": 100,
      "outputs": [
        {
          "output_type": "stream",
          "text": [
            "                           sum_sq      df           F        PR(>F)\n",
            "Intercept               22.151760     1.0  277.271653  2.100052e-58\n",
            "condition                0.025375     1.0    0.317621  5.731039e-01\n",
            "region_pair              0.755262     9.0    1.050394  3.970087e-01\n",
            "condition:region_pair    0.640704     9.0    0.891070  5.323743e-01\n",
            "Residual               159.783808  2000.0         NaN           NaN\n"
          ],
          "name": "stdout"
        }
      ]
    }
  ]
}