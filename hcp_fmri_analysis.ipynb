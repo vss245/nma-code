{
  "nbformat": 4,
  "nbformat_minor": 0,
  "metadata": {
    "colab": {
      "name": "hcp_fmri_analysis.ipynb",
      "provenance": [],
      "collapsed_sections": []
    },
    "kernelspec": {
      "name": "python3",
      "display_name": "Python 3"
    }
  },
  "cells": [
    {
      "cell_type": "markdown",
      "metadata": {
        "id": "vATxcnlSUEqv",
        "colab_type": "text"
      },
      "source": [
        "# Intro and theory\n",
        "Dataset: HCP fMRI dataset, preprocessed and parcellated into 360 ROIs\n",
        "\n",
        "Task: Observing shapes moving either randomly or appearing to interact \"socially\"\n",
        " \n",
        "Question: how does the brain encode viewing social interaction?\n",
        "\n",
        "ROIs: temporoparietal junction, superior temporal sulcus, medial prefrontal cortex, fusiform gyrus, occipital gyrus, amygdala, insula \n",
        "\n",
        "Model: \n",
        "- ROIs indicated above interact with each other throughout this process of observing social interaction\n",
        "- We can measure this interaction via effective connectivity (e.g. Granger causality)\n",
        "- Viewing social interaction will increase GC between the ROIs, whereas random motion will not (control: random network, such as lower visual areas) \n",
        "\n",
        "Approach:\n",
        "- extract time series for every subject for these ROIs in both conditions\n",
        "- calculate GC between them (multivariate GC? fit a VAR?)\n",
        "\n",
        "Hypothesis: viewing social interaction increases connectivity between areas within the \"social network\" of the brain\n"
      ]
    },
    {
      "cell_type": "code",
      "metadata": {
        "id": "t3skn13iG1Em",
        "colab_type": "code",
        "colab": {}
      },
      "source": [
        "import os\n",
        "import numpy as np\n",
        "import matplotlib.pyplot as plt\n",
        "import pandas as pd"
      ],
      "execution_count": 1,
      "outputs": []
    },
    {
      "cell_type": "markdown",
      "metadata": {
        "id": "v-F2lyLgG-4u",
        "colab_type": "text"
      },
      "source": [
        "# Parameters"
      ]
    },
    {
      "cell_type": "code",
      "metadata": {
        "id": "iDZlL8KNG3zO",
        "colab_type": "code",
        "colab": {}
      },
      "source": [
        "# The download cells will store the data in nested directories starting here:\n",
        "HCP_DIR = \"./hcp\"\n",
        "if not os.path.isdir(HCP_DIR):\n",
        "  os.mkdir(HCP_DIR)\n",
        "\n",
        "# The data shared for NMA projects is a subset of the full HCP dataset\n",
        "N_SUBJECTS = 339\n",
        "\n",
        "# The data have already been aggregated into ROIs from the Glasesr parcellation\n",
        "N_PARCELS = 360\n",
        "\n",
        "# The acquisition parameters for all tasks were identical\n",
        "TR = 0.72  # Time resolution, in sec\n",
        "\n",
        "# The parcels are matched across hemispheres with the same order\n",
        "HEMIS = [\"Right\", \"Left\"]\n",
        "\n",
        "# Each experiment was repeated multiple times in each subject\n",
        "N_RUNS_REST = 4\n",
        "N_RUNS_TASK = 2\n",
        "\n",
        "# Time series data are organized by experiment, with each experiment\n",
        "# having an LR and RL (phase-encode direction) acquistion\n",
        "BOLD_NAMES = [\n",
        "  \"rfMRI_REST1_LR\", \"rfMRI_REST1_RL\",\n",
        "  \"rfMRI_REST2_LR\", \"rfMRI_REST2_RL\",\n",
        "  \"tfMRI_MOTOR_RL\", \"tfMRI_MOTOR_LR\",\n",
        "  \"tfMRI_WM_RL\", \"tfMRI_WM_LR\",\n",
        "  \"tfMRI_EMOTION_RL\", \"tfMRI_EMOTION_LR\",\n",
        "  \"tfMRI_GAMBLING_RL\", \"tfMRI_GAMBLING_LR\",\n",
        "  \"tfMRI_LANGUAGE_RL\", \"tfMRI_LANGUAGE_LR\",\n",
        "  \"tfMRI_RELATIONAL_RL\", \"tfMRI_RELATIONAL_LR\",\n",
        "  \"tfMRI_SOCIAL_RL\", \"tfMRI_SOCIAL_LR\"\n",
        "]\n",
        "\n",
        "# You may want to limit the subjects used during code development.\n",
        "# This will use all subjects:\n",
        "subjects = range(N_SUBJECTS)"
      ],
      "execution_count": 2,
      "outputs": []
    },
    {
      "cell_type": "markdown",
      "metadata": {
        "id": "jikvS2czHFRo",
        "colab_type": "text"
      },
      "source": [
        "# Loading functions"
      ]
    },
    {
      "cell_type": "code",
      "metadata": {
        "id": "kkNre_7iG6wF",
        "colab_type": "code",
        "colab": {}
      },
      "source": [
        "fname = \"hcp_task.tgz\"\n",
        "if not os.path.exists(fname):\n",
        "  !wget -qO $fname https://osf.io/s4h8j/download/\n",
        "  !tar -xzf $fname -C $HCP_DIR --strip-components=1"
      ],
      "execution_count": 3,
      "outputs": []
    },
    {
      "cell_type": "code",
      "metadata": {
        "id": "GWS3b16CI3l8",
        "colab_type": "code",
        "colab": {},
        "cellView": "both"
      },
      "source": [
        "#@title Helper functions: get image index, load_timeseries, load_evs (provided)\n",
        "def get_image_ids(name):\n",
        "  \"\"\"Get the 1-based image indices for runs in a given experiment.\n",
        "\n",
        "    Args:\n",
        "      name (str) : Name of experiment (\"rest\" or name of task) to load\n",
        "    Returns:\n",
        "      run_ids (list of int) : Numeric ID for experiment image files\n",
        "\n",
        "  \"\"\"\n",
        "  run_ids = [\n",
        "    i for i, code in enumerate(BOLD_NAMES, 1) if name.upper() in code\n",
        "  ]\n",
        "  if not run_ids:\n",
        "    raise ValueError(f\"Found no data for '{name}''\")\n",
        "  return run_ids\n",
        "\n",
        "def load_timeseries(subject, name, runs=None, concat=True, remove_mean=True):\n",
        "  \"\"\"Load timeseries data for a single subject.\n",
        "  \n",
        "  Args:\n",
        "    subject (int): 0-based subject ID to load\n",
        "    name (str) : Name of experiment (\"rest\" or name of task) to load\n",
        "    run (None or int or list of ints): 0-based run(s) of the task to load,\n",
        "      or None to load all runs.\n",
        "    concat (bool) : If True, concatenate multiple runs in time\n",
        "    remove_mean (bool) : If True, subtract the parcel-wise mean\n",
        "\n",
        "  Returns\n",
        "    ts (n_parcel x n_tp array): Array of BOLD data values\n",
        "\n",
        "  \"\"\"\n",
        "  # Get the list relative 0-based index of runs to use\n",
        "  if runs is None:\n",
        "    runs = range(N_RUNS_REST) if name == \"rest\" else range(N_RUNS_TASK)\n",
        "  elif isinstance(runs, int):\n",
        "    runs = [runs]\n",
        "\n",
        "  # Get the first (1-based) run id for this experiment \n",
        "  offset = get_image_ids(name)[0]\n",
        "\n",
        "  # Load each run's data\n",
        "  bold_data = [\n",
        "      load_single_timeseries(subject, offset + run, remove_mean) for run in runs\n",
        "  ]\n",
        "\n",
        "  # Optionally concatenate in time\n",
        "  if concat:\n",
        "    bold_data = np.concatenate(bold_data, axis=-1)\n",
        "\n",
        "  return bold_data\n",
        "\n",
        "\n",
        "def load_single_timeseries(subject, bold_run, remove_mean=True):\n",
        "  \"\"\"Load timeseries data for a single subject and single run.\n",
        "  \n",
        "  Args:\n",
        "    subject (int): 0-based subject ID to load\n",
        "    bold_run (int): 1-based run index, across all tasks\n",
        "    remove_mean (bool): If True, subtract the parcel-wise mean\n",
        "\n",
        "  Returns\n",
        "    ts (n_parcel x n_timepoint array): Array of BOLD data values\n",
        "\n",
        "  \"\"\"\n",
        "  bold_path = f\"{HCP_DIR}/subjects/{subject}/timeseries\"\n",
        "  bold_file = f\"bold{bold_run}_Atlas_MSMAll_Glasser360Cortical.npy\"\n",
        "  ts = np.load(f\"{bold_path}/{bold_file}\")\n",
        "  if remove_mean:\n",
        "    ts -= ts.mean(axis=1, keepdims=True)\n",
        "  return ts\n",
        "\n",
        "def load_evs(subject, name, condition):\n",
        "  \"\"\"Load EV (explanatory variable) data for one task condition.\n",
        "\n",
        "  Args:\n",
        "    subject (int): 0-based subject ID to load\n",
        "    name (str) : Name of task\n",
        "    condition (str) : Name of condition\n",
        "\n",
        "  Returns\n",
        "    evs (list of dicts): A dictionary with the onset, duration, and amplitude\n",
        "      of the condition for each run.\n",
        "\n",
        "  \"\"\"\n",
        "  evs = []\n",
        "  for id in get_image_ids(name):\n",
        "    task_key = BOLD_NAMES[id - 1]\n",
        "    ev_file = f\"{HCP_DIR}/subjects/{subject}/EVs/{task_key}/{condition}.txt\"\n",
        "    ev = dict(zip([\"onset\", \"duration\", \"amplitude\"], np.genfromtxt(ev_file).T))\n",
        "    evs.append(ev)\n",
        "  return evs\n",
        "\n",
        "def condition_frames(run_evs, skip=0):\n",
        "  \"\"\"Identify timepoints corresponding to a given condition in each run.\n",
        "\n",
        "  Args:\n",
        "    run_evs (list of dicts) : Onset and duration of the event, per run\n",
        "    skip (int) : Ignore this many frames at the start of each trial, to account\n",
        "      for hemodynamic lag\n",
        "\n",
        "  Returns:\n",
        "    frames_list (list of 1D arrays): Flat arrays of frame indices, per run\n",
        "\n",
        "  \"\"\"\n",
        "  frames_list = []\n",
        "  for ev in run_evs:\n",
        "\n",
        "    # Determine when trial starts, rounded down\n",
        "    start = np.floor(ev[\"onset\"] / TR).astype(int)\n",
        "\n",
        "    # Use trial duration to determine how many frames to include for trial\n",
        "    duration = np.ceil(ev[\"duration\"] / TR).astype(int)\n",
        "\n",
        "    # Take the range of frames that correspond to this specific trial\n",
        "    frames = [s + np.arange(skip, d) for s, d in zip(start, duration)]\n",
        "\n",
        "    frames_list.append(np.concatenate(frames))\n",
        "\n",
        "  return frames_list\n",
        "\n",
        "\n",
        "def selective_average(timeseries_data, ev, skip=0):\n",
        "  \"\"\"Take the temporal mean across frames for a given condition.\n",
        "\n",
        "  Args:\n",
        "    timeseries_data (array or list of arrays): n_parcel x n_tp arrays\n",
        "    ev (dict or list of dicts): Condition timing information\n",
        "    skip (int) : Ignore this many frames at the start of each trial, to account\n",
        "      for hemodynamic lag\n",
        "\n",
        "  Returns:\n",
        "    avg_data (1D array): Data averaged across selected image frames based\n",
        "    on condition timing\n",
        "\n",
        "  \"\"\"\n",
        "  # Ensure that we have lists of the same length\n",
        "  if not isinstance(timeseries_data, list):\n",
        "    timeseries_data = [timeseries_data]\n",
        "  if not isinstance(ev, list):\n",
        "    ev = [ev]\n",
        "  if len(timeseries_data) != len(ev):\n",
        "    raise ValueError(\"Length of `timeseries_data` and `ev` must match.\")\n",
        "\n",
        "  # Identify the indices of relevant frames\n",
        "  frames = condition_frames(ev)\n",
        "\n",
        "  # Select the frames from each image\n",
        "  selected_data = []\n",
        "  for run_data, run_frames in zip(timeseries_data, frames):\n",
        "    selected_data.append(run_data[:, run_frames])\n",
        "\n",
        "  # Take the average in each parcel\n",
        "  avg_data = np.concatenate(selected_data, axis=-1).mean(axis=-1)\n",
        "\n",
        "  return avg_data"
      ],
      "execution_count": 58,
      "outputs": []
    },
    {
      "cell_type": "markdown",
      "metadata": {
        "id": "GRgj7FnDHKbQ",
        "colab_type": "text"
      },
      "source": [
        "Region info"
      ]
    },
    {
      "cell_type": "code",
      "metadata": {
        "id": "oXfFWz7qHJnk",
        "colab_type": "code",
        "colab": {
          "base_uri": "https://localhost:8080/",
          "height": 235
        },
        "outputId": "1ac0ea0d-ef69-45c2-ac5c-77c7ef7bb532"
      },
      "source": [
        "regions = np.load(f\"{HCP_DIR}/regions.npy\").T\n",
        "region_info = dict(\n",
        "    name=regions[0].tolist(),\n",
        "    network=regions[1],\n",
        "    myelin=regions[2].astype(np.float),\n",
        ")\n",
        "\n",
        "regions_table = pd.DataFrame.from_dict(region_info)\n",
        "regions_table[regions_table['network']=='Visual1']\n",
        "# Codes from text:\n",
        "# STS: STSdp, STSda, STSvp, STSva\n",
        "# temporo-parietal-occipital junction:  TPOJ1,  TPOJ2,  TPOJ3\n",
        "# ACC and mPFC: 33pr,  p24pr,  a24pr,  p24,  a24,  p32pr,  a32pr,  d32,  p32,  s32,  8BM,  9m, 10v,  10r,  and 25\n",
        "# fusiform gyrus: FFC\n",
        "# insula: Ig"
      ],
      "execution_count": 65,
      "outputs": [
        {
          "output_type": "execute_result",
          "data": {
            "text/html": [
              "<div>\n",
              "<style scoped>\n",
              "    .dataframe tbody tr th:only-of-type {\n",
              "        vertical-align: middle;\n",
              "    }\n",
              "\n",
              "    .dataframe tbody tr th {\n",
              "        vertical-align: top;\n",
              "    }\n",
              "\n",
              "    .dataframe thead th {\n",
              "        text-align: right;\n",
              "    }\n",
              "</style>\n",
              "<table border=\"1\" class=\"dataframe\">\n",
              "  <thead>\n",
              "    <tr style=\"text-align: right;\">\n",
              "      <th></th>\n",
              "      <th>name</th>\n",
              "      <th>network</th>\n",
              "      <th>myelin</th>\n",
              "    </tr>\n",
              "  </thead>\n",
              "  <tbody>\n",
              "    <tr>\n",
              "      <th>0</th>\n",
              "      <td>R_V1</td>\n",
              "      <td>Visual1</td>\n",
              "      <td>2.20900</td>\n",
              "    </tr>\n",
              "    <tr>\n",
              "      <th>120</th>\n",
              "      <td>R_ProS</td>\n",
              "      <td>Visual1</td>\n",
              "      <td>2.04894</td>\n",
              "    </tr>\n",
              "    <tr>\n",
              "      <th>141</th>\n",
              "      <td>R_DVT</td>\n",
              "      <td>Visual1</td>\n",
              "      <td>2.01359</td>\n",
              "    </tr>\n",
              "    <tr>\n",
              "      <th>180</th>\n",
              "      <td>L_V1</td>\n",
              "      <td>Visual1</td>\n",
              "      <td>2.08324</td>\n",
              "    </tr>\n",
              "    <tr>\n",
              "      <th>300</th>\n",
              "      <td>L_ProS</td>\n",
              "      <td>Visual1</td>\n",
              "      <td>1.93961</td>\n",
              "    </tr>\n",
              "    <tr>\n",
              "      <th>321</th>\n",
              "      <td>L_DVT</td>\n",
              "      <td>Visual1</td>\n",
              "      <td>1.86390</td>\n",
              "    </tr>\n",
              "  </tbody>\n",
              "</table>\n",
              "</div>"
            ],
            "text/plain": [
              "       name  network   myelin\n",
              "0      R_V1  Visual1  2.20900\n",
              "120  R_ProS  Visual1  2.04894\n",
              "141   R_DVT  Visual1  2.01359\n",
              "180    L_V1  Visual1  2.08324\n",
              "300  L_ProS  Visual1  1.93961\n",
              "321   L_DVT  Visual1  1.86390"
            ]
          },
          "metadata": {
            "tags": []
          },
          "execution_count": 65
        }
      ]
    },
    {
      "cell_type": "code",
      "metadata": {
        "id": "B3QFTWLMHyKC",
        "colab_type": "code",
        "colab": {}
      },
      "source": [
        "# Finding indices of two ROI regions\n",
        "regionsdf = pd.DataFrame.from_dict(region_info)\n",
        "regionsdf[regionsdf['name'].str.contains(\"STS\")]\n",
        "STSidx = regionsdf.index[regionsdf['name'].str.contains(\"R_STS\")].tolist() # get indices\n",
        "TPOJidx = regionsdf.index[regionsdf['name'].str.contains(\"R_TPOJ\")].tolist() # get indices"
      ],
      "execution_count": 16,
      "outputs": []
    },
    {
      "cell_type": "code",
      "metadata": {
        "id": "z1rWt15gHysG",
        "colab_type": "code",
        "colab": {
          "base_uri": "https://localhost:8080/",
          "height": 298
        },
        "outputId": "c745d8e1-e72f-4b85-e064-0008b8a9510c"
      },
      "source": [
        "# Loading time series for two regions and plotting for 1 subject\n",
        "all_ts = load_timeseries(29, \"SOCIAL\", runs=None, concat=True, remove_mean=True)\n",
        "# average over all STS regions\n",
        "STS_ts = np.mean(all_ts[STSidx,],axis=0)\n",
        "plt.plot(STS_ts,label = 'superior temporal sulcus') #avg time series in STS\n",
        "TPOJ_ts = np.mean(all_ts[TPOJidx,],axis=0)\n",
        "plt.plot(TPOJ_ts,label = 'temporo-parietal-occipital junction')\n",
        "plt.title('avg time series')\n",
        "plt.legend()"
      ],
      "execution_count": 122,
      "outputs": [
        {
          "output_type": "execute_result",
          "data": {
            "text/plain": [
              "<matplotlib.legend.Legend at 0x7ff2433b5710>"
            ]
          },
          "metadata": {
            "tags": []
          },
          "execution_count": 122
        },
        {
          "output_type": "display_data",
          "data": {
            "image/png": "[encoded data removed]",
            "text/plain": [
              "<Figure size 432x288 with 1 Axes>"
            ]
          },
          "metadata": {
            "tags": [],
            "needs_background": "light"
          }
        }
      ]
    },
    {
      "cell_type": "code",
      "metadata": {
        "id": "4YksE9meH1cK",
        "colab_type": "code",
        "colab": {
          "base_uri": "https://localhost:8080/",
          "height": 282
        },
        "outputId": "bb3d0f39-1979-49d8-e69c-bccc03190a1a"
      },
      "source": [
        "# Pick a random region to compare - V1\n",
        "idx1 = regionsdf.index[regionsdf['network'].str.contains(\"Visual1\")].tolist() # get indices\n",
        "region1 = np.mean(all_ts[idx1,],axis = 0)\n",
        "plt.plot(region1,label='Visual1') \n",
        "idx2 = regionsdf.index[regionsdf['network'].str.contains(\"Language\")].tolist() # get indices\n",
        "region2 = np.mean(all_ts[idx2,],axis = 0)\n",
        "plt.plot(region2,label='Lang') \n",
        "plt.legend()\n",
        "# Why do they overlap so much?"
      ],
      "execution_count": 123,
      "outputs": [
        {
          "output_type": "execute_result",
          "data": {
            "text/plain": [
              "<matplotlib.legend.Legend at 0x7ff2433ece80>"
            ]
          },
          "metadata": {
            "tags": []
          },
          "execution_count": 123
        },
        {
          "output_type": "display_data",
          "data": {
            "image/png": "[encoded data removed]",
            "text/plain": [
              "<Figure size 432x288 with 1 Axes>"
            ]
          },
          "metadata": {
            "tags": [],
            "needs_background": "light"
          }
        }
      ]
    },
    {
      "cell_type": "markdown",
      "metadata": {
        "id": "z0sqXIoHH4GP",
        "colab_type": "text"
      },
      "source": [
        "## Granger causality"
      ]
    },
    {
      "cell_type": "code",
      "metadata": {
        "id": "zdbsnZ64YDNl",
        "colab_type": "code",
        "colab": {
          "base_uri": "https://localhost:8080/",
          "height": 136
        },
        "outputId": "65dcd088-3b27-4cab-ebee-9a34af6ec973"
      },
      "source": [
        "from statsmodels.tsa.stattools import grangercausalitytests\n",
        "# Checks if the TS in column 2 Granger-causes the TS in column 1\n",
        "def GC_two_regions(all_ts, region_name1,region_name2):\n",
        "  idx1 = regionsdf.index[regionsdf['name'].str.contains(region_name1)].tolist() # get indices\n",
        "  region1 = np.mean(all_ts[idx1,],axis = 0)\n",
        "  idx2 = regionsdf.index[regionsdf['name'].str.contains(region_name2)].tolist() # get indices\n",
        "  region2 = np.mean(all_ts[idx2,],axis = 0)\n",
        "  regions_combined = np.vstack((region1,region2)).T \n",
        "  grangercausalitytests(regions_combined,1,verbose=True)\n",
        "GC_two_regions(all_ts, 'STS','TPOJ') # For the entire experiment"
      ],
      "execution_count": 130,
      "outputs": [
        {
          "output_type": "stream",
          "text": [
            "\n",
            "Granger Causality\n",
            "number of lags (no zero) 1\n",
            "ssr based F test:         F=3.5137  , p=0.0614  , df_denom=544, df_num=1\n",
            "ssr based chi2 test:   chi2=3.5331  , p=0.0602  , df=1\n",
            "likelihood ratio test: chi2=3.5217  , p=0.0606  , df=1\n",
            "parameter F test:         F=3.5137  , p=0.0614  , df_denom=544, df_num=1\n"
          ],
          "name": "stdout"
        }
      ]
    },
    {
      "cell_type": "code",
      "metadata": {
        "id": "0-hGNz2OXEUF",
        "colab_type": "code",
        "colab": {
          "base_uri": "https://localhost:8080/",
          "height": 255
        },
        "outputId": "f0bdcc5f-18e2-4b3f-abb7-5788132b445a"
      },
      "source": [
        "# Extract condition runs\n",
        "subj_id = 0\n",
        "task = 'SOCIAL'\n",
        "all_ts_run0 = load_timeseries(subj_id, 'SOCIAL', runs=0) # Run 0\n",
        "# Mentalizing\n",
        "mental_frames = condition_frames(load_evs(subj_id, task, 'mental'))\n",
        "mental_ts = all_ts_run0[:,mental_frames[0]]\n",
        "# Random\n",
        "random_frames = condition_frames(load_evs(subj_id, task, 'rnd'))\n",
        "random_ts = all_ts_run0[:,random_frames[0]]\n",
        "# Run GC\n",
        "GC_two_regions(mental_ts, 'STS','TPOJ')\n",
        "GC_two_regions(random_ts, 'STS','TPOJ')"
      ],
      "execution_count": 137,
      "outputs": [
        {
          "output_type": "stream",
          "text": [
            "\n",
            "Granger Causality\n",
            "number of lags (no zero) 1\n",
            "ssr based F test:         F=0.6842  , p=0.4114  , df_denom=60, df_num=1\n",
            "ssr based chi2 test:   chi2=0.7184  , p=0.3967  , df=1\n",
            "likelihood ratio test: chi2=0.7144  , p=0.3980  , df=1\n",
            "parameter F test:         F=0.6842  , p=0.4114  , df_denom=60, df_num=1\n",
            "\n",
            "Granger Causality\n",
            "number of lags (no zero) 1\n",
            "ssr based F test:         F=0.0060  , p=0.9384  , df_denom=92, df_num=1\n",
            "ssr based chi2 test:   chi2=0.0062  , p=0.9372  , df=1\n",
            "likelihood ratio test: chi2=0.0062  , p=0.9372  , df=1\n",
            "parameter F test:         F=0.0060  , p=0.9384  , df_denom=92, df_num=1\n"
          ],
          "name": "stdout"
        }
      ]
    },
    {
      "cell_type": "code",
      "metadata": {
        "id": "HEqSp71PgBDd",
        "colab_type": "code",
        "colab": {}
      },
      "source": [
        ""
      ],
      "execution_count": null,
      "outputs": []
    }
  ]
}