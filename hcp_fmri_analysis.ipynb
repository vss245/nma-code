{
  "nbformat": 4,
  "nbformat_minor": 0,
  "metadata": {
    "colab": {
      "name": "hcp_fmri_analysis.ipynb",
      "provenance": [],
      "collapsed_sections": [],
      "toc_visible": true,
      "include_colab_link": true
    },
    "kernelspec": {
      "name": "python3",
      "display_name": "Python 3"
    }
  },
  "cells": [
    {
      "cell_type": "markdown",
      "metadata": {
        "id": "view-in-github",
        "colab_type": "text"
      },
      "source": [
        "<a href=\"https://colab.research.google.com/github/vss245/nma_code/blob/master/hcp_fmri_analysis.ipynb\" target=\"_parent\"><img src=\"https://colab.research.google.com/assets/colab-badge.svg\" alt=\"Open In Colab\"/></a>"
      ]
    },
    {
      "cell_type": "markdown",
      "metadata": {
        "id": "vATxcnlSUEqv",
        "colab_type": "text"
      },
      "source": [
        "# Intro and theory\n",
        "Dataset: HCP fMRI dataset, preprocessed and parcellated into 360 ROIs\n",
        "\n",
        "Task: Observing shapes moving either randomly or appearing to interact \"socially\"\n",
        " \n",
        "Question: how does the brain encode viewing social interaction?\n",
        "\n",
        "ROIs: temporoparietal junction, superior temporal sulcus, medial prefrontal cortex, fusiform gyrus, occipital gyrus, amygdala, insula \n",
        "\n",
        "Model: \n",
        "- ROIs indicated above interact with each other throughout this process of observing social interaction\n",
        "- We can measure this interaction via effective connectivity (e.g. Granger causality)\n",
        "- Viewing social interaction will increase GC between the ROIs, whereas random motion will not (control: random network, such as lower visual areas) \n",
        "\n",
        "Approach:\n",
        "- extract time series for every subject for these ROIs in both conditions\n",
        "- calculate GC between them (multivariate GC? fit a VAR?)\n",
        "\n",
        "Hypothesis: viewing social interaction increases connectivity between areas within the \"social network\" of the brain\n",
        "\n",
        "Statistics: \n",
        "- due to the structure of the experiment, we obtain GC separately for each condition per run and average across runs\n",
        "- after that, we have 1 GC value per condition per pairs of regions per subject (potentially we can subtract the two GC values and just look at the GC condition difference per pairs of regions per subject)\n",
        "- group level stats: ANOVA \n"
      ]
    },
    {
      "cell_type": "code",
      "metadata": {
        "id": "t3skn13iG1Em",
        "colab_type": "code",
        "colab": {}
      },
      "source": [
        "import os\n",
        "import numpy as np\n",
        "import matplotlib.pyplot as plt\n",
        "import pandas as pd\n",
        "import nitime\n",
        "import nitime.analysis as nta\n",
        "import nitime.timeseries as nts\n",
        "import nitime.utils as tsu\n",
        "from nitime.viz import drawmatrix_channels\n",
        "import seaborn as sns"
      ],
      "execution_count": 72,
      "outputs": []
    },
    {
      "cell_type": "markdown",
      "metadata": {
        "id": "v-F2lyLgG-4u",
        "colab_type": "text"
      },
      "source": [
        "# Parameters"
      ]
    },
    {
      "cell_type": "code",
      "metadata": {
        "id": "iDZlL8KNG3zO",
        "colab_type": "code",
        "colab": {},
        "cellView": "form"
      },
      "source": [
        "#@title Download code\n",
        "# The download cells will store the data in nested directories starting here:\n",
        "HCP_DIR = \"./hcp\"\n",
        "if not os.path.isdir(HCP_DIR):\n",
        "  os.mkdir(HCP_DIR)\n",
        "\n",
        "# The data shared for NMA projects is a subset of the full HCP dataset\n",
        "N_SUBJECTS = 339\n",
        "\n",
        "# The data have already been aggregated into ROIs from the Glasesr parcellation\n",
        "N_PARCELS = 360\n",
        "\n",
        "# The acquisition parameters for all tasks were identical\n",
        "TR = 0.72  # Time resolution, in sec\n",
        "\n",
        "# The parcels are matched across hemispheres with the same order\n",
        "HEMIS = [\"Right\", \"Left\"]\n",
        "\n",
        "# Each experiment was repeated multiple times in each subject\n",
        "N_RUNS_REST = 4\n",
        "N_RUNS_TASK = 2\n",
        "\n",
        "# Time series data are organized by experiment, with each experiment\n",
        "# having an LR and RL (phase-encode direction) acquistion\n",
        "BOLD_NAMES = [\n",
        "  \"rfMRI_REST1_LR\", \"rfMRI_REST1_RL\",\n",
        "  \"rfMRI_REST2_LR\", \"rfMRI_REST2_RL\",\n",
        "  \"tfMRI_MOTOR_RL\", \"tfMRI_MOTOR_LR\",\n",
        "  \"tfMRI_WM_RL\", \"tfMRI_WM_LR\",\n",
        "  \"tfMRI_EMOTION_RL\", \"tfMRI_EMOTION_LR\",\n",
        "  \"tfMRI_GAMBLING_RL\", \"tfMRI_GAMBLING_LR\",\n",
        "  \"tfMRI_LANGUAGE_RL\", \"tfMRI_LANGUAGE_LR\",\n",
        "  \"tfMRI_RELATIONAL_RL\", \"tfMRI_RELATIONAL_LR\",\n",
        "  \"tfMRI_SOCIAL_RL\", \"tfMRI_SOCIAL_LR\"\n",
        "]\n",
        "\n",
        "# You may want to limit the subjects used during code development.\n",
        "# This will use all subjects:\n",
        "subjects = range(N_SUBJECTS)"
      ],
      "execution_count": 3,
      "outputs": []
    },
    {
      "cell_type": "markdown",
      "metadata": {
        "id": "jikvS2czHFRo",
        "colab_type": "text"
      },
      "source": [
        "# Loading functions"
      ]
    },
    {
      "cell_type": "code",
      "metadata": {
        "id": "kkNre_7iG6wF",
        "colab_type": "code",
        "colab": {}
      },
      "source": [
        "fname = \"hcp_task.tgz\"\n",
        "if not os.path.exists(fname):\n",
        "  !wget -qO $fname https://osf.io/s4h8j/download/\n",
        "  !tar -xzf $fname -C $HCP_DIR --strip-components=1"
      ],
      "execution_count": 4,
      "outputs": []
    },
    {
      "cell_type": "code",
      "metadata": {
        "id": "GWS3b16CI3l8",
        "colab_type": "code",
        "cellView": "form",
        "colab": {}
      },
      "source": [
        "#@title Helper functions: get image index, load_timeseries, load_evs (provided)\n",
        "def get_image_ids(name):\n",
        "  \"\"\"Get the 1-based image indices for runs in a given experiment.\n",
        "\n",
        "    Args:\n",
        "      name (str) : Name of experiment (\"rest\" or name of task) to load\n",
        "    Returns:\n",
        "      run_ids (list of int) : Numeric ID for experiment image files\n",
        "\n",
        "  \"\"\"\n",
        "  run_ids = [\n",
        "    i for i, code in enumerate(BOLD_NAMES, 1) if name.upper() in code\n",
        "  ]\n",
        "  if not run_ids:\n",
        "    raise ValueError(f\"Found no data for '{name}''\")\n",
        "  return run_ids\n",
        "\n",
        "def load_timeseries(subject, name, runs=None, concat=True, remove_mean=True):\n",
        "  \"\"\"Load timeseries data for a single subject.\n",
        "  \n",
        "  Args:\n",
        "    subject (int): 0-based subject ID to load\n",
        "    name (str) : Name of experiment (\"rest\" or name of task) to load\n",
        "    run (None or int or list of ints): 0-based run(s) of the task to load,\n",
        "      or None to load all runs.\n",
        "    concat (bool) : If True, concatenate multiple runs in time\n",
        "    remove_mean (bool) : If True, subtract the parcel-wise mean\n",
        "\n",
        "  Returns\n",
        "    ts (n_parcel x n_tp array): Array of BOLD data values\n",
        "\n",
        "  \"\"\"\n",
        "  # Get the list relative 0-based index of runs to use\n",
        "  if runs is None:\n",
        "    runs = range(N_RUNS_REST) if name == \"rest\" else range(N_RUNS_TASK)\n",
        "  elif isinstance(runs, int):\n",
        "    runs = [runs]\n",
        "\n",
        "  # Get the first (1-based) run id for this experiment \n",
        "  offset = get_image_ids(name)[0]\n",
        "\n",
        "  # Load each run's data\n",
        "  bold_data = [\n",
        "      load_single_timeseries(subject, offset + run, remove_mean) for run in runs\n",
        "  ]\n",
        "\n",
        "  # Optionally concatenate in time\n",
        "  if concat:\n",
        "    bold_data = np.concatenate(bold_data, axis=-1)\n",
        "\n",
        "  return bold_data\n",
        "\n",
        "\n",
        "def load_single_timeseries(subject, bold_run, remove_mean=True):\n",
        "  \"\"\"Load timeseries data for a single subject and single run.\n",
        "  \n",
        "  Args:\n",
        "    subject (int): 0-based subject ID to load\n",
        "    bold_run (int): 1-based run index, across all tasks\n",
        "    remove_mean (bool): If True, subtract the parcel-wise mean\n",
        "\n",
        "  Returns\n",
        "    ts (n_parcel x n_timepoint array): Array of BOLD data values\n",
        "\n",
        "  \"\"\"\n",
        "  bold_path = f\"{HCP_DIR}/subjects/{subject}/timeseries\"\n",
        "  bold_file = f\"bold{bold_run}_Atlas_MSMAll_Glasser360Cortical.npy\"\n",
        "  ts = np.load(f\"{bold_path}/{bold_file}\")\n",
        "  if remove_mean:\n",
        "    ts -= ts.mean(axis=1, keepdims=True)\n",
        "  return ts\n",
        "\n",
        "def load_evs(subject, name, condition):\n",
        "  \"\"\"Load EV (explanatory variable) data for one task condition.\n",
        "\n",
        "  Args:\n",
        "    subject (int): 0-based subject ID to load\n",
        "    name (str) : Name of task\n",
        "    condition (str) : Name of condition\n",
        "\n",
        "  Returns\n",
        "    evs (list of dicts): A dictionary with the onset, duration, and amplitude\n",
        "      of the condition for each run.\n",
        "\n",
        "  \"\"\"\n",
        "  evs = []\n",
        "  for id in get_image_ids(name):\n",
        "    task_key = BOLD_NAMES[id - 1]\n",
        "    ev_file = f\"{HCP_DIR}/subjects/{subject}/EVs/{task_key}/{condition}.txt\"\n",
        "    ev = dict(zip([\"onset\", \"duration\", \"amplitude\"], np.genfromtxt(ev_file).T))\n",
        "    evs.append(ev)\n",
        "  return evs\n",
        "\n",
        "def condition_frames(run_evs, skip=0):\n",
        "  \"\"\"Identify timepoints corresponding to a given condition in each run.\n",
        "\n",
        "  Args:\n",
        "    run_evs (list of dicts) : Onset and duration of the event, per run\n",
        "    skip (int) : Ignore this many frames at the start of each trial, to account\n",
        "      for hemodynamic lag\n",
        "\n",
        "  Returns:\n",
        "    frames_list (list of 1D arrays): Flat arrays of frame indices, per run\n",
        "\n",
        "  \"\"\"\n",
        "  frames_list = []\n",
        "  for ev in run_evs:\n",
        "\n",
        "    # Determine when trial starts, rounded down\n",
        "    start = np.floor(ev[\"onset\"] / TR).astype(int)\n",
        "\n",
        "    # Use trial duration to determine how many frames to include for trial\n",
        "    duration = np.ceil(ev[\"duration\"] / TR).astype(int)\n",
        "\n",
        "    # Take the range of frames that correspond to this specific trial\n",
        "    frames = [s + np.arange(skip, d) for s, d in zip(start, duration)]\n",
        "\n",
        "    frames_list.append(np.concatenate(frames))\n",
        "\n",
        "  return frames_list\n",
        "\n",
        "\n",
        "def selective_average(timeseries_data, ev, skip=0):\n",
        "  \"\"\"Take the temporal mean across frames for a given condition.\n",
        "\n",
        "  Args:\n",
        "    timeseries_data (array or list of arrays): n_parcel x n_tp arrays\n",
        "    ev (dict or list of dicts): Condition timing information\n",
        "    skip (int) : Ignore this many frames at the start of each trial, to account\n",
        "      for hemodynamic lag\n",
        "\n",
        "  Returns:\n",
        "    avg_data (1D array): Data averaged across selected image frames based\n",
        "    on condition timing\n",
        "\n",
        "  \"\"\"\n",
        "  # Ensure that we have lists of the same length\n",
        "  if not isinstance(timeseries_data, list):\n",
        "    timeseries_data = [timeseries_data]\n",
        "  if not isinstance(ev, list):\n",
        "    ev = [ev]\n",
        "  if len(timeseries_data) != len(ev):\n",
        "    raise ValueError(\"Length of `timeseries_data` and `ev` must match.\")\n",
        "\n",
        "  # Identify the indices of relevant frames\n",
        "  frames = condition_frames(ev)\n",
        "\n",
        "  # Select the frames from each image\n",
        "  selected_data = []\n",
        "  for run_data, run_frames in zip(timeseries_data, frames):\n",
        "    selected_data.append(run_data[:, run_frames])\n",
        "\n",
        "  # Take the average in each parcel\n",
        "  avg_data = np.concatenate(selected_data, axis=-1).mean(axis=-1)\n",
        "\n",
        "  return avg_data"
      ],
      "execution_count": 5,
      "outputs": []
    },
    {
      "cell_type": "markdown",
      "metadata": {
        "id": "GRgj7FnDHKbQ",
        "colab_type": "text"
      },
      "source": [
        "## Region info"
      ]
    },
    {
      "cell_type": "code",
      "metadata": {
        "id": "oXfFWz7qHJnk",
        "colab_type": "code",
        "colab": {}
      },
      "source": [
        "# get region info from data\n",
        "regions = np.load(f\"{HCP_DIR}/regions.npy\").T\n",
        "region_info = dict(\n",
        "    name=regions[0].tolist(),\n",
        "    network=regions[1],\n",
        "    myelin=regions[2].astype(np.float),\n",
        ")\n",
        "\n",
        "regionsdf = pd.DataFrame.from_dict(region_info)\n",
        "#             #'33pr' (coordinating emotion),  'p24pr' (stimulus and response selection during cognitively demanding tasks),  'a24pr',  'p24',  'a24' - ACC (may not be relevant to the task)\n",
        "             #'p32pr' (SFG, stimulus response selection), \n",
        "             #'s32 (higher order role in emotional affect as well as reward expectation)\n",
        "             # 8BM (coordinating visuospatial information)\n",
        "             # '9m' increased activity when monitoring multiple pieces of spatialinformation\n",
        "             #10 r (importance in concentration and working memory)\n",
        "# make a dictionary with all of the above, figure out details later - mPFC?\n",
        "roi_names = ['STS', 'TPOJ', 'mPFC', 'fusiform', 'insula', 'MT']\n",
        "roi_codes = [['STSdp', 'STSda', 'STSvp', 'STSva'],\n",
        "            ['TPOJ1',  'TPOJ2',  'TPOJ3'],\n",
        "            ['a32pr',  'd32' 'p32', '10v',  '10r', '25'],\n",
        "            ['FFC'],  \n",
        "            ['Ig'],\n",
        "            ['MT']]\n",
        "def get_ts_condition(ts,subject,task,run,condition):\n",
        "  \"\"\"\n",
        "  Loads HCP timeseries data for the specified subject and run and condition.\n",
        "\n",
        "  INPUTS:\n",
        "    ts: timeseries (Nregions x Ntimepoints)\n",
        "    subject: subject number\n",
        "    task: task name\n",
        "    run: run number\n",
        "    condition: condition name\n",
        "\n",
        "  OUTPUT:\n",
        "    timeseries of condition for the subject, all runs and blocks concatenated\n",
        "    Returns a Nregions x time array.\n",
        "  \n",
        "  \"\"\"\n",
        "\n",
        "  # Load block onsets\n",
        "  evs = load_evs(subject,task,condition)\n",
        "\n",
        "  # Get all frames for condition in run\n",
        "  frames = condition_frames(evs)\n",
        "  frames = frames[run]\n",
        "\n",
        "  # Initialize output array of shape Nregions x Ntime_frames_per_block\n",
        "  ts_condition = np.zeros((np.shape(ts)[0],np.shape(frames)[0]))\n",
        "  \n",
        "  # Fill per region\n",
        "  for region in range(np.shape(ts)[0]):\n",
        "    ts_condition[region,:] = ts[region][frames]\n",
        "\n",
        "  return ts_condition\n",
        "\n",
        "# loop over all subregions within a region, get the indices, combine\n",
        "#by Ruben\n",
        "def get_ts_condition_by_block(ts,subject,task,run,condition):\n",
        "  \"\"\"\n",
        "  Loads HCP timeseries data for the specified subject and run and condition.\n",
        "\n",
        "  INPUTS:\n",
        "    ts: timeseries (Nregions x Ntimepoints)\n",
        "    subject: subject number\n",
        "    task: task name\n",
        "    run: run number\n",
        "    condition: condition name\n",
        "\n",
        "  OUTPUT:\n",
        "    timeseries of condition for the subject and run, divided by blocks.\n",
        "    Returns a Nregions x Nblocks x time array.\n",
        "  \n",
        "  \"\"\"\n",
        "\n",
        "  # Load block onsets\n",
        "  evs = load_evs(subject,task,condition)\n",
        "\n",
        "  # Get all frames for condition in run\n",
        "  frames = condition_frames(evs)\n",
        "  frames = frames[run]\n",
        "\n",
        "  # Separate frames by blocks (split where frames numbers increase > 1)\n",
        "  frames = np.split(frames, np.where(np.diff(frames)>1)[0] + 1)\n",
        "\n",
        "  # Initialize output array of shape Nregions x Nblocks x Ntime_frames_per_block\n",
        "  ts_condition = np.zeros((np.shape(ts)[0],np.shape(frames)[0],np.shape(frames)[1]))\n",
        "\n",
        "  # Fill per block and region\n",
        "  for block in range(np.shape(frames)[0]):\n",
        "    for region in range(np.shape(ts)[0]):\n",
        "      ts_condition[region,block,:] = ts[region][frames[block]]\n",
        "  \n",
        "  return ts_condition"
      ],
      "execution_count": 67,
      "outputs": []
    },
    {
      "cell_type": "code",
      "metadata": {
        "id": "2D6dpzWPZAP3",
        "colab_type": "code",
        "colab": {}
      },
      "source": [
        "# Functions from Ruben \n",
        "\n",
        "def load_subject_rois(subject,run):\n",
        "  '''\n",
        "  Takes:\n",
        "    subject index\n",
        "    run index\n",
        "  Returns:\n",
        "    region x timeseries\n",
        "  Load all ROI timeseries for each subject and run \n",
        "  Average between all the subregions => 1 ROI time series\n",
        "  '''\n",
        "\n",
        "  ts = np.squeeze(load_timeseries(subject,'SOCIAL',runs=run,concat=True))\n",
        "  ts_all_rois = []\n",
        "  roi_indexes = []\n",
        "  for r in range(len(roi_names)):\n",
        "    subreg_indexes = []\n",
        "    for sr in roi_codes[r]:\n",
        "      index_list = regionsdf.index[regionsdf['name'].str.contains(sr)].tolist()\n",
        "      subreg_indexes = subreg_indexes + index_list\n",
        "    roi_indexes.append(subreg_indexes)\n",
        "\n",
        "  for r in range(len(roi_names)):\n",
        "    ts_roi = np.mean(ts[roi_indexes[r],],0)\n",
        "    ts_all_rois.append(ts_roi)\n",
        "  return ts_all_rois\n",
        "\n",
        "\n",
        "def calculate_granger_causality(ts,TR,f_ub=0.15,f_lb=0.02,order=None,max_order=10):\n",
        "  \"\"\"\n",
        "  Calculates Granger Causality in timeseries between all regions in both\n",
        "  directions, then calculates the difference between the two. Thus, a positive \n",
        "  value indicates stronger causality for region X on region Y, negative values\n",
        "  vice versa.\n",
        "\n",
        "  INPUT:\n",
        "    ts: time series (Nregions x Ntimepoints)\n",
        "    TR: repetition time of scanner during fMRI data acquisition\n",
        "    f_ub: \"physiologically relevant\" frequency upper bound (Default: 0.15)\n",
        "    f_lb: \"physiologically relevant\" frequency lower bound (Default: 0.02)\n",
        "    order: order of autoregressive model. Default is None, in which case the \n",
        "           order is determined automatically (max is max_order).\n",
        "    max_order: maximum order of autoregressive model (Default: 10)\n",
        "\n",
        "  OUTPUT:\n",
        "    returns GCdiff: Nregions x Nregions array with the difference in Granger \n",
        "                    Causality in direction X->Y versus Y->X for all combinations\n",
        "                    of regions.\n",
        "                    If the model did not converge at max_order, all elements of \n",
        "                    GCdiff are NaN\n",
        "  \"\"\"\n",
        "\n",
        "  # Normalize the data in each of the ROIs to be in units of % change\n",
        "  pdata = tsu.percent_change(ts)\n",
        "\n",
        "  # Initialize the TimeSeries object:\n",
        "  time_series = nts.TimeSeries(pdata, sampling_interval=TR)\n",
        "\n",
        "  # Initialize the GrangerAnalyzer object\n",
        "  G = nta.GrangerAnalyzer(time_series,order=order,max_order=max_order)\n",
        "\n",
        "  # We are only interested in the physiologically relevant frequency band \n",
        "  # (specified upper and lower bounds in f_ub and f_lb). Keep only the \n",
        "  # frequencies within that band\n",
        "  freq_idx_G = np.where((G.frequencies > f_lb) * (G.frequencies < f_ub))[0]\n",
        "\n",
        "  # Take the difference of causality in direction XY versus direction YX\n",
        "  try:\n",
        "    GCdiff = np.mean(G.causality_xy[:, :, freq_idx_G] - G.causality_yx[:, :, freq_idx_G], -1)\n",
        "  except ValueError:\n",
        "    GCdiff = np.empty((np.shape(ts)[0],np.shape(ts)[0]))\n",
        "    GCdiff[:] = np.NaN\n",
        "\n",
        "  return GCdiff"
      ],
      "execution_count": 8,
      "outputs": []
    },
    {
      "cell_type": "code",
      "metadata": {
        "id": "4YksE9meH1cK",
        "colab_type": "code",
        "colab": {
          "base_uri": "https://localhost:8080/",
          "height": 282
        },
        "outputId": "348336b7-0ffc-4f74-a697-a3aac2ea0e14"
      },
      "source": [
        "subject_data = load_subject_rois(0,0)\n",
        "# Pick a random region to compare - V1\n",
        "region1 = subject_data[0]\n",
        "region2 = subject_data[1]\n",
        "plt.plot(region1,label=roi_names[0]) \n",
        "plt.plot(region2,label=roi_names[1]) \n",
        "plt.legend()"
      ],
      "execution_count": 9,
      "outputs": [
        {
          "output_type": "execute_result",
          "data": {
            "text/plain": [
              "<matplotlib.legend.Legend at 0x7f104605b7b8>"
            ]
          },
          "metadata": {
            "tags": []
          },
          "execution_count": 9
        },
        {
          "output_type": "display_data",
          "data": {
            "image/png": "[encoded data removed]",
            "text/plain": [
              "<Figure size 432x288 with 1 Axes>"
            ]
          },
          "metadata": {
            "tags": [],
            "needs_background": "light"
          }
        }
      ]
    },
    {
      "cell_type": "code",
      "metadata": {
        "id": "KXDYBUZ__LX0",
        "colab_type": "code",
        "colab": {}
      },
      "source": [
        "https://github.com/ansteeg/NeuroMatchProject/blob/master/atlas/hcp_parcels.csv"
      ],
      "execution_count": null,
      "outputs": []
    },
    {
      "cell_type": "markdown",
      "metadata": {
        "id": "z0sqXIoHH4GP",
        "colab_type": "text"
      },
      "source": [
        "# Granger causality"
      ]
    },
    {
      "cell_type": "code",
      "metadata": {
        "id": "0-hGNz2OXEUF",
        "colab_type": "code",
        "colab": {}
      },
      "source": [
        "# define things\n",
        "subjects = range(N_SUBJECTS)\n",
        "conditions = [\"mental\", \"rnd\"]\n",
        "task = \"SOCIAL\"\n",
        "TR = 0.72 # time res\n",
        "f_ub = 0.15\n",
        "f_lb = 0.02 # physiologically relevant freqs"
      ],
      "execution_count": 60,
      "outputs": []
    },
    {
      "cell_type": "code",
      "metadata": {
        "id": "a2H7y5uBvCZ5",
        "colab_type": "code",
        "colab": {}
      },
      "source": [
        "# result - 4 columns (subject, region pair, condition, GC diff) - initialize\n",
        "columns = ['subject','region_pair', 'condition', 'GCdiff']\n",
        "allGCdata = pd.DataFrame(columns=columns)\n",
        "for subject in subjects:\n",
        "  for condition in conditions:\n",
        "    for rp in region_pairs_GC:\n",
        "      allGCdata = allGCdata.append({\n",
        "     \"subject\": subject,\n",
        "     \"region_pair\":  rp,\n",
        "     \"condition\": condition\n",
        "      }, ignore_index=True)\n",
        "#allGCdata"
      ],
      "execution_count": 61,
      "outputs": []
    },
    {
      "cell_type": "code",
      "metadata": {
        "id": "H1VNf2u75tDi",
        "colab_type": "code",
        "colab": {
          "base_uri": "https://localhost:8080/",
          "height": 419
        },
        "outputId": "480fb8d4-9aaf-4aa6-a906-ff127feb47e2"
      },
      "source": [
        "# analysis \n",
        "fail = 0\n",
        "# Loop over subjects\n",
        "\n",
        "for subject in subjects:\n",
        "\n",
        "  # Get number of runs\n",
        "  runs = range(len(get_image_ids(task)))\n",
        "  \n",
        "  # Loop over conditions\n",
        "  for condition in conditions:\n",
        "\n",
        "    # Initialize empty matrix for GC scores (Nregions x Nregions x Nruns)\n",
        "    GCdiff = np.empty((np.shape(roi_names)[0],np.shape(roi_names)[0],np.shape(runs)[0]))\n",
        "    GCdiff[:] = np.nan\n",
        "  \n",
        "    # loop over runs\n",
        "    for run in runs:\n",
        "  \n",
        "      # Load time series of our regions of interest for this run\n",
        "      ts = load_subject_rois(subject,run=run)\n",
        "      # Get timeseries of this condition and run\n",
        "      ts_condition = get_ts_condition(ts,subject,task,run,condition)\n",
        "\n",
        "      # Calculate Granger Causality this condition and run for all connections\n",
        "      GCdiff[:,:,run] = calculate_granger_causality(ts_condition,TR)\n",
        "      \n",
        "      # Keep track of convergence errors\n",
        "      fail += np.isnan(GCdiff).all()\n",
        "\n",
        "    # Average this condition's GC score over both runs \n",
        "    GCdiff = np.mean(GCdiff,axis=2)\n",
        "\n",
        "    # Fill in final Granger Causality scores for this condition in data frame\n",
        "    for rp in region_pairs_GC:\n",
        "      GCvalue = GCdiff[region_pairs_GC[rp]]\n",
        "      allGCdata.loc[(allGCdata.subject == subject) & (allGCdata.region_pair==rp) & (allGCdata.condition==condition),\"GCdiff\"] = GCvalue\n",
        "\n",
        "# Print data frame\n",
        "allGCdata"
      ],
      "execution_count": 68,
      "outputs": [
        {
          "output_type": "execute_result",
          "data": {
            "text/html": [
              "<div>\n",
              "<style scoped>\n",
              "    .dataframe tbody tr th:only-of-type {\n",
              "        vertical-align: middle;\n",
              "    }\n",
              "\n",
              "    .dataframe tbody tr th {\n",
              "        vertical-align: top;\n",
              "    }\n",
              "\n",
              "    .dataframe thead th {\n",
              "        text-align: right;\n",
              "    }\n",
              "</style>\n",
              "<table border=\"1\" class=\"dataframe\">\n",
              "  <thead>\n",
              "    <tr style=\"text-align: right;\">\n",
              "      <th></th>\n",
              "      <th>subject</th>\n",
              "      <th>region_pair</th>\n",
              "      <th>condition</th>\n",
              "      <th>GCdiff</th>\n",
              "    </tr>\n",
              "  </thead>\n",
              "  <tbody>\n",
              "    <tr>\n",
              "      <th>0</th>\n",
              "      <td>0</td>\n",
              "      <td>STS_TPOJ</td>\n",
              "      <td>mental</td>\n",
              "      <td>0.0413309</td>\n",
              "    </tr>\n",
              "    <tr>\n",
              "      <th>1</th>\n",
              "      <td>0</td>\n",
              "      <td>STS_mPFC</td>\n",
              "      <td>mental</td>\n",
              "      <td>0.284642</td>\n",
              "    </tr>\n",
              "    <tr>\n",
              "      <th>2</th>\n",
              "      <td>0</td>\n",
              "      <td>STS_fusiform</td>\n",
              "      <td>mental</td>\n",
              "      <td>0.103433</td>\n",
              "    </tr>\n",
              "    <tr>\n",
              "      <th>3</th>\n",
              "      <td>0</td>\n",
              "      <td>STS_insula</td>\n",
              "      <td>mental</td>\n",
              "      <td>0.199976</td>\n",
              "    </tr>\n",
              "    <tr>\n",
              "      <th>4</th>\n",
              "      <td>0</td>\n",
              "      <td>TPOJ_mPFC</td>\n",
              "      <td>mental</td>\n",
              "      <td>0.0736592</td>\n",
              "    </tr>\n",
              "    <tr>\n",
              "      <th>...</th>\n",
              "      <td>...</td>\n",
              "      <td>...</td>\n",
              "      <td>...</td>\n",
              "      <td>...</td>\n",
              "    </tr>\n",
              "    <tr>\n",
              "      <th>6775</th>\n",
              "      <td>338</td>\n",
              "      <td>TPOJ_fusiform</td>\n",
              "      <td>rnd</td>\n",
              "      <td>0.245209</td>\n",
              "    </tr>\n",
              "    <tr>\n",
              "      <th>6776</th>\n",
              "      <td>338</td>\n",
              "      <td>TPOJ_insula</td>\n",
              "      <td>rnd</td>\n",
              "      <td>0.0761556</td>\n",
              "    </tr>\n",
              "    <tr>\n",
              "      <th>6777</th>\n",
              "      <td>338</td>\n",
              "      <td>mPFC_fusiform</td>\n",
              "      <td>rnd</td>\n",
              "      <td>-0.0916541</td>\n",
              "    </tr>\n",
              "    <tr>\n",
              "      <th>6778</th>\n",
              "      <td>338</td>\n",
              "      <td>mPFC_insula</td>\n",
              "      <td>rnd</td>\n",
              "      <td>0.0347317</td>\n",
              "    </tr>\n",
              "    <tr>\n",
              "      <th>6779</th>\n",
              "      <td>338</td>\n",
              "      <td>fusiform_insula</td>\n",
              "      <td>rnd</td>\n",
              "      <td>0.0412619</td>\n",
              "    </tr>\n",
              "  </tbody>\n",
              "</table>\n",
              "<p>6780 rows × 4 columns</p>\n",
              "</div>"
            ],
            "text/plain": [
              "     subject      region_pair condition     GCdiff\n",
              "0          0         STS_TPOJ    mental  0.0413309\n",
              "1          0         STS_mPFC    mental   0.284642\n",
              "2          0     STS_fusiform    mental   0.103433\n",
              "3          0       STS_insula    mental   0.199976\n",
              "4          0        TPOJ_mPFC    mental  0.0736592\n",
              "...      ...              ...       ...        ...\n",
              "6775     338    TPOJ_fusiform       rnd   0.245209\n",
              "6776     338      TPOJ_insula       rnd  0.0761556\n",
              "6777     338    mPFC_fusiform       rnd -0.0916541\n",
              "6778     338      mPFC_insula       rnd  0.0347317\n",
              "6779     338  fusiform_insula       rnd  0.0412619\n",
              "\n",
              "[6780 rows x 4 columns]"
            ]
          },
          "metadata": {
            "tags": []
          },
          "execution_count": 68
        }
      ]
    },
    {
      "cell_type": "code",
      "metadata": {
        "id": "0o9woHhOGPSf",
        "colab_type": "code",
        "colab": {
          "base_uri": "https://localhost:8080/",
          "height": 766
        },
        "outputId": "5e9638dd-b1cb-4777-b7a1-596ff94e6271"
      },
      "source": [
        "# Plots\n",
        "boxplot = allGCdata.boxplot(column='GCdiff', by=['region_pair'])\n",
        "fig, axes = plt.subplots(2)\n",
        "# make boxplot with Seaborn\n",
        "#mental\n",
        "bplot1=sns.boxplot(y='GCdiff', x='region_pair', \n",
        "                 data=allGCdata.loc[allGCdata.condition==\"mental\"], \n",
        "                 width=0.5,\n",
        "                 palette=\"colorblind\",\n",
        "                 ax=axes[0])\n",
        "bplot1.axhline(0,color=\"black\",alpha=0.6)\n",
        "bplot1.set_xticklabels(rotation=45,labels=bplot.get_xticklabels(),horizontalalignment='right')\n",
        "# random\n",
        "bplot2=sns.boxplot(y='GCdiff', x='region_pair', \n",
        "                 data=allGCdata.loc[allGCdata.condition==\"rnd\"], \n",
        "                 width=0.5,\n",
        "                 palette=\"colorblind\",\n",
        "                 ax=axes[1])\n",
        "bplot2.axhline(0,color=\"black\",alpha=0.6)\n",
        "bplot2.set_xticklabels(rotation=45,labels=bplot.get_xticklabels(),horizontalalignment='right')\n",
        "plt.setp(axes, yticks=[])"
      ],
      "execution_count": 91,
      "outputs": [
        {
          "output_type": "error",
          "ename": "AttributeError",
          "evalue": "ignored",
          "traceback": [
            "\u001b[0;31m---------------------------------------------------------------------------\u001b[0m",
            "\u001b[0;31mAttributeError\u001b[0m                            Traceback (most recent call last)",
            "\u001b[0;32m<ipython-input-91-f0fa28fa8aab>\u001b[0m in \u001b[0;36m<module>\u001b[0;34m()\u001b[0m\n\u001b[1;32m     10\u001b[0m                  ax=axes[0])\n\u001b[1;32m     11\u001b[0m \u001b[0mbplot1\u001b[0m\u001b[0;34m.\u001b[0m\u001b[0maxhline\u001b[0m\u001b[0;34m(\u001b[0m\u001b[0;36m0\u001b[0m\u001b[0;34m,\u001b[0m\u001b[0mcolor\u001b[0m\u001b[0;34m=\u001b[0m\u001b[0;34m\"black\"\u001b[0m\u001b[0;34m,\u001b[0m\u001b[0malpha\u001b[0m\u001b[0;34m=\u001b[0m\u001b[0;36m0.6\u001b[0m\u001b[0;34m)\u001b[0m\u001b[0;34m\u001b[0m\u001b[0;34m\u001b[0m\u001b[0m\n\u001b[0;32m---> 12\u001b[0;31m \u001b[0mbplot1\u001b[0m\u001b[0;34m.\u001b[0m\u001b[0mset_xticklabels\u001b[0m\u001b[0;34m(\u001b[0m\u001b[0mrotation\u001b[0m\u001b[0;34m=\u001b[0m\u001b[0;36m45\u001b[0m\u001b[0;34m,\u001b[0m\u001b[0mlabels\u001b[0m\u001b[0;34m=\u001b[0m\u001b[0mbplot\u001b[0m\u001b[0;34m.\u001b[0m\u001b[0mget_xticklabels\u001b[0m\u001b[0;34m(\u001b[0m\u001b[0;34m)\u001b[0m\u001b[0;34m,\u001b[0m\u001b[0mhorizontalalignment\u001b[0m\u001b[0;34m=\u001b[0m\u001b[0;34m'right'\u001b[0m\u001b[0;34m)\u001b[0m\u001b[0;34m\u001b[0m\u001b[0;34m\u001b[0m\u001b[0m\n\u001b[0m\u001b[1;32m     13\u001b[0m \u001b[0;31m# random\u001b[0m\u001b[0;34m\u001b[0m\u001b[0;34m\u001b[0m\u001b[0;34m\u001b[0m\u001b[0m\n\u001b[1;32m     14\u001b[0m bplot2=sns.boxplot(y='GCdiff', x='region_pair', \n",
            "\u001b[0;31mAttributeError\u001b[0m: 'numpy.ndarray' object has no attribute 'get_xticklabels'"
          ]
        },
        {
          "output_type": "display_data",
          "data": {
            "image/png": "[encoded data removed]",
            "text/plain": [
              "<Figure size 432x288 with 1 Axes>"
            ]
          },
          "metadata": {
            "tags": [],
            "needs_background": "light"
          }
        },
        {
          "output_type": "display_data",
          "data": {
            "image/png": "[encoded data removed]",
            "text/plain": [
              "<Figure size 432x288 with 2 Axes>"
            ]
          },
          "metadata": {
            "tags": [],
            "needs_background": "light"
          }
        }
      ]
    },
    {
      "cell_type": "markdown",
      "metadata": {
        "id": "sq1G7DiFNzR3",
        "colab_type": "text"
      },
      "source": [
        "# ANOVA"
      ]
    },
    {
      "cell_type": "code",
      "metadata": {
        "id": "9SVC55cdN0tf",
        "colab_type": "code",
        "colab": {
          "base_uri": "https://localhost:8080/",
          "height": 54
        },
        "outputId": "8996fc5e-6035-4109-fd79-dc62393479c7"
      },
      "source": [
        "# easy way to access the resulting matrix of GC values for all the regions\n",
        "from itertools import combinations \n",
        "#key - pair of region names\n",
        "#value - indices in GCdiff\n",
        "pairs = list(combinations([0,1,2,3,4], 2))\n",
        "region_pairs_GC = {}\n",
        "for i in range(len(pairs)):\n",
        "  key = roi_names[pairs[i][0]] + '_' + roi_names[pairs[i][1]]\n",
        "  region_pairs_GC[key] = pairs[i]\n",
        "print(region_pairs_GC)"
      ],
      "execution_count": 69,
      "outputs": [
        {
          "output_type": "stream",
          "text": [
            "{'STS_TPOJ': (0, 1), 'STS_mPFC': (0, 2), 'STS_fusiform': (0, 3), 'STS_insula': (0, 4), 'TPOJ_mPFC': (1, 2), 'TPOJ_fusiform': (1, 3), 'TPOJ_insula': (1, 4), 'mPFC_fusiform': (2, 3), 'mPFC_insula': (2, 4), 'fusiform_insula': (3, 4)}\n"
          ],
          "name": "stdout"
        }
      ]
    },
    {
      "cell_type": "code",
      "metadata": {
        "id": "hV3axXAP4Pf-",
        "colab_type": "code",
        "colab": {
          "base_uri": "https://localhost:8080/",
          "height": 392
        },
        "outputId": "9d00c953-c21a-448e-930c-becbfdc8d054"
      },
      "source": [
        "import scipy.stats as stats\n",
        "import statsmodels.api as sm\n",
        "from statsmodels.formula.api import ols\n",
        "mod = ols('GCdiff ~ condition*region_pair', data=allGCdata).fit()\n",
        "aov_table = sm.stats.anova_lm(mod, typ=3)\n",
        "print(aov_table)"
      ],
      "execution_count": 66,
      "outputs": [
        {
          "output_type": "error",
          "ename": "ValueError",
          "evalue": "ignored",
          "traceback": [
            "\u001b[0;31m---------------------------------------------------------------------------\u001b[0m",
            "\u001b[0;31mValueError\u001b[0m                                Traceback (most recent call last)",
            "\u001b[0;32m<ipython-input-66-9e58e4b45a89>\u001b[0m in \u001b[0;36m<module>\u001b[0;34m()\u001b[0m\n\u001b[1;32m      3\u001b[0m \u001b[0;32mfrom\u001b[0m \u001b[0mstatsmodels\u001b[0m\u001b[0;34m.\u001b[0m\u001b[0mformula\u001b[0m\u001b[0;34m.\u001b[0m\u001b[0mapi\u001b[0m \u001b[0;32mimport\u001b[0m \u001b[0mols\u001b[0m\u001b[0;34m\u001b[0m\u001b[0;34m\u001b[0m\u001b[0m\n\u001b[1;32m      4\u001b[0m \u001b[0mmod\u001b[0m \u001b[0;34m=\u001b[0m \u001b[0mols\u001b[0m\u001b[0;34m(\u001b[0m\u001b[0;34m'GCdiff ~ condition*region_pair'\u001b[0m\u001b[0;34m,\u001b[0m \u001b[0mdata\u001b[0m\u001b[0;34m=\u001b[0m\u001b[0mallGCdata\u001b[0m\u001b[0;34m)\u001b[0m\u001b[0;34m.\u001b[0m\u001b[0mfit\u001b[0m\u001b[0;34m(\u001b[0m\u001b[0;34m)\u001b[0m\u001b[0;34m\u001b[0m\u001b[0;34m\u001b[0m\u001b[0m\n\u001b[0;32m----> 5\u001b[0;31m \u001b[0maov_table\u001b[0m \u001b[0;34m=\u001b[0m \u001b[0msm\u001b[0m\u001b[0;34m.\u001b[0m\u001b[0mstats\u001b[0m\u001b[0;34m.\u001b[0m\u001b[0manova_lm\u001b[0m\u001b[0;34m(\u001b[0m\u001b[0mmod\u001b[0m\u001b[0;34m,\u001b[0m \u001b[0mtyp\u001b[0m\u001b[0;34m=\u001b[0m\u001b[0;36m3\u001b[0m\u001b[0;34m)\u001b[0m\u001b[0;34m\u001b[0m\u001b[0;34m\u001b[0m\u001b[0m\n\u001b[0m\u001b[1;32m      6\u001b[0m \u001b[0mprint\u001b[0m\u001b[0;34m(\u001b[0m\u001b[0maov_table\u001b[0m\u001b[0;34m)\u001b[0m\u001b[0;34m\u001b[0m\u001b[0;34m\u001b[0m\u001b[0m\n",
            "\u001b[0;32m/usr/local/lib/python3.6/dist-packages/statsmodels/stats/anova.py\u001b[0m in \u001b[0;36manova_lm\u001b[0;34m(*args, **kwargs)\u001b[0m\n\u001b[1;32m    349\u001b[0m     \u001b[0;32mif\u001b[0m \u001b[0mlen\u001b[0m\u001b[0;34m(\u001b[0m\u001b[0margs\u001b[0m\u001b[0;34m)\u001b[0m \u001b[0;34m==\u001b[0m \u001b[0;36m1\u001b[0m\u001b[0;34m:\u001b[0m\u001b[0;34m\u001b[0m\u001b[0;34m\u001b[0m\u001b[0m\n\u001b[1;32m    350\u001b[0m         \u001b[0mmodel\u001b[0m \u001b[0;34m=\u001b[0m \u001b[0margs\u001b[0m\u001b[0;34m[\u001b[0m\u001b[0;36m0\u001b[0m\u001b[0;34m]\u001b[0m\u001b[0;34m\u001b[0m\u001b[0;34m\u001b[0m\u001b[0m\n\u001b[0;32m--> 351\u001b[0;31m         \u001b[0;32mreturn\u001b[0m \u001b[0manova_single\u001b[0m\u001b[0;34m(\u001b[0m\u001b[0mmodel\u001b[0m\u001b[0;34m,\u001b[0m \u001b[0;34m**\u001b[0m\u001b[0mkwargs\u001b[0m\u001b[0;34m)\u001b[0m\u001b[0;34m\u001b[0m\u001b[0;34m\u001b[0m\u001b[0m\n\u001b[0m\u001b[1;32m    352\u001b[0m \u001b[0;34m\u001b[0m\u001b[0m\n\u001b[1;32m    353\u001b[0m     \u001b[0;32mif\u001b[0m \u001b[0mtyp\u001b[0m \u001b[0;32mnot\u001b[0m \u001b[0;32min\u001b[0m \u001b[0;34m[\u001b[0m\u001b[0;36m1\u001b[0m\u001b[0;34m,\u001b[0m \u001b[0;34m\"I\"\u001b[0m\u001b[0;34m]\u001b[0m\u001b[0;34m:\u001b[0m\u001b[0;34m\u001b[0m\u001b[0;34m\u001b[0m\u001b[0m\n",
            "\u001b[0;32m/usr/local/lib/python3.6/dist-packages/statsmodels/stats/anova.py\u001b[0m in \u001b[0;36manova_single\u001b[0;34m(model, **kwargs)\u001b[0m\n\u001b[1;32m     84\u001b[0m     \u001b[0;32melif\u001b[0m \u001b[0mtyp\u001b[0m \u001b[0;32min\u001b[0m \u001b[0;34m[\u001b[0m\u001b[0;36m3\u001b[0m\u001b[0;34m,\u001b[0m \u001b[0;34m\"III\"\u001b[0m\u001b[0;34m]\u001b[0m\u001b[0;34m:\u001b[0m\u001b[0;34m\u001b[0m\u001b[0;34m\u001b[0m\u001b[0m\n\u001b[1;32m     85\u001b[0m         return anova3_lm_single(model, design_info, n_rows, test, pr_test,\n\u001b[0;32m---> 86\u001b[0;31m                                 robust)\n\u001b[0m\u001b[1;32m     87\u001b[0m     \u001b[0;32melif\u001b[0m \u001b[0mtyp\u001b[0m \u001b[0;32min\u001b[0m \u001b[0;34m[\u001b[0m\u001b[0;36m4\u001b[0m\u001b[0;34m,\u001b[0m \u001b[0;34m\"IV\"\u001b[0m\u001b[0;34m]\u001b[0m\u001b[0;34m:\u001b[0m\u001b[0;34m\u001b[0m\u001b[0;34m\u001b[0m\u001b[0m\n\u001b[1;32m     88\u001b[0m         \u001b[0;32mraise\u001b[0m \u001b[0mNotImplementedError\u001b[0m\u001b[0;34m(\u001b[0m\u001b[0;34m\"Type IV not yet implemented\"\u001b[0m\u001b[0;34m)\u001b[0m\u001b[0;34m\u001b[0m\u001b[0;34m\u001b[0m\u001b[0m\n",
            "\u001b[0;32m/usr/local/lib/python3.6/dist-packages/statsmodels/stats/anova.py\u001b[0m in \u001b[0;36manova3_lm_single\u001b[0;34m(model, design_info, n_rows, test, pr_test, robust)\u001b[0m\n\u001b[1;32m    241\u001b[0m \u001b[0;34m\u001b[0m\u001b[0m\n\u001b[1;32m    242\u001b[0m     \u001b[0mtable\u001b[0m \u001b[0;34m=\u001b[0m \u001b[0mDataFrame\u001b[0m\u001b[0;34m(\u001b[0m\u001b[0mnp\u001b[0m\u001b[0;34m.\u001b[0m\u001b[0mzeros\u001b[0m\u001b[0;34m(\u001b[0m\u001b[0;34m(\u001b[0m\u001b[0mn_rows\u001b[0m\u001b[0;34m,\u001b[0m \u001b[0;36m4\u001b[0m\u001b[0;34m)\u001b[0m\u001b[0;34m)\u001b[0m\u001b[0;34m,\u001b[0m \u001b[0mcolumns\u001b[0m \u001b[0;34m=\u001b[0m \u001b[0mnames\u001b[0m\u001b[0;34m)\u001b[0m\u001b[0;34m\u001b[0m\u001b[0;34m\u001b[0m\u001b[0m\n\u001b[0;32m--> 243\u001b[0;31m     \u001b[0mcov\u001b[0m \u001b[0;34m=\u001b[0m \u001b[0m_get_covariance\u001b[0m\u001b[0;34m(\u001b[0m\u001b[0mmodel\u001b[0m\u001b[0;34m,\u001b[0m \u001b[0mrobust\u001b[0m\u001b[0;34m)\u001b[0m\u001b[0;34m\u001b[0m\u001b[0;34m\u001b[0m\u001b[0m\n\u001b[0m\u001b[1;32m    244\u001b[0m     \u001b[0mcol_order\u001b[0m \u001b[0;34m=\u001b[0m \u001b[0;34m[\u001b[0m\u001b[0;34m]\u001b[0m\u001b[0;34m\u001b[0m\u001b[0;34m\u001b[0m\u001b[0m\n\u001b[1;32m    245\u001b[0m     \u001b[0mindex\u001b[0m \u001b[0;34m=\u001b[0m \u001b[0;34m[\u001b[0m\u001b[0;34m]\u001b[0m\u001b[0;34m\u001b[0m\u001b[0;34m\u001b[0m\u001b[0m\n",
            "\u001b[0;32m/usr/local/lib/python3.6/dist-packages/statsmodels/stats/anova.py\u001b[0m in \u001b[0;36m_get_covariance\u001b[0;34m(model, robust)\u001b[0m\n\u001b[1;32m     13\u001b[0m \u001b[0;32mdef\u001b[0m \u001b[0m_get_covariance\u001b[0m\u001b[0;34m(\u001b[0m\u001b[0mmodel\u001b[0m\u001b[0;34m,\u001b[0m \u001b[0mrobust\u001b[0m\u001b[0;34m)\u001b[0m\u001b[0;34m:\u001b[0m\u001b[0;34m\u001b[0m\u001b[0;34m\u001b[0m\u001b[0m\n\u001b[1;32m     14\u001b[0m     \u001b[0;32mif\u001b[0m \u001b[0mrobust\u001b[0m \u001b[0;32mis\u001b[0m \u001b[0;32mNone\u001b[0m\u001b[0;34m:\u001b[0m\u001b[0;34m\u001b[0m\u001b[0;34m\u001b[0m\u001b[0m\n\u001b[0;32m---> 15\u001b[0;31m         \u001b[0;32mreturn\u001b[0m \u001b[0mmodel\u001b[0m\u001b[0;34m.\u001b[0m\u001b[0mcov_params\u001b[0m\u001b[0;34m(\u001b[0m\u001b[0;34m)\u001b[0m\u001b[0;34m\u001b[0m\u001b[0;34m\u001b[0m\u001b[0m\n\u001b[0m\u001b[1;32m     16\u001b[0m     \u001b[0;32melif\u001b[0m \u001b[0mrobust\u001b[0m \u001b[0;34m==\u001b[0m \u001b[0;34m\"hc0\"\u001b[0m\u001b[0;34m:\u001b[0m\u001b[0;34m\u001b[0m\u001b[0;34m\u001b[0m\u001b[0m\n\u001b[1;32m     17\u001b[0m         \u001b[0mse\u001b[0m \u001b[0;34m=\u001b[0m \u001b[0mmodel\u001b[0m\u001b[0;34m.\u001b[0m\u001b[0mHC0_se\u001b[0m\u001b[0;34m\u001b[0m\u001b[0;34m\u001b[0m\u001b[0m\n",
            "\u001b[0;32m/usr/local/lib/python3.6/dist-packages/statsmodels/base/wrapper.py\u001b[0m in \u001b[0;36mwrapper\u001b[0;34m(self, *args, **kwargs)\u001b[0m\n\u001b[1;32m     93\u001b[0m             \u001b[0mobj\u001b[0m \u001b[0;34m=\u001b[0m \u001b[0mdata\u001b[0m\u001b[0;34m.\u001b[0m\u001b[0mwrap_output\u001b[0m\u001b[0;34m(\u001b[0m\u001b[0mfunc\u001b[0m\u001b[0;34m(\u001b[0m\u001b[0mresults\u001b[0m\u001b[0;34m,\u001b[0m \u001b[0;34m*\u001b[0m\u001b[0margs\u001b[0m\u001b[0;34m,\u001b[0m \u001b[0;34m**\u001b[0m\u001b[0mkwargs\u001b[0m\u001b[0;34m)\u001b[0m\u001b[0;34m,\u001b[0m \u001b[0mhow\u001b[0m\u001b[0;34m[\u001b[0m\u001b[0;36m0\u001b[0m\u001b[0;34m]\u001b[0m\u001b[0;34m,\u001b[0m \u001b[0mhow\u001b[0m\u001b[0;34m[\u001b[0m\u001b[0;36m1\u001b[0m\u001b[0;34m:\u001b[0m\u001b[0;34m]\u001b[0m\u001b[0;34m)\u001b[0m\u001b[0;34m\u001b[0m\u001b[0;34m\u001b[0m\u001b[0m\n\u001b[1;32m     94\u001b[0m         \u001b[0;32melif\u001b[0m \u001b[0mhow\u001b[0m\u001b[0;34m:\u001b[0m\u001b[0;34m\u001b[0m\u001b[0;34m\u001b[0m\u001b[0m\n\u001b[0;32m---> 95\u001b[0;31m             \u001b[0mobj\u001b[0m \u001b[0;34m=\u001b[0m \u001b[0mdata\u001b[0m\u001b[0;34m.\u001b[0m\u001b[0mwrap_output\u001b[0m\u001b[0;34m(\u001b[0m\u001b[0mfunc\u001b[0m\u001b[0;34m(\u001b[0m\u001b[0mresults\u001b[0m\u001b[0;34m,\u001b[0m \u001b[0;34m*\u001b[0m\u001b[0margs\u001b[0m\u001b[0;34m,\u001b[0m \u001b[0;34m**\u001b[0m\u001b[0mkwargs\u001b[0m\u001b[0;34m)\u001b[0m\u001b[0;34m,\u001b[0m \u001b[0mhow\u001b[0m\u001b[0;34m)\u001b[0m\u001b[0;34m\u001b[0m\u001b[0;34m\u001b[0m\u001b[0m\n\u001b[0m\u001b[1;32m     96\u001b[0m         \u001b[0;32mreturn\u001b[0m \u001b[0mobj\u001b[0m\u001b[0;34m\u001b[0m\u001b[0;34m\u001b[0m\u001b[0m\n\u001b[1;32m     97\u001b[0m \u001b[0;34m\u001b[0m\u001b[0m\n",
            "\u001b[0;32m/usr/local/lib/python3.6/dist-packages/statsmodels/base/model.py\u001b[0m in \u001b[0;36mcov_params\u001b[0;34m(self, r_matrix, column, scale, cov_p, other)\u001b[0m\n\u001b[1;32m   1373\u001b[0m             \u001b[0;32melse\u001b[0m\u001b[0;34m:\u001b[0m\u001b[0;34m\u001b[0m\u001b[0;34m\u001b[0m\u001b[0m\n\u001b[1;32m   1374\u001b[0m                 \u001b[0;32mif\u001b[0m \u001b[0mscale\u001b[0m \u001b[0;32mis\u001b[0m \u001b[0;32mNone\u001b[0m\u001b[0;34m:\u001b[0m\u001b[0;34m\u001b[0m\u001b[0;34m\u001b[0m\u001b[0m\n\u001b[0;32m-> 1375\u001b[0;31m                     \u001b[0mscale\u001b[0m \u001b[0;34m=\u001b[0m \u001b[0mself\u001b[0m\u001b[0;34m.\u001b[0m\u001b[0mscale\u001b[0m\u001b[0;34m\u001b[0m\u001b[0;34m\u001b[0m\u001b[0m\n\u001b[0m\u001b[1;32m   1376\u001b[0m                 \u001b[0mcov_p\u001b[0m \u001b[0;34m=\u001b[0m \u001b[0mself\u001b[0m\u001b[0;34m.\u001b[0m\u001b[0mnormalized_cov_params\u001b[0m \u001b[0;34m*\u001b[0m \u001b[0mscale\u001b[0m\u001b[0;34m\u001b[0m\u001b[0;34m\u001b[0m\u001b[0m\n\u001b[1;32m   1377\u001b[0m \u001b[0;34m\u001b[0m\u001b[0m\n",
            "\u001b[0;32m/usr/local/lib/python3.6/dist-packages/statsmodels/tools/decorators.py\u001b[0m in \u001b[0;36m__get__\u001b[0;34m(self, obj, type)\u001b[0m\n\u001b[1;32m     91\u001b[0m         \u001b[0m_cachedval\u001b[0m \u001b[0;34m=\u001b[0m \u001b[0m_cache\u001b[0m\u001b[0;34m.\u001b[0m\u001b[0mget\u001b[0m\u001b[0;34m(\u001b[0m\u001b[0mname\u001b[0m\u001b[0;34m,\u001b[0m \u001b[0;32mNone\u001b[0m\u001b[0;34m)\u001b[0m\u001b[0;34m\u001b[0m\u001b[0;34m\u001b[0m\u001b[0m\n\u001b[1;32m     92\u001b[0m         \u001b[0;32mif\u001b[0m \u001b[0m_cachedval\u001b[0m \u001b[0;32mis\u001b[0m \u001b[0;32mNone\u001b[0m\u001b[0;34m:\u001b[0m\u001b[0;34m\u001b[0m\u001b[0;34m\u001b[0m\u001b[0m\n\u001b[0;32m---> 93\u001b[0;31m             \u001b[0m_cachedval\u001b[0m \u001b[0;34m=\u001b[0m \u001b[0mself\u001b[0m\u001b[0;34m.\u001b[0m\u001b[0mfget\u001b[0m\u001b[0;34m(\u001b[0m\u001b[0mobj\u001b[0m\u001b[0;34m)\u001b[0m\u001b[0;34m\u001b[0m\u001b[0;34m\u001b[0m\u001b[0m\n\u001b[0m\u001b[1;32m     94\u001b[0m             \u001b[0m_cache\u001b[0m\u001b[0;34m[\u001b[0m\u001b[0mname\u001b[0m\u001b[0;34m]\u001b[0m \u001b[0;34m=\u001b[0m \u001b[0m_cachedval\u001b[0m\u001b[0;34m\u001b[0m\u001b[0;34m\u001b[0m\u001b[0m\n\u001b[1;32m     95\u001b[0m \u001b[0;34m\u001b[0m\u001b[0m\n",
            "\u001b[0;32m/usr/local/lib/python3.6/dist-packages/statsmodels/regression/linear_model.py\u001b[0m in \u001b[0;36mscale\u001b[0;34m(self)\u001b[0m\n\u001b[1;32m   1576\u001b[0m         \"\"\"\n\u001b[1;32m   1577\u001b[0m         \u001b[0mwresid\u001b[0m \u001b[0;34m=\u001b[0m \u001b[0mself\u001b[0m\u001b[0;34m.\u001b[0m\u001b[0mwresid\u001b[0m\u001b[0;34m\u001b[0m\u001b[0;34m\u001b[0m\u001b[0m\n\u001b[0;32m-> 1578\u001b[0;31m         \u001b[0;32mreturn\u001b[0m \u001b[0mnp\u001b[0m\u001b[0;34m.\u001b[0m\u001b[0mdot\u001b[0m\u001b[0;34m(\u001b[0m\u001b[0mwresid\u001b[0m\u001b[0;34m,\u001b[0m \u001b[0mwresid\u001b[0m\u001b[0;34m)\u001b[0m \u001b[0;34m/\u001b[0m \u001b[0mself\u001b[0m\u001b[0;34m.\u001b[0m\u001b[0mdf_resid\u001b[0m\u001b[0;34m\u001b[0m\u001b[0;34m\u001b[0m\u001b[0m\n\u001b[0m\u001b[1;32m   1579\u001b[0m \u001b[0;34m\u001b[0m\u001b[0m\n\u001b[1;32m   1580\u001b[0m     \u001b[0;34m@\u001b[0m\u001b[0mcache_readonly\u001b[0m\u001b[0;34m\u001b[0m\u001b[0;34m\u001b[0m\u001b[0m\n",
            "\u001b[0;32m<__array_function__ internals>\u001b[0m in \u001b[0;36mdot\u001b[0;34m(*args, **kwargs)\u001b[0m\n",
            "\u001b[0;31mValueError\u001b[0m: shapes (6750,6744) and (6750,6744) not aligned: 6744 (dim 1) != 6750 (dim 0)"
          ]
        }
      ]
    }
  ]
}