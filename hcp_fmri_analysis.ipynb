{
  "nbformat": 4,
  "nbformat_minor": 0,
  "metadata": {
    "colab": {
      "name": "hcp_fmri_analysis.ipynb",
      "provenance": [],
      "collapsed_sections": []
    },
    "kernelspec": {
      "name": "python3",
      "display_name": "Python 3"
    }
  },
  "cells": [
    {
      "cell_type": "code",
      "metadata": {
        "id": "t3skn13iG1Em",
        "colab_type": "code",
        "colab": {}
      },
      "source": [
        "import os\n",
        "import numpy as np\n",
        "import matplotlib.pyplot as plt\n",
        "import pandas as pd"
      ],
      "execution_count": 1,
      "outputs": []
    },
    {
      "cell_type": "markdown",
      "metadata": {
        "id": "v-F2lyLgG-4u",
        "colab_type": "text"
      },
      "source": [
        "# Parameters"
      ]
    },
    {
      "cell_type": "code",
      "metadata": {
        "id": "iDZlL8KNG3zO",
        "colab_type": "code",
        "colab": {}
      },
      "source": [
        "# The download cells will store the data in nested directories starting here:\n",
        "HCP_DIR = \"./hcp\"\n",
        "if not os.path.isdir(HCP_DIR):\n",
        "  os.mkdir(HCP_DIR)\n",
        "\n",
        "# The data shared for NMA projects is a subset of the full HCP dataset\n",
        "N_SUBJECTS = 339\n",
        "\n",
        "# The data have already been aggregated into ROIs from the Glasesr parcellation\n",
        "N_PARCELS = 360\n",
        "\n",
        "# The acquisition parameters for all tasks were identical\n",
        "TR = 0.72  # Time resolution, in sec\n",
        "\n",
        "# The parcels are matched across hemispheres with the same order\n",
        "HEMIS = [\"Right\", \"Left\"]\n",
        "\n",
        "# Each experiment was repeated multiple times in each subject\n",
        "N_RUNS_REST = 4\n",
        "N_RUNS_TASK = 2\n",
        "\n",
        "# Time series data are organized by experiment, with each experiment\n",
        "# having an LR and RL (phase-encode direction) acquistion\n",
        "BOLD_NAMES = [\n",
        "  \"rfMRI_REST1_LR\", \"rfMRI_REST1_RL\",\n",
        "  \"rfMRI_REST2_LR\", \"rfMRI_REST2_RL\",\n",
        "  \"tfMRI_MOTOR_RL\", \"tfMRI_MOTOR_LR\",\n",
        "  \"tfMRI_WM_RL\", \"tfMRI_WM_LR\",\n",
        "  \"tfMRI_EMOTION_RL\", \"tfMRI_EMOTION_LR\",\n",
        "  \"tfMRI_GAMBLING_RL\", \"tfMRI_GAMBLING_LR\",\n",
        "  \"tfMRI_LANGUAGE_RL\", \"tfMRI_LANGUAGE_LR\",\n",
        "  \"tfMRI_RELATIONAL_RL\", \"tfMRI_RELATIONAL_LR\",\n",
        "  \"tfMRI_SOCIAL_RL\", \"tfMRI_SOCIAL_LR\"\n",
        "]\n",
        "\n",
        "# You may want to limit the subjects used during code development.\n",
        "# This will use all subjects:\n",
        "subjects = range(N_SUBJECTS)"
      ],
      "execution_count": 2,
      "outputs": []
    },
    {
      "cell_type": "markdown",
      "metadata": {
        "id": "jikvS2czHFRo",
        "colab_type": "text"
      },
      "source": [
        "# Loading functions"
      ]
    },
    {
      "cell_type": "code",
      "metadata": {
        "id": "kkNre_7iG6wF",
        "colab_type": "code",
        "colab": {}
      },
      "source": [
        "fname = \"hcp_task.tgz\"\n",
        "if not os.path.exists(fname):\n",
        "  !wget -qO $fname https://osf.io/s4h8j/download/\n",
        "  !tar -xzf $fname -C $HCP_DIR --strip-components=1"
      ],
      "execution_count": null,
      "outputs": []
    },
    {
      "cell_type": "code",
      "metadata": {
        "id": "GWS3b16CI3l8",
        "colab_type": "code",
        "colab": {}
      },
      "source": [
        "def get_image_ids(name):\n",
        "  \"\"\"Get the 1-based image indices for runs in a given experiment.\n",
        "\n",
        "    Args:\n",
        "      name (str) : Name of experiment (\"rest\" or name of task) to load\n",
        "    Returns:\n",
        "      run_ids (list of int) : Numeric ID for experiment image files\n",
        "\n",
        "  \"\"\"\n",
        "  run_ids = [\n",
        "    i for i, code in enumerate(BOLD_NAMES, 1) if name.upper() in code\n",
        "  ]\n",
        "  if not run_ids:\n",
        "    raise ValueError(f\"Found no data for '{name}''\")\n",
        "  return run_ids\n",
        "\n",
        "def load_timeseries(subject, name, runs=None, concat=True, remove_mean=True):\n",
        "  \"\"\"Load timeseries data for a single subject.\n",
        "  \n",
        "  Args:\n",
        "    subject (int): 0-based subject ID to load\n",
        "    name (str) : Name of experiment (\"rest\" or name of task) to load\n",
        "    run (None or int or list of ints): 0-based run(s) of the task to load,\n",
        "      or None to load all runs.\n",
        "    concat (bool) : If True, concatenate multiple runs in time\n",
        "    remove_mean (bool) : If True, subtract the parcel-wise mean\n",
        "\n",
        "  Returns\n",
        "    ts (n_parcel x n_tp array): Array of BOLD data values\n",
        "\n",
        "  \"\"\"\n",
        "  # Get the list relative 0-based index of runs to use\n",
        "  if runs is None:\n",
        "    runs = range(N_RUNS_REST) if name == \"rest\" else range(N_RUNS_TASK)\n",
        "  elif isinstance(runs, int):\n",
        "    runs = [runs]\n",
        "\n",
        "  # Get the first (1-based) run id for this experiment \n",
        "  offset = get_image_ids(name)[0]\n",
        "\n",
        "  # Load each run's data\n",
        "  bold_data = [\n",
        "      load_single_timeseries(subject, offset + run, remove_mean) for run in runs\n",
        "  ]\n",
        "\n",
        "  # Optionally concatenate in time\n",
        "  if concat:\n",
        "    bold_data = np.concatenate(bold_data, axis=-1)\n",
        "\n",
        "  return bold_data\n",
        "\n",
        "\n",
        "def load_single_timeseries(subject, bold_run, remove_mean=True):\n",
        "  \"\"\"Load timeseries data for a single subject and single run.\n",
        "  \n",
        "  Args:\n",
        "    subject (int): 0-based subject ID to load\n",
        "    bold_run (int): 1-based run index, across all tasks\n",
        "    remove_mean (bool): If True, subtract the parcel-wise mean\n",
        "\n",
        "  Returns\n",
        "    ts (n_parcel x n_timepoint array): Array of BOLD data values\n",
        "\n",
        "  \"\"\"\n",
        "  bold_path = f\"{HCP_DIR}/subjects/{subject}/timeseries\"\n",
        "  bold_file = f\"bold{bold_run}_Atlas_MSMAll_Glasser360Cortical.npy\"\n",
        "  ts = np.load(f\"{bold_path}/{bold_file}\")\n",
        "  if remove_mean:\n",
        "    ts -= ts.mean(axis=1, keepdims=True)\n",
        "  return ts\n",
        "\n",
        "def load_evs(subject, name, condition):\n",
        "  \"\"\"Load EV (explanatory variable) data for one task condition.\n",
        "\n",
        "  Args:\n",
        "    subject (int): 0-based subject ID to load\n",
        "    name (str) : Name of task\n",
        "    condition (str) : Name of condition\n",
        "\n",
        "  Returns\n",
        "    evs (list of dicts): A dictionary with the onset, duration, and amplitude\n",
        "      of the condition for each run.\n",
        "\n",
        "  \"\"\"\n",
        "  evs = []\n",
        "  for id in get_image_ids(name):\n",
        "    task_key = BOLD_NAMES[id - 1]\n",
        "    ev_file = f\"{HCP_DIR}/subjects/{subject}/EVs/{task_key}/{condition}.txt\"\n",
        "    ev = dict(zip([\"onset\", \"duration\", \"amplitude\"], np.genfromtxt(ev_file).T))\n",
        "    evs.append(ev)\n",
        "  return evs"
      ],
      "execution_count": null,
      "outputs": []
    },
    {
      "cell_type": "markdown",
      "metadata": {
        "id": "GRgj7FnDHKbQ",
        "colab_type": "text"
      },
      "source": [
        "Region info"
      ]
    },
    {
      "cell_type": "code",
      "metadata": {
        "id": "oXfFWz7qHJnk",
        "colab_type": "code",
        "colab": {
          "base_uri": "https://localhost:8080/",
          "height": 762
        },
        "outputId": "d3bee6be-2ab9-4715-d796-87d700707b54"
      },
      "source": [
        "regions = np.load(f\"{HCP_DIR}/regions.npy\").T\n",
        "region_info = dict(\n",
        "    name=regions[0].tolist(),\n",
        "    network=regions[1],\n",
        "    myelin=regions[2].astype(np.float),\n",
        ")\n",
        "\n",
        "# ROIs: temporoparietal junction, superior temporal sulcus, medial prefrontal cortex, fusiform gyrus, occipital gyrus, amygdala, insula \n",
        "# Codes from text:\n",
        "# STS: STSdp, STSda, STSvp, STSva\n",
        "# temporo-parietal-occipital junction:  TPOJ1,  TPOJ2,  TPOJ3\n",
        "# ACC and mPFC: 33pr,  p24pr,  a24pr,  p24,  a24,  p32pr,  a32pr,  d32,  p32,  s32,  8BM,  9m, 10v,  10r,  and 25\n",
        "# fusiform gyrus: FFC\n",
        "# occipital gyrus: ???\n",
        "# insula: Ig\n",
        "\n",
        "regions_table = pd.DataFrame.from_dict(region_info)\n",
        "regions_table[regions_table['network']=='Language']"
      ],
      "execution_count": null,
      "outputs": [
        {
          "output_type": "execute_result",
          "data": {
            "text/html": [
              "<div>\n",
              "<style scoped>\n",
              "    .dataframe tbody tr th:only-of-type {\n",
              "        vertical-align: middle;\n",
              "    }\n",
              "\n",
              "    .dataframe tbody tr th {\n",
              "        vertical-align: top;\n",
              "    }\n",
              "\n",
              "    .dataframe thead th {\n",
              "        text-align: right;\n",
              "    }\n",
              "</style>\n",
              "<table border=\"1\" class=\"dataframe\">\n",
              "  <thead>\n",
              "    <tr style=\"text-align: right;\">\n",
              "      <th></th>\n",
              "      <th>name</th>\n",
              "      <th>network</th>\n",
              "      <th>myelin</th>\n",
              "    </tr>\n",
              "  </thead>\n",
              "  <tbody>\n",
              "    <tr>\n",
              "      <th>10</th>\n",
              "      <td>R_PEF</td>\n",
              "      <td>Language</td>\n",
              "      <td>1.83377</td>\n",
              "    </tr>\n",
              "    <tr>\n",
              "      <th>45</th>\n",
              "      <td>R_7PL</td>\n",
              "      <td>Language</td>\n",
              "      <td>1.88253</td>\n",
              "    </tr>\n",
              "    <tr>\n",
              "      <th>49</th>\n",
              "      <td>R_MIP</td>\n",
              "      <td>Language</td>\n",
              "      <td>1.93308</td>\n",
              "    </tr>\n",
              "    <tr>\n",
              "      <th>94</th>\n",
              "      <td>R_LIPd</td>\n",
              "      <td>Language</td>\n",
              "      <td>1.93820</td>\n",
              "    </tr>\n",
              "    <tr>\n",
              "      <th>95</th>\n",
              "      <td>R_6a</td>\n",
              "      <td>Language</td>\n",
              "      <td>1.80433</td>\n",
              "    </tr>\n",
              "    <tr>\n",
              "      <th>115</th>\n",
              "      <td>R_PFt</td>\n",
              "      <td>Language</td>\n",
              "      <td>1.77239</td>\n",
              "    </tr>\n",
              "    <tr>\n",
              "      <th>116</th>\n",
              "      <td>R_AIP</td>\n",
              "      <td>Language</td>\n",
              "      <td>1.87392</td>\n",
              "    </tr>\n",
              "    <tr>\n",
              "      <th>126</th>\n",
              "      <td>R_PHA3</td>\n",
              "      <td>Language</td>\n",
              "      <td>1.85582</td>\n",
              "    </tr>\n",
              "    <tr>\n",
              "      <th>135</th>\n",
              "      <td>R_TE2p</td>\n",
              "      <td>Language</td>\n",
              "      <td>1.79600</td>\n",
              "    </tr>\n",
              "    <tr>\n",
              "      <th>136</th>\n",
              "      <td>R_PHT</td>\n",
              "      <td>Language</td>\n",
              "      <td>1.76263</td>\n",
              "    </tr>\n",
              "    <tr>\n",
              "      <th>142</th>\n",
              "      <td>R_PGp</td>\n",
              "      <td>Language</td>\n",
              "      <td>1.82357</td>\n",
              "    </tr>\n",
              "    <tr>\n",
              "      <th>145</th>\n",
              "      <td>R_IP0</td>\n",
              "      <td>Language</td>\n",
              "      <td>1.93521</td>\n",
              "    </tr>\n",
              "    <tr>\n",
              "      <th>225</th>\n",
              "      <td>L_7PL</td>\n",
              "      <td>Language</td>\n",
              "      <td>1.79848</td>\n",
              "    </tr>\n",
              "    <tr>\n",
              "      <th>229</th>\n",
              "      <td>L_MIP</td>\n",
              "      <td>Language</td>\n",
              "      <td>1.83367</td>\n",
              "    </tr>\n",
              "    <tr>\n",
              "      <th>274</th>\n",
              "      <td>L_LIPd</td>\n",
              "      <td>Language</td>\n",
              "      <td>1.86949</td>\n",
              "    </tr>\n",
              "    <tr>\n",
              "      <th>275</th>\n",
              "      <td>L_6a</td>\n",
              "      <td>Language</td>\n",
              "      <td>1.84796</td>\n",
              "    </tr>\n",
              "    <tr>\n",
              "      <th>295</th>\n",
              "      <td>L_PFt</td>\n",
              "      <td>Language</td>\n",
              "      <td>1.80411</td>\n",
              "    </tr>\n",
              "    <tr>\n",
              "      <th>296</th>\n",
              "      <td>L_AIP</td>\n",
              "      <td>Language</td>\n",
              "      <td>1.83782</td>\n",
              "    </tr>\n",
              "    <tr>\n",
              "      <th>306</th>\n",
              "      <td>L_PHA3</td>\n",
              "      <td>Language</td>\n",
              "      <td>1.77098</td>\n",
              "    </tr>\n",
              "    <tr>\n",
              "      <th>315</th>\n",
              "      <td>L_TE2p</td>\n",
              "      <td>Language</td>\n",
              "      <td>1.67471</td>\n",
              "    </tr>\n",
              "    <tr>\n",
              "      <th>316</th>\n",
              "      <td>L_PHT</td>\n",
              "      <td>Language</td>\n",
              "      <td>1.66739</td>\n",
              "    </tr>\n",
              "    <tr>\n",
              "      <th>322</th>\n",
              "      <td>L_PGp</td>\n",
              "      <td>Language</td>\n",
              "      <td>1.70465</td>\n",
              "    </tr>\n",
              "    <tr>\n",
              "      <th>325</th>\n",
              "      <td>L_IP0</td>\n",
              "      <td>Language</td>\n",
              "      <td>1.79594</td>\n",
              "    </tr>\n",
              "  </tbody>\n",
              "</table>\n",
              "</div>"
            ],
            "text/plain": [
              "       name   network   myelin\n",
              "10    R_PEF  Language  1.83377\n",
              "45    R_7PL  Language  1.88253\n",
              "49    R_MIP  Language  1.93308\n",
              "94   R_LIPd  Language  1.93820\n",
              "95     R_6a  Language  1.80433\n",
              "115   R_PFt  Language  1.77239\n",
              "116   R_AIP  Language  1.87392\n",
              "126  R_PHA3  Language  1.85582\n",
              "135  R_TE2p  Language  1.79600\n",
              "136   R_PHT  Language  1.76263\n",
              "142   R_PGp  Language  1.82357\n",
              "145   R_IP0  Language  1.93521\n",
              "225   L_7PL  Language  1.79848\n",
              "229   L_MIP  Language  1.83367\n",
              "274  L_LIPd  Language  1.86949\n",
              "275    L_6a  Language  1.84796\n",
              "295   L_PFt  Language  1.80411\n",
              "296   L_AIP  Language  1.83782\n",
              "306  L_PHA3  Language  1.77098\n",
              "315  L_TE2p  Language  1.67471\n",
              "316   L_PHT  Language  1.66739\n",
              "322   L_PGp  Language  1.70465\n",
              "325   L_IP0  Language  1.79594"
            ]
          },
          "metadata": {
            "tags": []
          },
          "execution_count": 58
        }
      ]
    },
    {
      "cell_type": "code",
      "metadata": {
        "id": "B3QFTWLMHyKC",
        "colab_type": "code",
        "colab": {}
      },
      "source": [
        "# Finding indices of two ROI regions\n",
        "regionsdf = pd.DataFrame.from_dict(region_info)\n",
        "regionsdf[regionsdf['name'].str.contains(\"STS\")]\n",
        "STSidx = regionsdf.index[regionsdf['name'].str.contains(\"R_STS\")].tolist() # get indices\n",
        "TPOJidx = regionsdf.index[regionsdf['name'].str.contains(\"R_TPOJ\")].tolist() # get indices"
      ],
      "execution_count": null,
      "outputs": []
    },
    {
      "cell_type": "code",
      "metadata": {
        "id": "z1rWt15gHysG",
        "colab_type": "code",
        "colab": {
          "base_uri": "https://localhost:8080/",
          "height": 298
        },
        "outputId": "1427c712-b922-4749-8ebb-f04ac8a877fe"
      },
      "source": [
        "# Loading time series for two regions and plotting\n",
        "all_ts = load_timeseries(25, \"SOCIAL\", runs=None, concat=True, remove_mean=True)\n",
        "# average over all STS regions\n",
        "STS_ts = np.mean(all_ts[STSidx,],axis=0)\n",
        "plt.plot(STS_ts,label = 'superior temporal sulcus') #avg time series in STS\n",
        "TPOJ_ts = np.mean(all_ts[TPOJidx,],axis=0)\n",
        "plt.plot(TPOJ_ts,label = 'temporo-parietal-occipital junction')\n",
        "plt.title('avg time series')\n",
        "plt.legend()"
      ],
      "execution_count": null,
      "outputs": [
        {
          "output_type": "execute_result",
          "data": {
            "text/plain": [
              "<matplotlib.legend.Legend at 0x7f4b6c251e10>"
            ]
          },
          "metadata": {
            "tags": []
          },
          "execution_count": 65
        },
        {
          "output_type": "display_data",
          "data": {
            "image/png": "[encoded data removed]",
            "text/plain": [
              "<Figure size 432x288 with 1 Axes>"
            ]
          },
          "metadata": {
            "tags": [],
            "needs_background": "light"
          }
        }
      ]
    },
    {
      "cell_type": "code",
      "metadata": {
        "id": "4YksE9meH1cK",
        "colab_type": "code",
        "colab": {
          "base_uri": "https://localhost:8080/",
          "height": 282
        },
        "outputId": "3e5ef2fc-7ea2-4951-df64-a200a6338b78"
      },
      "source": [
        "# Pick a random region to compare - V1\n",
        "idx1 = regionsdf.index[regionsdf['network'].str.contains(\"Visual\")].tolist() # get indices\n",
        "region1 = np.mean(all_ts[idx1,],axis = 0)\n",
        "plt.plot(region1,label='Visual') \n",
        "idx2 = regionsdf.index[regionsdf['network'].str.contains(\"Language\")].tolist() # get indices\n",
        "region2 = np.mean(all_ts[idx2,],axis = 0)\n",
        "plt.plot(region2,label='Lang') \n",
        "plt.legend()"
      ],
      "execution_count": null,
      "outputs": [
        {
          "output_type": "execute_result",
          "data": {
            "text/plain": [
              "<matplotlib.legend.Legend at 0x7f4b6c15ec50>"
            ]
          },
          "metadata": {
            "tags": []
          },
          "execution_count": 68
        },
        {
          "output_type": "display_data",
          "data": {
            "image/png": "[encoded data removed]",
            "text/plain": [
              "<Figure size 432x288 with 1 Axes>"
            ]
          },
          "metadata": {
            "tags": [],
            "needs_background": "light"
          }
        }
      ]
    },
    {
      "cell_type": "markdown",
      "metadata": {
        "id": "z0sqXIoHH4GP",
        "colab_type": "text"
      },
      "source": [
        "## Granger causality"
      ]
    },
    {
      "cell_type": "code",
      "metadata": {
        "id": "HsMsVTAfH6CL",
        "colab_type": "code",
        "colab": {}
      },
      "source": [
        "from statsmodels.tsa.stattools import grangercausalitytests\n",
        "STS_TPOJ_ts = np.vstack((STS_ts,TPOJ_ts)).T #combine two time series, one for each column\n",
        "np.shape(STS_TPOJ_ts)\n",
        "grangercausalitytests(STS_TPOJ_ts,1,verbose=True)"
      ],
      "execution_count": null,
      "outputs": []
    }
  ]
}