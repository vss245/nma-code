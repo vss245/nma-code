{
  "nbformat": 4,
  "nbformat_minor": 0,
  "metadata": {
    "colab": {
      "name": "hcp_fmri_analysis.ipynb",
      "provenance": [],
      "collapsed_sections": [],
      "toc_visible": true,
      "include_colab_link": true
    },
    "kernelspec": {
      "name": "python3",
      "display_name": "Python 3"
    }
  },
  "cells": [
    {
      "cell_type": "markdown",
      "metadata": {
        "id": "view-in-github",
        "colab_type": "text"
      },
      "source": [
        "<a href=\"https://colab.research.google.com/github/vss245/nma_code/blob/master/hcp_fmri_analysis.ipynb\" target=\"_parent\"><img src=\"https://colab.research.google.com/assets/colab-badge.svg\" alt=\"Open In Colab\"/></a>"
      ]
    },
    {
      "cell_type": "markdown",
      "metadata": {
        "id": "vATxcnlSUEqv",
        "colab_type": "text"
      },
      "source": [
        "# Intro and theory\n",
        "Dataset: HCP fMRI dataset, preprocessed and parcellated into 360 ROIs\n",
        "\n",
        "Task: Observing shapes moving either randomly or appearing to interact \"socially\"\n",
        " \n",
        "Question: how does the brain encode viewing social interaction?\n",
        "\n",
        "ROIs: temporoparietal junction, superior temporal sulcus, medial prefrontal cortex, fusiform gyrus, occipital gyrus, amygdala, insula \n",
        "\n",
        "Model: \n",
        "- ROIs indicated above interact with each other throughout this process of observing social interaction\n",
        "- We can measure this interaction via effective connectivity (e.g. Granger causality)\n",
        "- Viewing social interaction will increase GC between the ROIs, whereas random motion will not (control: random network, such as lower visual areas) \n",
        "\n",
        "Approach:\n",
        "- extract time series for every subject for these ROIs in both conditions\n",
        "- calculate GC between them (multivariate GC? fit a VAR?)\n",
        "\n",
        "Hypothesis: viewing social interaction increases connectivity between areas within the \"social network\" of the brain\n",
        "\n",
        "Statistics: \n",
        "- due to the structure of the experiment, we obtain GC separately for each condition per run and average across runs\n",
        "- after that, we have 1 GC value per condition per pairs of regions per subject (potentially we can subtract the two GC values and just look at the GC condition difference per pairs of regions per subject)\n",
        "- group level stats: ANOVA \n"
      ]
    },
    {
      "cell_type": "code",
      "metadata": {
        "id": "t3skn13iG1Em",
        "colab_type": "code",
        "colab": {
          "base_uri": "https://localhost:8080/",
          "height": 71
        },
        "outputId": "1d5a35c0-704d-486c-bb25-202d3a07740e"
      },
      "source": [
        "import os\n",
        "import numpy as np\n",
        "import matplotlib.pyplot as plt\n",
        "import pandas as pd\n",
        "import nitime\n",
        "import nitime.analysis as nta\n",
        "import nitime.timeseries as nts\n",
        "import nitime.utils as tsu\n",
        "from nitime.viz import drawmatrix_channels\n",
        "import seaborn as sns"
      ],
      "execution_count": 1,
      "outputs": [
        {
          "output_type": "stream",
          "text": [
            "/usr/local/lib/python3.6/dist-packages/statsmodels/tools/_testing.py:19: FutureWarning: pandas.util.testing is deprecated. Use the functions in the public API at pandas.testing instead.\n",
            "  import pandas.util.testing as tm\n"
          ],
          "name": "stderr"
        }
      ]
    },
    {
      "cell_type": "markdown",
      "metadata": {
        "id": "5llY-YGFJ6PP",
        "colab_type": "text"
      },
      "source": [
        "https://github.com/ansteeg/NeuroMatchProject/blob/master/atlas/hcp_parcels.csv"
      ]
    },
    {
      "cell_type": "markdown",
      "metadata": {
        "id": "v-F2lyLgG-4u",
        "colab_type": "text"
      },
      "source": [
        "# Parameters"
      ]
    },
    {
      "cell_type": "code",
      "metadata": {
        "id": "iDZlL8KNG3zO",
        "colab_type": "code",
        "cellView": "form",
        "colab": {}
      },
      "source": [
        "#@title Download code\n",
        "# The download cells will store the data in nested directories starting here:\n",
        "HCP_DIR = \"./hcp\"\n",
        "if not os.path.isdir(HCP_DIR):\n",
        "  os.mkdir(HCP_DIR)\n",
        "\n",
        "# The data shared for NMA projects is a subset of the full HCP dataset\n",
        "N_SUBJECTS = 339\n",
        "\n",
        "# The data have already been aggregated into ROIs from the Glasesr parcellation\n",
        "N_PARCELS = 360\n",
        "\n",
        "# The acquisition parameters for all tasks were identical\n",
        "TR = 0.72  # Time resolution, in sec\n",
        "\n",
        "# The parcels are matched across hemispheres with the same order\n",
        "HEMIS = [\"Right\", \"Left\"]\n",
        "\n",
        "# Each experiment was repeated multiple times in each subject\n",
        "N_RUNS_REST = 4\n",
        "N_RUNS_TASK = 2\n",
        "\n",
        "# Time series data are organized by experiment, with each experiment\n",
        "# having an LR and RL (phase-encode direction) acquistion\n",
        "BOLD_NAMES = [\n",
        "  \"rfMRI_REST1_LR\", \"rfMRI_REST1_RL\",\n",
        "  \"rfMRI_REST2_LR\", \"rfMRI_REST2_RL\",\n",
        "  \"tfMRI_MOTOR_RL\", \"tfMRI_MOTOR_LR\",\n",
        "  \"tfMRI_WM_RL\", \"tfMRI_WM_LR\",\n",
        "  \"tfMRI_EMOTION_RL\", \"tfMRI_EMOTION_LR\",\n",
        "  \"tfMRI_GAMBLING_RL\", \"tfMRI_GAMBLING_LR\",\n",
        "  \"tfMRI_LANGUAGE_RL\", \"tfMRI_LANGUAGE_LR\",\n",
        "  \"tfMRI_RELATIONAL_RL\", \"tfMRI_RELATIONAL_LR\",\n",
        "  \"tfMRI_SOCIAL_RL\", \"tfMRI_SOCIAL_LR\"\n",
        "]\n",
        "\n",
        "# You may want to limit the subjects used during code development.\n",
        "# This will use all subjects:\n",
        "subjects = range(N_SUBJECTS)"
      ],
      "execution_count": 2,
      "outputs": []
    },
    {
      "cell_type": "markdown",
      "metadata": {
        "id": "jikvS2czHFRo",
        "colab_type": "text"
      },
      "source": [
        "# Loading functions"
      ]
    },
    {
      "cell_type": "code",
      "metadata": {
        "id": "kkNre_7iG6wF",
        "colab_type": "code",
        "colab": {}
      },
      "source": [
        "fname = \"hcp_task.tgz\"\n",
        "if not os.path.exists(fname):\n",
        "  !wget -qO $fname https://osf.io/s4h8j/download/\n",
        "  !tar -xzf $fname -C $HCP_DIR --strip-components=1"
      ],
      "execution_count": 31,
      "outputs": []
    },
    {
      "cell_type": "code",
      "metadata": {
        "id": "NNZufrlvrSOS",
        "colab_type": "code",
        "colab": {}
      },
      "source": [
        "fname = f\"{HCP_DIR}/atlas.npz\"\n",
        "if not os.path.exists(fname):\n",
        "  !wget -qO $fname https://osf.io/j5kuc/download"
      ],
      "execution_count": 32,
      "outputs": []
    },
    {
      "cell_type": "code",
      "metadata": {
        "id": "GWS3b16CI3l8",
        "colab_type": "code",
        "cellView": "form",
        "colab": {}
      },
      "source": [
        "#@title Helper functions: get image index, load_timeseries, load_evs (provided)\n",
        "def get_image_ids(name):\n",
        "  \"\"\"Get the 1-based image indices for runs in a given experiment.\n",
        "\n",
        "    Args:\n",
        "      name (str) : Name of experiment (\"rest\" or name of task) to load\n",
        "    Returns:\n",
        "      run_ids (list of int) : Numeric ID for experiment image files\n",
        "\n",
        "  \"\"\"\n",
        "  run_ids = [\n",
        "    i for i, code in enumerate(BOLD_NAMES, 1) if name.upper() in code\n",
        "  ]\n",
        "  if not run_ids:\n",
        "    raise ValueError(f\"Found no data for '{name}''\")\n",
        "  return run_ids\n",
        "\n",
        "def load_timeseries(subject, name, runs=None, concat=True, remove_mean=True):\n",
        "  \"\"\"Load timeseries data for a single subject.\n",
        "  \n",
        "  Args:\n",
        "    subject (int): 0-based subject ID to load\n",
        "    name (str) : Name of experiment (\"rest\" or name of task) to load\n",
        "    run (None or int or list of ints): 0-based run(s) of the task to load,\n",
        "      or None to load all runs.\n",
        "    concat (bool) : If True, concatenate multiple runs in time\n",
        "    remove_mean (bool) : If True, subtract the parcel-wise mean\n",
        "\n",
        "  Returns\n",
        "    ts (n_parcel x n_tp array): Array of BOLD data values\n",
        "\n",
        "  \"\"\"\n",
        "  # Get the list relative 0-based index of runs to use\n",
        "  if runs is None:\n",
        "    runs = range(N_RUNS_REST) if name == \"rest\" else range(N_RUNS_TASK)\n",
        "  elif isinstance(runs, int):\n",
        "    runs = [runs]\n",
        "\n",
        "  # Get the first (1-based) run id for this experiment \n",
        "  offset = get_image_ids(name)[0]\n",
        "\n",
        "  # Load each run's data\n",
        "  bold_data = [\n",
        "      load_single_timeseries(subject, offset + run, remove_mean) for run in runs\n",
        "  ]\n",
        "\n",
        "  # Optionally concatenate in time\n",
        "  if concat:\n",
        "    bold_data = np.concatenate(bold_data, axis=-1)\n",
        "\n",
        "  return bold_data\n",
        "\n",
        "\n",
        "def load_single_timeseries(subject, bold_run, remove_mean=True):\n",
        "  \"\"\"Load timeseries data for a single subject and single run.\n",
        "  \n",
        "  Args:\n",
        "    subject (int): 0-based subject ID to load\n",
        "    bold_run (int): 1-based run index, across all tasks\n",
        "    remove_mean (bool): If True, subtract the parcel-wise mean\n",
        "\n",
        "  Returns\n",
        "    ts (n_parcel x n_timepoint array): Array of BOLD data values\n",
        "\n",
        "  \"\"\"\n",
        "  bold_path = f\"{HCP_DIR}/subjects/{subject}/timeseries\"\n",
        "  bold_file = f\"bold{bold_run}_Atlas_MSMAll_Glasser360Cortical.npy\"\n",
        "  ts = np.load(f\"{bold_path}/{bold_file}\")\n",
        "  if remove_mean:\n",
        "    ts -= ts.mean(axis=1, keepdims=True)\n",
        "  return ts\n",
        "\n",
        "def load_evs(subject, name, condition):\n",
        "  \"\"\"Load EV (explanatory variable) data for one task condition.\n",
        "\n",
        "  Args:\n",
        "    subject (int): 0-based subject ID to load\n",
        "    name (str) : Name of task\n",
        "    condition (str) : Name of condition\n",
        "\n",
        "  Returns\n",
        "    evs (list of dicts): A dictionary with the onset, duration, and amplitude\n",
        "      of the condition for each run.\n",
        "\n",
        "  \"\"\"\n",
        "  evs = []\n",
        "  for id in get_image_ids(name):\n",
        "    task_key = BOLD_NAMES[id - 1]\n",
        "    ev_file = f\"{HCP_DIR}/subjects/{subject}/EVs/{task_key}/{condition}.txt\"\n",
        "    ev = dict(zip([\"onset\", \"duration\", \"amplitude\"], np.genfromtxt(ev_file).T))\n",
        "    evs.append(ev)\n",
        "  return evs\n",
        "\n",
        "def condition_frames(run_evs, skip=0):\n",
        "  \"\"\"Identify timepoints corresponding to a given condition in each run.\n",
        "\n",
        "  Args:\n",
        "    run_evs (list of dicts) : Onset and duration of the event, per run\n",
        "    skip (int) : Ignore this many frames at the start of each trial, to account\n",
        "      for hemodynamic lag\n",
        "\n",
        "  Returns:\n",
        "    frames_list (list of 1D arrays): Flat arrays of frame indices, per run\n",
        "\n",
        "  \"\"\"\n",
        "  frames_list = []\n",
        "  for ev in run_evs:\n",
        "\n",
        "    # Determine when trial starts, rounded down\n",
        "    start = np.floor(ev[\"onset\"] / TR).astype(int)\n",
        "\n",
        "    # Use trial duration to determine how many frames to include for trial\n",
        "    duration = np.ceil(ev[\"duration\"] / TR).astype(int)\n",
        "\n",
        "    # Take the range of frames that correspond to this specific trial\n",
        "    frames = [s + np.arange(skip, d) for s, d in zip(start, duration)]\n",
        "\n",
        "    frames_list.append(np.concatenate(frames))\n",
        "\n",
        "  return frames_list\n",
        "\n",
        "\n",
        "def selective_average(timeseries_data, ev, skip=0):\n",
        "  \"\"\"Take the temporal mean across frames for a given condition.\n",
        "\n",
        "  Args:\n",
        "    timeseries_data (array or list of arrays): n_parcel x n_tp arrays\n",
        "    ev (dict or list of dicts): Condition timing information\n",
        "    skip (int) : Ignore this many frames at the start of each trial, to account\n",
        "      for hemodynamic lag\n",
        "\n",
        "  Returns:\n",
        "    avg_data (1D array): Data averaged across selected image frames based\n",
        "    on condition timing\n",
        "\n",
        "  \"\"\"\n",
        "  # Ensure that we have lists of the same length\n",
        "  if not isinstance(timeseries_data, list):\n",
        "    timeseries_data = [timeseries_data]\n",
        "  if not isinstance(ev, list):\n",
        "    ev = [ev]\n",
        "  if len(timeseries_data) != len(ev):\n",
        "    raise ValueError(\"Length of `timeseries_data` and `ev` must match.\")\n",
        "\n",
        "  # Identify the indices of relevant frames\n",
        "  frames = condition_frames(ev)\n",
        "\n",
        "  # Select the frames from each image\n",
        "  selected_data = []\n",
        "  for run_data, run_frames in zip(timeseries_data, frames):\n",
        "    selected_data.append(run_data[:, run_frames])\n",
        "\n",
        "  # Take the average in each parcel\n",
        "  avg_data = np.concatenate(selected_data, axis=-1).mean(axis=-1)\n",
        "\n",
        "  return avg_data"
      ],
      "execution_count": 4,
      "outputs": []
    },
    {
      "cell_type": "markdown",
      "metadata": {
        "id": "GRgj7FnDHKbQ",
        "colab_type": "text"
      },
      "source": [
        "## Region info"
      ]
    },
    {
      "cell_type": "code",
      "metadata": {
        "id": "oXfFWz7qHJnk",
        "colab_type": "code",
        "colab": {}
      },
      "source": [
        "# get region info from data\n",
        "regions = np.load(f\"{HCP_DIR}/regions.npy\").T\n",
        "region_info = dict(\n",
        "    name=regions[0].tolist(),\n",
        "    network=regions[1],\n",
        "    myelin=regions[2].astype(np.float),\n",
        ")\n",
        "\n",
        "regionsdf = pd.DataFrame.from_dict(region_info)\n",
        "#             #'33pr' (coordinating emotion),  'p24pr' (stimulus and response selection during cognitively demanding tasks),  'a24pr',  'p24',  'a24' - ACC (may not be relevant to the task)\n",
        "             #'p32pr' (SFG, stimulus response selection), \n",
        "             #'s32 (higher order role in emotional affect as well as reward expectation)\n",
        "             # 8BM (coordinating visuospatial information)\n",
        "             # '9m' increased activity when monitoring multiple pieces of spatialinformation\n",
        "             #10 r (importance in concentration and working memory)\n",
        "# make a dictionary with all of the above, figure out details later - mPFC?\n",
        "roi_names = ['STS', 'TPOJ', 'mPFC', 'fusiform', 'insula', 'MT']\n",
        "roi_codes = [['STSdp', 'STSda', 'STSvp', 'STSva'],\n",
        "            ['TPOJ1',  'TPOJ2',  'TPOJ3'],\n",
        "            ['a32pr',  'd32' 'p32', '10v',  '10r', '25'],\n",
        "            ['FFC'],  \n",
        "            ['Ig'],\n",
        "            ['MT']]\n",
        "def get_ts_condition(ts,subject,task,run,condition):\n",
        "  \"\"\"\n",
        "  Loads HCP timeseries data for the specified subject and run and condition.\n",
        "\n",
        "  INPUTS:\n",
        "    ts: timeseries (Nregions x Ntimepoints)\n",
        "    subject: subject number\n",
        "    task: task name\n",
        "    run: run number\n",
        "    condition: condition name\n",
        "\n",
        "  OUTPUT:\n",
        "    timeseries of condition for the subject, all runs and blocks concatenated\n",
        "    Returns a Nregions x time array.\n",
        "  \n",
        "  \"\"\"\n",
        "\n",
        "  # Load block onsets\n",
        "  evs = load_evs(subject,task,condition)\n",
        "\n",
        "  # Get all frames for condition in run\n",
        "  frames = condition_frames(evs)\n",
        "  frames = frames[run]\n",
        "\n",
        "  # Initialize output array of shape Nregions x Ntime_frames_per_block\n",
        "  ts_condition = np.zeros((np.shape(ts)[0],np.shape(frames)[0]))\n",
        "  \n",
        "  # Fill per region\n",
        "  for region in range(np.shape(ts)[0]):\n",
        "    ts_condition[region,:] = ts[region][frames]\n",
        "\n",
        "  return ts_condition\n",
        "\n",
        "# loop over all subregions within a region, get the indices, combine\n",
        "#by Ruben\n",
        "def get_ts_condition_by_block(ts,subject,task,run,condition):\n",
        "  \"\"\"\n",
        "  Loads HCP timeseries data for the specified subject and run and condition.\n",
        "\n",
        "  INPUTS:\n",
        "    ts: timeseries (Nregions x Ntimepoints)\n",
        "    subject: subject number\n",
        "    task: task name\n",
        "    run: run number\n",
        "    condition: condition name\n",
        "\n",
        "  OUTPUT:\n",
        "    timeseries of condition for the subject and run, divided by blocks.\n",
        "    Returns a Nregions x Nblocks x time array.\n",
        "  \n",
        "  \"\"\"\n",
        "\n",
        "  # Load block onsets\n",
        "  evs = load_evs(subject,task,condition)\n",
        "\n",
        "  # Get all frames for condition in run\n",
        "  frames = condition_frames(evs)\n",
        "  frames = frames[run]\n",
        "\n",
        "  # Separate frames by blocks (split where frames numbers increase > 1)\n",
        "  frames = np.split(frames, np.where(np.diff(frames)>1)[0] + 1)\n",
        "\n",
        "  # Initialize output array of shape Nregions x Nblocks x Ntime_frames_per_block\n",
        "  ts_condition = np.zeros((np.shape(ts)[0],np.shape(frames)[0],np.shape(frames)[1]))\n",
        "\n",
        "  # Fill per block and region\n",
        "  for block in range(np.shape(frames)[0]):\n",
        "    for region in range(np.shape(ts)[0]):\n",
        "      ts_condition[region,block,:] = ts[region][frames[block]]\n",
        "  \n",
        "  return ts_condition"
      ],
      "execution_count": 5,
      "outputs": []
    },
    {
      "cell_type": "code",
      "metadata": {
        "id": "2D6dpzWPZAP3",
        "colab_type": "code",
        "colab": {}
      },
      "source": [
        "# Functions from Ruben \n",
        "\n",
        "def load_subject_rois(subject,run):\n",
        "  '''\n",
        "  Takes:\n",
        "    subject index\n",
        "    run index\n",
        "  Returns:\n",
        "    region x timeseries\n",
        "  Load all ROI timeseries for each subject and run \n",
        "  Average between all the subregions => 1 ROI time series\n",
        "  '''\n",
        "\n",
        "  ts = np.squeeze(load_timeseries(subject,'SOCIAL',runs=run,concat=True))\n",
        "  ts_all_rois = []\n",
        "  roi_indexes = []\n",
        "  for r in range(len(roi_names)):\n",
        "    subreg_indexes = []\n",
        "    for sr in roi_codes[r]:\n",
        "      index_list = regionsdf.index[regionsdf['name'].str.contains(sr)].tolist()\n",
        "      subreg_indexes = subreg_indexes + index_list\n",
        "    roi_indexes.append(subreg_indexes)\n",
        "\n",
        "  for r in range(len(roi_names)):\n",
        "    ts_roi = np.mean(ts[roi_indexes[r],],0)\n",
        "    ts_all_rois.append(ts_roi)\n",
        "  return ts_all_rois\n",
        "\n",
        "\n",
        "def calculate_granger_causality(ts,TR,f_ub=0.15,f_lb=0.02,order=None,max_order=10):\n",
        "  \"\"\"\n",
        "  Calculates Granger Causality in timeseries between all regions in both\n",
        "  directions, then calculates the difference between the two. Thus, a positive \n",
        "  value indicates stronger causality for region X on region Y, negative values\n",
        "  vice versa.\n",
        "\n",
        "  INPUT:\n",
        "    ts: time series (Nregions x Ntimepoints)\n",
        "    TR: repetition time of scanner during fMRI data acquisition\n",
        "    f_ub: \"physiologically relevant\" frequency upper bound (Default: 0.15)\n",
        "    f_lb: \"physiologically relevant\" frequency lower bound (Default: 0.02)\n",
        "    order: order of autoregressive model. Default is None, in which case the \n",
        "           order is determined automatically (max is max_order).\n",
        "    max_order: maximum order of autoregressive model (Default: 10)\n",
        "\n",
        "  OUTPUT:\n",
        "    returns GCdiff: Nregions x Nregions array with the difference in Granger \n",
        "                    Causality in direction X->Y versus Y->X for all combinations\n",
        "                    of regions.\n",
        "                    If the model did not converge at max_order, all elements of \n",
        "                    GCdiff are NaN\n",
        "  \"\"\"\n",
        "\n",
        "  # Normalize the data in each of the ROIs to be in units of % change\n",
        "  pdata = tsu.percent_change(ts)\n",
        "\n",
        "  # Initialize the TimeSeries object:\n",
        "  time_series = nts.TimeSeries(pdata, sampling_interval=TR)\n",
        "\n",
        "  # Initialize the GrangerAnalyzer object\n",
        "  G = nta.GrangerAnalyzer(time_series,order=order,max_order=max_order)\n",
        "\n",
        "  # We are only interested in the physiologically relevant frequency band \n",
        "  # (specified upper and lower bounds in f_ub and f_lb). Keep only the \n",
        "  # frequencies within that band\n",
        "  freq_idx_G = np.where((G.frequencies > f_lb) * (G.frequencies < f_ub))[0]\n",
        "\n",
        "  # Take the difference of causality in direction XY versus direction YX\n",
        "  try:\n",
        "    GCdiff = np.mean(G.causality_xy[:, :, freq_idx_G] - G.causality_yx[:, :, freq_idx_G], -1)\n",
        "  except ValueError:\n",
        "    GCdiff = np.empty((np.shape(ts)[0],np.shape(ts)[0]))\n",
        "    GCdiff[:] = np.NaN\n",
        "\n",
        "  return GCdiff"
      ],
      "execution_count": 6,
      "outputs": []
    },
    {
      "cell_type": "code",
      "metadata": {
        "id": "4YksE9meH1cK",
        "colab_type": "code",
        "colab": {
          "base_uri": "https://localhost:8080/",
          "height": 282
        },
        "outputId": "defd2615-dd24-4b06-aeac-16a8597b319f"
      },
      "source": [
        "subject_data = load_subject_rois(0,0)\n",
        "region1 = subject_data[0]\n",
        "region2 = subject_data[1]\n",
        "plt.plot(region1,label=roi_names[0]) \n",
        "plt.plot(region2,label=roi_names[1]) \n",
        "plt.legend()"
      ],
      "execution_count": 7,
      "outputs": [
        {
          "output_type": "execute_result",
          "data": {
            "text/plain": [
              "<matplotlib.legend.Legend at 0x7f2d8b1c6a58>"
            ]
          },
          "metadata": {
            "tags": []
          },
          "execution_count": 7
        },
        {
          "output_type": "display_data",
          "data": {
            "image/png": "[encoded data removed]",
            "text/plain": [
              "<Figure size 432x288 with 1 Axes>"
            ]
          },
          "metadata": {
            "tags": [],
            "needs_background": "light"
          }
        }
      ]
    },
    {
      "cell_type": "markdown",
      "metadata": {
        "id": "z0sqXIoHH4GP",
        "colab_type": "text"
      },
      "source": [
        "# Granger causality"
      ]
    },
    {
      "cell_type": "code",
      "metadata": {
        "id": "0-hGNz2OXEUF",
        "colab_type": "code",
        "colab": {}
      },
      "source": [
        "# define things\n",
        "subjects = range(N_SUBJECTS)\n",
        "conditions = [\"mental\", \"rnd\"]\n",
        "task = \"SOCIAL\"\n",
        "TR = 0.72 # time res\n",
        "f_ub = 0.15\n",
        "f_lb = 0.02 # physiologically relevant freqs"
      ],
      "execution_count": 8,
      "outputs": []
    },
    {
      "cell_type": "code",
      "metadata": {
        "id": "9SVC55cdN0tf",
        "colab_type": "code",
        "colab": {}
      },
      "source": [
        "# easy way to access the resulting matrix of GC values for all the regions\n",
        "from itertools import combinations \n",
        "#key - pair of region names\n",
        "#value - indices in GCdiff\n",
        "pairs = list(combinations(range(len(roi_names)), 2))\n",
        "region_pairs_GC = {}\n",
        "for i in range(len(pairs)):\n",
        "  key = roi_names[pairs[i][0]] + '_' + roi_names[pairs[i][1]]\n",
        "  region_pairs_GC[key] = pairs[i]"
      ],
      "execution_count": 9,
      "outputs": []
    },
    {
      "cell_type": "code",
      "metadata": {
        "id": "a2H7y5uBvCZ5",
        "colab_type": "code",
        "colab": {}
      },
      "source": [
        "# result - 4 columns (subject, region pair, condition, GC diff) - initialize\n",
        "columns = ['subject','region_pair', 'condition', 'GCdiff']\n",
        "allGCdata = pd.DataFrame(columns=columns)\n",
        "for subject in subjects:\n",
        "  for condition in conditions:\n",
        "    for rp in region_pairs_GC:\n",
        "      allGCdata = allGCdata.append({\n",
        "     \"subject\": subject,\n",
        "     \"region_pair\":  rp,\n",
        "     \"condition\": condition\n",
        "      }, ignore_index=True)"
      ],
      "execution_count": 10,
      "outputs": []
    },
    {
      "cell_type": "code",
      "metadata": {
        "id": "H1VNf2u75tDi",
        "colab_type": "code",
        "colab": {}
      },
      "source": [
        "# analysis \n",
        "fail = 0\n",
        "# Loop over subjects\n",
        "\n",
        "for subject in subjects:\n",
        "\n",
        "  # Get number of runs\n",
        "  runs = range(len(get_image_ids(task)))\n",
        "  \n",
        "  # Loop over conditions\n",
        "  for condition in conditions:\n",
        "\n",
        "    # Initialize empty matrix for GC scores (Nregions x Nregions x Nruns)\n",
        "    GCdiff = np.empty((np.shape(roi_names)[0],np.shape(roi_names)[0],np.shape(runs)[0]))\n",
        "    GCdiff[:] = np.nan\n",
        "  \n",
        "    # loop over runs\n",
        "    for run in runs:\n",
        "  \n",
        "      # Load time series of our regions of interest for this run\n",
        "      ts = load_subject_rois(subject,run=run)\n",
        "      # Get timeseries of this condition and run\n",
        "      ts_condition = get_ts_condition(ts,subject,task,run,condition)\n",
        "\n",
        "      # Calculate Granger Causality this condition and run for all connections\n",
        "      GCdiff[:,:,run] = calculate_granger_causality(ts_condition,TR)\n",
        "      \n",
        "      # Keep track of convergence errors\n",
        "      fail += np.isnan(GCdiff).all()\n",
        "\n",
        "    # Average this condition's GC score over both runs \n",
        "    GCdiff = np.mean(GCdiff,axis=2)\n",
        "\n",
        "    # Fill in final Granger Causality scores for this condition in data frame\n",
        "    for rp in region_pairs_GC:\n",
        "      GCvalue = GCdiff[region_pairs_GC[rp]]\n",
        "      allGCdata.loc[(allGCdata.subject == subject) & (allGCdata.region_pair==rp) & (allGCdata.condition==condition),\"GCdiff\"] = GCvalue"
      ],
      "execution_count": 11,
      "outputs": []
    },
    {
      "cell_type": "code",
      "metadata": {
        "id": "oHFJPfEJO-Z_",
        "colab_type": "code",
        "colab": {}
      },
      "source": [
        "# difference between mental and random GC\n",
        "mental=allGCdata.loc[allGCdata.condition==\"mental\"]\n",
        "random=allGCdata.loc[allGCdata.condition==\"rnd\"]\n"
      ],
      "execution_count": 206,
      "outputs": []
    },
    {
      "cell_type": "code",
      "metadata": {
        "id": "BM_VsgiuhqvM",
        "colab_type": "code",
        "colab": {
          "base_uri": "https://localhost:8080/",
          "height": 17
        },
        "outputId": "fd7daa3b-7c33-4228-9351-436fc5953d41"
      },
      "source": [
        "from google.colab import files\n",
        "allGCdata.to_csv('GCdata.csv') \n",
        "files.download('GCdata.csv')"
      ],
      "execution_count": 13,
      "outputs": [
        {
          "output_type": "display_data",
          "data": {
            "application/javascript": [
              "\n",
              "    async function download(id, filename, size) {\n",
              "      if (!google.colab.kernel.accessAllowed) {\n",
              "        return;\n",
              "      }\n",
              "      const div = document.createElement('div');\n",
              "      const label = document.createElement('label');\n",
              "      label.textContent = `Downloading \"${filename}\": `;\n",
              "      div.appendChild(label);\n",
              "      const progress = document.createElement('progress');\n",
              "      progress.max = size;\n",
              "      div.appendChild(progress);\n",
              "      document.body.appendChild(div);\n",
              "\n",
              "      const buffers = [];\n",
              "      let downloaded = 0;\n",
              "\n",
              "      const channel = await google.colab.kernel.comms.open(id);\n",
              "      // Send a message to notify the kernel that we're ready.\n",
              "      channel.send({})\n",
              "\n",
              "      for await (const message of channel.messages) {\n",
              "        // Send a message to notify the kernel that we're ready.\n",
              "        channel.send({})\n",
              "        if (message.buffers) {\n",
              "          for (const buffer of message.buffers) {\n",
              "            buffers.push(buffer);\n",
              "            downloaded += buffer.byteLength;\n",
              "            progress.value = downloaded;\n",
              "          }\n",
              "        }\n",
              "      }\n",
              "      const blob = new Blob(buffers, {type: 'application/binary'});\n",
              "      const a = document.createElement('a');\n",
              "      a.href = window.URL.createObjectURL(blob);\n",
              "      a.download = filename;\n",
              "      div.appendChild(a);\n",
              "      a.click();\n",
              "      div.remove();\n",
              "    }\n",
              "  "
            ],
            "text/plain": [
              "<IPython.core.display.Javascript object>"
            ]
          },
          "metadata": {
            "tags": []
          }
        },
        {
          "output_type": "display_data",
          "data": {
            "application/javascript": [
              "download(\"download_06db64fd-8a11-492b-8831-3818382714e2\", \"GCdata.csv\", 463905)"
            ],
            "text/plain": [
              "<IPython.core.display.Javascript object>"
            ]
          },
          "metadata": {
            "tags": []
          }
        }
      ]
    },
    {
      "cell_type": "markdown",
      "metadata": {
        "id": "sq1G7DiFNzR3",
        "colab_type": "text"
      },
      "source": [
        "# Stats"
      ]
    },
    {
      "cell_type": "code",
      "metadata": {
        "id": "LljS0aI8hcMH",
        "colab_type": "code",
        "colab": {
          "base_uri": "https://localhost:8080/",
          "height": 105
        },
        "outputId": "d8853b2b-d8ba-464a-d931-a1c196376609"
      },
      "source": [
        "# activate R magic\n",
        "%load_ext rpy2.ipython"
      ],
      "execution_count": 14,
      "outputs": [
        {
          "output_type": "stream",
          "text": [
            "/usr/local/lib/python3.6/dist-packages/rpy2/robjects/pandas2ri.py:14: FutureWarning: pandas.core.index is deprecated and will be removed in a future version.  The public classes are available in the top-level namespace.\n",
            "  from pandas.core.index import Index as PandasIndex\n",
            "/usr/local/lib/python3.6/dist-packages/rpy2/robjects/pandas2ri.py:34: UserWarning: pandas >= 1.0 is not supported.\n",
            "  warnings.warn('pandas >= 1.0 is not supported.')\n"
          ],
          "name": "stderr"
        }
      ]
    },
    {
      "cell_type": "code",
      "metadata": {
        "id": "uB_eAcZlloht",
        "colab_type": "code",
        "colab": {
          "base_uri": "https://localhost:8080/",
          "height": 833
        },
        "outputId": "f45d4a6f-9b82-4138-f9fd-e3a59913537c"
      },
      "source": [
        "%%R \n",
        "data = read.csv('/content/GCdata.csv')\n",
        "model1 <- lm(GCdiff ~ condition*region_pair, data = data)\n",
        "summary(model1)"
      ],
      "execution_count": 27,
      "outputs": [
        {
          "output_type": "stream",
          "text": [
            "\n",
            "Call:\n",
            "lm(formula = GCdiff ~ condition * region_pair, data = data)\n",
            "\n",
            "Residuals:\n",
            "     Min       1Q   Median       3Q      Max \n",
            "-0.80143 -0.05947 -0.00400  0.05636  1.19046 \n",
            "\n",
            "Coefficients:\n",
            "                                       Estimate Std. Error t value Pr(>|t|)    \n",
            "(Intercept)                            0.042456   0.006481   6.551 5.99e-11 ***\n",
            "conditionrnd                          -0.001803   0.009158  -0.197 0.843948    \n",
            "region_pairfusiform_MT                -0.030525   0.009165  -3.331 0.000870 ***\n",
            "region_pairinsula_MT                  -0.081319   0.009165  -8.873  < 2e-16 ***\n",
            "region_pairmPFC_fusiform              -0.077301   0.009165  -8.434  < 2e-16 ***\n",
            "region_pairmPFC_insula                -0.001874   0.009165  -0.204 0.838016    \n",
            "region_pairmPFC_MT                    -0.070065   0.009165  -7.645 2.29e-14 ***\n",
            "region_pairSTS_fusiform               -0.064103   0.009165  -6.994 2.84e-12 ***\n",
            "region_pairSTS_insula                  0.031550   0.009165   3.442 0.000579 ***\n",
            "region_pairSTS_mPFC                    0.023007   0.009165   2.510 0.012079 *  \n",
            "region_pairSTS_MT                     -0.049220   0.009165  -5.370 8.03e-08 ***\n",
            "region_pairSTS_TPOJ                   -0.132699   0.009165 -14.479  < 2e-16 ***\n",
            "region_pairTPOJ_fusiform               0.067690   0.009165   7.386 1.64e-13 ***\n",
            "region_pairTPOJ_insula                 0.014185   0.009165   1.548 0.121729    \n",
            "region_pairTPOJ_mPFC                  -0.002528   0.009165  -0.276 0.782694    \n",
            "region_pairTPOJ_MT                     0.102404   0.009165  11.173  < 2e-16 ***\n",
            "conditionrnd:region_pairfusiform_MT   -0.010975   0.012952  -0.847 0.396812    \n",
            "conditionrnd:region_pairinsula_MT     -0.006748   0.012952  -0.521 0.602353    \n",
            "conditionrnd:region_pairmPFC_fusiform  0.023076   0.012952   1.782 0.074836 .  \n",
            "conditionrnd:region_pairmPFC_insula   -0.005966   0.012952  -0.461 0.645086    \n",
            "conditionrnd:region_pairmPFC_MT        0.006211   0.012952   0.480 0.631537    \n",
            "conditionrnd:region_pairSTS_fusiform   0.036276   0.012952   2.801 0.005107 ** \n",
            "conditionrnd:region_pairSTS_insula    -0.017873   0.012952  -1.380 0.167628    \n",
            "conditionrnd:region_pairSTS_mPFC      -0.022983   0.012952  -1.774 0.076020 .  \n",
            "conditionrnd:region_pairSTS_MT        -0.007171   0.012952  -0.554 0.579805    \n",
            "conditionrnd:region_pairSTS_TPOJ       0.066893   0.012952   5.165 2.45e-07 ***\n",
            "conditionrnd:region_pairTPOJ_fusiform -0.008367   0.012952  -0.646 0.518291    \n",
            "conditionrnd:region_pairTPOJ_insula    0.001349   0.012952   0.104 0.917041    \n",
            "conditionrnd:region_pairTPOJ_mPFC     -0.012865   0.012952  -0.993 0.320599    \n",
            "conditionrnd:region_pairTPOJ_MT       -0.068107   0.012952  -5.258 1.48e-07 ***\n",
            "---\n",
            "Signif. codes:  0 ‘***’ 0.001 ‘**’ 0.01 ‘*’ 0.05 ‘.’ 0.1 ‘ ’ 1\n",
            "\n",
            "Residual standard error: 0.119 on 10095 degrees of freedom\n",
            "  (45 observations deleted due to missingness)\n",
            "Multiple R-squared:  0.157,\tAdjusted R-squared:  0.1545 \n",
            "F-statistic: 64.81 on 29 and 10095 DF,  p-value: < 2.2e-16\n",
            "\n"
          ],
          "name": "stdout"
        }
      ]
    },
    {
      "cell_type": "markdown",
      "metadata": {
        "id": "jGZuGhK1pBFu",
        "colab_type": "text"
      },
      "source": [
        "# Plots"
      ]
    },
    {
      "cell_type": "code",
      "metadata": {
        "id": "0o9woHhOGPSf",
        "colab_type": "code",
        "colab": {
          "base_uri": "https://localhost:8080/",
          "height": 419
        },
        "outputId": "33172e89-47cd-4a45-e9e0-d37b8b725757"
      },
      "source": [
        "# Plots\n",
        "fig, axes = plt.subplots(1,2,figsize=[10,5])\n",
        "# make boxplot with Seaborn\n",
        "#mental\n",
        "bplot1=sns.boxplot(y='GCdiff', x='region_pair', \n",
        "                 data=allGCdata.loc[allGCdata.condition==\"mental\"], \n",
        "                 width=0.5,\n",
        "                 palette=\"colorblind\",\n",
        "                 ax=axes[0])\n",
        "bplot1.set_title('mental')\n",
        "bplot1.axhline(0,color=\"black\",alpha=0.6)\n",
        "bplot1.set_xticklabels(rotation=45,labels=bplot1.get_xticklabels(),horizontalalignment='right')\n",
        "# random\n",
        "bplot2=sns.boxplot(y='GCdiff', x='region_pair', \n",
        "                 data=allGCdata.loc[allGCdata.condition==\"rnd\"], \n",
        "                 width=0.5,\n",
        "                 palette=\"colorblind\",\n",
        "                 ax=axes[1])\n",
        "bplot2.set_title('random')\n",
        "bplot2.axhline(0,color=\"black\",alpha=0.6)\n",
        "bplot2.set_xticklabels(rotation=45,labels=bplot2.get_xticklabels(),horizontalalignment='right')\n",
        "plt.setp(axes, yticks=[])\n",
        "# if GC > 0 - X=>Y is stronger than Y=>X"
      ],
      "execution_count": 205,
      "outputs": [
        {
          "output_type": "execute_result",
          "data": {
            "text/plain": [
              "[]"
            ]
          },
          "metadata": {
            "tags": []
          },
          "execution_count": 205
        },
        {
          "output_type": "display_data",
          "data": {
            "image/png": "[encoded data removed]",
            "text/plain": [
              "<Figure size 720x360 with 2 Axes>"
            ]
          },
          "metadata": {
            "tags": [],
            "needs_background": "light"
          }
        }
      ]
    },
    {
      "cell_type": "code",
      "metadata": {
        "id": "ZiZeW86No-qj",
        "colab_type": "code",
        "colab": {
          "base_uri": "https://localhost:8080/",
          "height": 198
        },
        "outputId": "987b80cc-dc3d-4904-aa5c-acc50eeaad29"
      },
      "source": [
        "# Plots\n",
        "!pip install nilearn --quiet\n",
        "from nilearn import plotting, datasets"
      ],
      "execution_count": 29,
      "outputs": [
        {
          "output_type": "error",
          "ename": "NameError",
          "evalue": "ignored",
          "traceback": [
            "\u001b[0;31m---------------------------------------------------------------------------\u001b[0m",
            "\u001b[0;31mNameError\u001b[0m                                 Traceback (most recent call last)",
            "\u001b[0;32m<ipython-input-29-5f2859a0d8a8>\u001b[0m in \u001b[0;36m<module>\u001b[0;34m()\u001b[0m\n\u001b[1;32m      2\u001b[0m \u001b[0mget_ipython\u001b[0m\u001b[0;34m(\u001b[0m\u001b[0;34m)\u001b[0m\u001b[0;34m.\u001b[0m\u001b[0msystem\u001b[0m\u001b[0;34m(\u001b[0m\u001b[0;34m'pip install nilearn --quiet'\u001b[0m\u001b[0;34m)\u001b[0m\u001b[0;34m\u001b[0m\u001b[0;34m\u001b[0m\u001b[0m\n\u001b[1;32m      3\u001b[0m \u001b[0;32mfrom\u001b[0m \u001b[0mnilearn\u001b[0m \u001b[0;32mimport\u001b[0m \u001b[0mplotting\u001b[0m\u001b[0;34m,\u001b[0m \u001b[0mdatasets\u001b[0m\u001b[0;34m\u001b[0m\u001b[0;34m\u001b[0m\u001b[0m\n\u001b[0;32m----> 4\u001b[0;31m \u001b[0mplotting\u001b[0m\u001b[0;34m.\u001b[0m\u001b[0mplot_roi\u001b[0m\u001b[0;34m(\u001b[0m\u001b[0mgroup_fc\u001b[0m\u001b[0;34m,\u001b[0m \u001b[0matlas\u001b[0m\u001b[0;34m[\u001b[0m\u001b[0;34m\"coords\"\u001b[0m\u001b[0;34m]\u001b[0m\u001b[0;34m,\u001b[0m \u001b[0medge_threshold\u001b[0m\u001b[0;34m=\u001b[0m\u001b[0;34m\"99%\"\u001b[0m\u001b[0;34m)\u001b[0m\u001b[0;34m\u001b[0m\u001b[0;34m\u001b[0m\u001b[0m\n\u001b[0m",
            "\u001b[0;31mNameError\u001b[0m: name 'group_fc' is not defined"
          ]
        }
      ]
    },
    {
      "cell_type": "code",
      "metadata": {
        "id": "1nL7Cb0NrYtH",
        "colab_type": "code",
        "colab": {}
      },
      "source": [
        "with np.load(f\"{HCP_DIR}/atlas.npz\") as dobj:\n",
        "  atlas = dict(**dobj)"
      ],
      "execution_count": 34,
      "outputs": []
    },
    {
      "cell_type": "code",
      "metadata": {
        "id": "MmygEneXrHum",
        "colab_type": "code",
        "colab": {
          "base_uri": "https://localhost:8080/",
          "height": 324
        },
        "outputId": "d31477a4-0d29-4348-c02c-4e19d8fabd77"
      },
      "source": [
        "plotting.plot_roi(atlas[\"coords\"])"
      ],
      "execution_count": 35,
      "outputs": [
        {
          "output_type": "error",
          "ename": "TypeError",
          "evalue": "ignored",
          "traceback": [
            "\u001b[0;31m---------------------------------------------------------------------------\u001b[0m",
            "\u001b[0;31mTypeError\u001b[0m                                 Traceback (most recent call last)",
            "\u001b[0;32m<ipython-input-35-a320f66c7bf5>\u001b[0m in \u001b[0;36m<module>\u001b[0;34m()\u001b[0m\n\u001b[0;32m----> 1\u001b[0;31m \u001b[0mplotting\u001b[0m\u001b[0;34m.\u001b[0m\u001b[0mplot_roi\u001b[0m\u001b[0;34m(\u001b[0m\u001b[0matlas\u001b[0m\u001b[0;34m[\u001b[0m\u001b[0;34m\"coords\"\u001b[0m\u001b[0;34m]\u001b[0m\u001b[0;34m)\u001b[0m\u001b[0;34m\u001b[0m\u001b[0;34m\u001b[0m\u001b[0m\n\u001b[0m",
            "\u001b[0;32m/usr/local/lib/python3.6/dist-packages/nilearn/plotting/img_plotting.py\u001b[0m in \u001b[0;36mplot_roi\u001b[0;34m(roi_img, bg_img, cut_coords, output_file, display_mode, figure, axes, title, annotate, draw_cross, black_bg, threshold, alpha, cmap, dim, vmin, vmax, resampling_interpolation, **kwargs)\u001b[0m\n\u001b[1;32m    728\u001b[0m         \u001b[0mthreshold\u001b[0m\u001b[0;34m=\u001b[0m\u001b[0mthreshold\u001b[0m\u001b[0;34m,\u001b[0m \u001b[0mbg_vmin\u001b[0m\u001b[0;34m=\u001b[0m\u001b[0mbg_vmin\u001b[0m\u001b[0;34m,\u001b[0m \u001b[0mbg_vmax\u001b[0m\u001b[0;34m=\u001b[0m\u001b[0mbg_vmax\u001b[0m\u001b[0;34m,\u001b[0m\u001b[0;34m\u001b[0m\u001b[0;34m\u001b[0m\u001b[0m\n\u001b[1;32m    729\u001b[0m         \u001b[0mresampling_interpolation\u001b[0m\u001b[0;34m=\u001b[0m\u001b[0mresampling_interpolation\u001b[0m\u001b[0;34m,\u001b[0m\u001b[0;34m\u001b[0m\u001b[0;34m\u001b[0m\u001b[0m\n\u001b[0;32m--> 730\u001b[0;31m         alpha=alpha, cmap=cmap, vmin=vmin, vmax=vmax, **kwargs)\n\u001b[0m\u001b[1;32m    731\u001b[0m     \u001b[0;32mreturn\u001b[0m \u001b[0mdisplay\u001b[0m\u001b[0;34m\u001b[0m\u001b[0;34m\u001b[0m\u001b[0m\n\u001b[1;32m    732\u001b[0m \u001b[0;34m\u001b[0m\u001b[0m\n",
            "\u001b[0;32m/usr/local/lib/python3.6/dist-packages/nilearn/plotting/img_plotting.py\u001b[0m in \u001b[0;36m_plot_img_with_bg\u001b[0;34m(img, bg_img, cut_coords, output_file, display_mode, colorbar, figure, axes, title, threshold, annotate, draw_cross, black_bg, vmin, vmax, bg_vmin, bg_vmax, interpolation, display_factory, cbar_vmin, cbar_vmax, brain_color, **kwargs)\u001b[0m\n\u001b[1;32m    155\u001b[0m \u001b[0;34m\u001b[0m\u001b[0m\n\u001b[1;32m    156\u001b[0m     \u001b[0;32mif\u001b[0m \u001b[0mimg\u001b[0m \u001b[0;32mis\u001b[0m \u001b[0;32mnot\u001b[0m \u001b[0;32mFalse\u001b[0m \u001b[0;32mand\u001b[0m \u001b[0mimg\u001b[0m \u001b[0;32mis\u001b[0m \u001b[0;32mnot\u001b[0m \u001b[0;32mNone\u001b[0m\u001b[0;34m:\u001b[0m\u001b[0;34m\u001b[0m\u001b[0;34m\u001b[0m\u001b[0m\n\u001b[0;32m--> 157\u001b[0;31m         \u001b[0mimg\u001b[0m \u001b[0;34m=\u001b[0m \u001b[0m_utils\u001b[0m\u001b[0;34m.\u001b[0m\u001b[0mcheck_niimg_3d\u001b[0m\u001b[0;34m(\u001b[0m\u001b[0mimg\u001b[0m\u001b[0;34m,\u001b[0m \u001b[0mdtype\u001b[0m\u001b[0;34m=\u001b[0m\u001b[0;34m'auto'\u001b[0m\u001b[0;34m)\u001b[0m\u001b[0;34m\u001b[0m\u001b[0;34m\u001b[0m\u001b[0m\n\u001b[0m\u001b[1;32m    158\u001b[0m         \u001b[0mdata\u001b[0m \u001b[0;34m=\u001b[0m \u001b[0m_safe_get_data\u001b[0m\u001b[0;34m(\u001b[0m\u001b[0mimg\u001b[0m\u001b[0;34m,\u001b[0m \u001b[0mensure_finite\u001b[0m\u001b[0;34m=\u001b[0m\u001b[0;32mTrue\u001b[0m\u001b[0;34m)\u001b[0m\u001b[0;34m\u001b[0m\u001b[0;34m\u001b[0m\u001b[0m\n\u001b[1;32m    159\u001b[0m         \u001b[0maffine\u001b[0m \u001b[0;34m=\u001b[0m \u001b[0mimg\u001b[0m\u001b[0;34m.\u001b[0m\u001b[0maffine\u001b[0m\u001b[0;34m\u001b[0m\u001b[0;34m\u001b[0m\u001b[0m\n",
            "\u001b[0;32m/usr/local/lib/python3.6/dist-packages/nilearn/_utils/niimg_conversions.py\u001b[0m in \u001b[0;36mcheck_niimg_3d\u001b[0;34m(niimg, dtype)\u001b[0m\n\u001b[1;32m    314\u001b[0m     \u001b[0mIts\u001b[0m \u001b[0mapplication\u001b[0m \u001b[0;32mis\u001b[0m \u001b[0midempotent\u001b[0m\u001b[0;34m.\u001b[0m\u001b[0;34m\u001b[0m\u001b[0;34m\u001b[0m\u001b[0m\n\u001b[1;32m    315\u001b[0m     \"\"\"\n\u001b[0;32m--> 316\u001b[0;31m     \u001b[0;32mreturn\u001b[0m \u001b[0mcheck_niimg\u001b[0m\u001b[0;34m(\u001b[0m\u001b[0mniimg\u001b[0m\u001b[0;34m,\u001b[0m \u001b[0mensure_ndim\u001b[0m\u001b[0;34m=\u001b[0m\u001b[0;36m3\u001b[0m\u001b[0;34m,\u001b[0m \u001b[0mdtype\u001b[0m\u001b[0;34m=\u001b[0m\u001b[0mdtype\u001b[0m\u001b[0;34m)\u001b[0m\u001b[0;34m\u001b[0m\u001b[0;34m\u001b[0m\u001b[0m\n\u001b[0m\u001b[1;32m    317\u001b[0m \u001b[0;34m\u001b[0m\u001b[0m\n\u001b[1;32m    318\u001b[0m \u001b[0;34m\u001b[0m\u001b[0m\n",
            "\u001b[0;32m/usr/local/lib/python3.6/dist-packages/nilearn/_utils/niimg_conversions.py\u001b[0m in \u001b[0;36mcheck_niimg\u001b[0;34m(niimg, ensure_ndim, atleast_4d, dtype, return_iterator, wildcards)\u001b[0m\n\u001b[1;32m    258\u001b[0m             return _iter_check_niimg(niimg, ensure_ndim=ensure_ndim,\n\u001b[1;32m    259\u001b[0m                                      dtype=dtype)\n\u001b[0;32m--> 260\u001b[0;31m         \u001b[0;32mreturn\u001b[0m \u001b[0mconcat_niimgs\u001b[0m\u001b[0;34m(\u001b[0m\u001b[0mniimg\u001b[0m\u001b[0;34m,\u001b[0m \u001b[0mensure_ndim\u001b[0m\u001b[0;34m=\u001b[0m\u001b[0mensure_ndim\u001b[0m\u001b[0;34m,\u001b[0m \u001b[0mdtype\u001b[0m\u001b[0;34m=\u001b[0m\u001b[0mdtype\u001b[0m\u001b[0;34m)\u001b[0m\u001b[0;34m\u001b[0m\u001b[0;34m\u001b[0m\u001b[0m\n\u001b[0m\u001b[1;32m    261\u001b[0m \u001b[0;34m\u001b[0m\u001b[0m\n\u001b[1;32m    262\u001b[0m     \u001b[0;31m# Otherwise, it should be a filename or a SpatialImage, we load it\u001b[0m\u001b[0;34m\u001b[0m\u001b[0;34m\u001b[0m\u001b[0;34m\u001b[0m\u001b[0m\n",
            "\u001b[0;32m/usr/local/lib/python3.6/dist-packages/nilearn/_utils/niimg_conversions.py\u001b[0m in \u001b[0;36mconcat_niimgs\u001b[0;34m(niimgs, dtype, ensure_ndim, memory, memory_level, auto_resample, verbose)\u001b[0m\n\u001b[1;32m    421\u001b[0m     \u001b[0miterator\u001b[0m\u001b[0;34m,\u001b[0m \u001b[0mliterator\u001b[0m \u001b[0;34m=\u001b[0m \u001b[0mitertools\u001b[0m\u001b[0;34m.\u001b[0m\u001b[0mtee\u001b[0m\u001b[0;34m(\u001b[0m\u001b[0miter\u001b[0m\u001b[0;34m(\u001b[0m\u001b[0mniimgs\u001b[0m\u001b[0;34m)\u001b[0m\u001b[0;34m)\u001b[0m\u001b[0;34m\u001b[0m\u001b[0;34m\u001b[0m\u001b[0m\n\u001b[1;32m    422\u001b[0m     \u001b[0;32mtry\u001b[0m\u001b[0;34m:\u001b[0m\u001b[0;34m\u001b[0m\u001b[0;34m\u001b[0m\u001b[0m\n\u001b[0;32m--> 423\u001b[0;31m         \u001b[0mfirst_niimg\u001b[0m \u001b[0;34m=\u001b[0m \u001b[0mcheck_niimg\u001b[0m\u001b[0;34m(\u001b[0m\u001b[0mnext\u001b[0m\u001b[0;34m(\u001b[0m\u001b[0mliterator\u001b[0m\u001b[0;34m)\u001b[0m\u001b[0;34m,\u001b[0m \u001b[0mensure_ndim\u001b[0m\u001b[0;34m=\u001b[0m\u001b[0mndim\u001b[0m\u001b[0;34m)\u001b[0m\u001b[0;34m\u001b[0m\u001b[0;34m\u001b[0m\u001b[0m\n\u001b[0m\u001b[1;32m    424\u001b[0m     \u001b[0;32mexcept\u001b[0m \u001b[0mStopIteration\u001b[0m\u001b[0;34m:\u001b[0m\u001b[0;34m\u001b[0m\u001b[0;34m\u001b[0m\u001b[0m\n\u001b[1;32m    425\u001b[0m         \u001b[0;32mraise\u001b[0m \u001b[0mTypeError\u001b[0m\u001b[0;34m(\u001b[0m\u001b[0;34m'Cannot concatenate empty objects'\u001b[0m\u001b[0;34m)\u001b[0m\u001b[0;34m\u001b[0m\u001b[0;34m\u001b[0m\u001b[0m\n",
            "\u001b[0;32m/usr/local/lib/python3.6/dist-packages/nilearn/_utils/niimg_conversions.py\u001b[0m in \u001b[0;36mcheck_niimg\u001b[0;34m(niimg, ensure_ndim, atleast_4d, dtype, return_iterator, wildcards)\u001b[0m\n\u001b[1;32m    258\u001b[0m             return _iter_check_niimg(niimg, ensure_ndim=ensure_ndim,\n\u001b[1;32m    259\u001b[0m                                      dtype=dtype)\n\u001b[0;32m--> 260\u001b[0;31m         \u001b[0;32mreturn\u001b[0m \u001b[0mconcat_niimgs\u001b[0m\u001b[0;34m(\u001b[0m\u001b[0mniimg\u001b[0m\u001b[0;34m,\u001b[0m \u001b[0mensure_ndim\u001b[0m\u001b[0;34m=\u001b[0m\u001b[0mensure_ndim\u001b[0m\u001b[0;34m,\u001b[0m \u001b[0mdtype\u001b[0m\u001b[0;34m=\u001b[0m\u001b[0mdtype\u001b[0m\u001b[0;34m)\u001b[0m\u001b[0;34m\u001b[0m\u001b[0;34m\u001b[0m\u001b[0m\n\u001b[0m\u001b[1;32m    261\u001b[0m \u001b[0;34m\u001b[0m\u001b[0m\n\u001b[1;32m    262\u001b[0m     \u001b[0;31m# Otherwise, it should be a filename or a SpatialImage, we load it\u001b[0m\u001b[0;34m\u001b[0m\u001b[0;34m\u001b[0m\u001b[0;34m\u001b[0m\u001b[0m\n",
            "\u001b[0;32m/usr/local/lib/python3.6/dist-packages/nilearn/_utils/niimg_conversions.py\u001b[0m in \u001b[0;36mconcat_niimgs\u001b[0;34m(niimgs, dtype, ensure_ndim, memory, memory_level, auto_resample, verbose)\u001b[0m\n\u001b[1;32m    421\u001b[0m     \u001b[0miterator\u001b[0m\u001b[0;34m,\u001b[0m \u001b[0mliterator\u001b[0m \u001b[0;34m=\u001b[0m \u001b[0mitertools\u001b[0m\u001b[0;34m.\u001b[0m\u001b[0mtee\u001b[0m\u001b[0;34m(\u001b[0m\u001b[0miter\u001b[0m\u001b[0;34m(\u001b[0m\u001b[0mniimgs\u001b[0m\u001b[0;34m)\u001b[0m\u001b[0;34m)\u001b[0m\u001b[0;34m\u001b[0m\u001b[0;34m\u001b[0m\u001b[0m\n\u001b[1;32m    422\u001b[0m     \u001b[0;32mtry\u001b[0m\u001b[0;34m:\u001b[0m\u001b[0;34m\u001b[0m\u001b[0;34m\u001b[0m\u001b[0m\n\u001b[0;32m--> 423\u001b[0;31m         \u001b[0mfirst_niimg\u001b[0m \u001b[0;34m=\u001b[0m \u001b[0mcheck_niimg\u001b[0m\u001b[0;34m(\u001b[0m\u001b[0mnext\u001b[0m\u001b[0;34m(\u001b[0m\u001b[0mliterator\u001b[0m\u001b[0;34m)\u001b[0m\u001b[0;34m,\u001b[0m \u001b[0mensure_ndim\u001b[0m\u001b[0;34m=\u001b[0m\u001b[0mndim\u001b[0m\u001b[0;34m)\u001b[0m\u001b[0;34m\u001b[0m\u001b[0;34m\u001b[0m\u001b[0m\n\u001b[0m\u001b[1;32m    424\u001b[0m     \u001b[0;32mexcept\u001b[0m \u001b[0mStopIteration\u001b[0m\u001b[0;34m:\u001b[0m\u001b[0;34m\u001b[0m\u001b[0;34m\u001b[0m\u001b[0m\n\u001b[1;32m    425\u001b[0m         \u001b[0;32mraise\u001b[0m \u001b[0mTypeError\u001b[0m\u001b[0;34m(\u001b[0m\u001b[0;34m'Cannot concatenate empty objects'\u001b[0m\u001b[0;34m)\u001b[0m\u001b[0;34m\u001b[0m\u001b[0;34m\u001b[0m\u001b[0m\n",
            "\u001b[0;32m/usr/local/lib/python3.6/dist-packages/nilearn/_utils/niimg_conversions.py\u001b[0m in \u001b[0;36mcheck_niimg\u001b[0;34m(niimg, ensure_ndim, atleast_4d, dtype, return_iterator, wildcards)\u001b[0m\n\u001b[1;32m    261\u001b[0m \u001b[0;34m\u001b[0m\u001b[0m\n\u001b[1;32m    262\u001b[0m     \u001b[0;31m# Otherwise, it should be a filename or a SpatialImage, we load it\u001b[0m\u001b[0;34m\u001b[0m\u001b[0;34m\u001b[0m\u001b[0;34m\u001b[0m\u001b[0m\n\u001b[0;32m--> 263\u001b[0;31m     \u001b[0mniimg\u001b[0m \u001b[0;34m=\u001b[0m \u001b[0mload_niimg\u001b[0m\u001b[0;34m(\u001b[0m\u001b[0mniimg\u001b[0m\u001b[0;34m,\u001b[0m \u001b[0mdtype\u001b[0m\u001b[0;34m=\u001b[0m\u001b[0mdtype\u001b[0m\u001b[0;34m)\u001b[0m\u001b[0;34m\u001b[0m\u001b[0;34m\u001b[0m\u001b[0m\n\u001b[0m\u001b[1;32m    264\u001b[0m \u001b[0;34m\u001b[0m\u001b[0m\n\u001b[1;32m    265\u001b[0m     \u001b[0;32mif\u001b[0m \u001b[0mensure_ndim\u001b[0m \u001b[0;34m==\u001b[0m \u001b[0;36m3\u001b[0m \u001b[0;32mand\u001b[0m \u001b[0mlen\u001b[0m\u001b[0;34m(\u001b[0m\u001b[0mniimg\u001b[0m\u001b[0;34m.\u001b[0m\u001b[0mshape\u001b[0m\u001b[0;34m)\u001b[0m \u001b[0;34m==\u001b[0m \u001b[0;36m4\u001b[0m \u001b[0;32mand\u001b[0m \u001b[0mniimg\u001b[0m\u001b[0;34m.\u001b[0m\u001b[0mshape\u001b[0m\u001b[0;34m[\u001b[0m\u001b[0;36m3\u001b[0m\u001b[0;34m]\u001b[0m \u001b[0;34m==\u001b[0m \u001b[0;36m1\u001b[0m\u001b[0;34m:\u001b[0m\u001b[0;34m\u001b[0m\u001b[0;34m\u001b[0m\u001b[0m\n",
            "\u001b[0;32m/usr/local/lib/python3.6/dist-packages/nilearn/_utils/niimg.py\u001b[0m in \u001b[0;36mload_niimg\u001b[0;34m(niimg, dtype)\u001b[0m\n\u001b[1;32m    123\u001b[0m         raise TypeError(\"Data given cannot be loaded because it is\"\n\u001b[1;32m    124\u001b[0m                         \u001b[0;34m\" not compatible with nibabel format:\\n\"\u001b[0m\u001b[0;34m\u001b[0m\u001b[0;34m\u001b[0m\u001b[0m\n\u001b[0;32m--> 125\u001b[0;31m                         + short_repr(niimg))\n\u001b[0m\u001b[1;32m    126\u001b[0m \u001b[0;34m\u001b[0m\u001b[0m\n\u001b[1;32m    127\u001b[0m     \u001b[0mdtype\u001b[0m \u001b[0;34m=\u001b[0m \u001b[0m_get_target_dtype\u001b[0m\u001b[0;34m(\u001b[0m\u001b[0m_get_data\u001b[0m\u001b[0;34m(\u001b[0m\u001b[0mniimg\u001b[0m\u001b[0;34m)\u001b[0m\u001b[0;34m.\u001b[0m\u001b[0mdtype\u001b[0m\u001b[0;34m,\u001b[0m \u001b[0mdtype\u001b[0m\u001b[0;34m)\u001b[0m\u001b[0;34m\u001b[0m\u001b[0;34m\u001b[0m\u001b[0m\n",
            "\u001b[0;31mTypeError\u001b[0m: Data given cannot be loaded because it is not compatible with nibabel format:\n13.887050617306127"
          ]
        }
      ]
    }
  ]
}